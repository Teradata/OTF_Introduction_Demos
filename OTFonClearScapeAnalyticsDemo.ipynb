{
 "cells": [
  {
   "cell_type": "markdown",
   "id": "998d1948-c661-4bbc-94e1-9838a7c72507",
   "metadata": {},
   "source": [
    "<header>\n",
    "   <p  style='font-size:36px;font-family:Arial; color:#F0F0F0; background-color: #00233c; padding-left: 20pt; padding-top: 20pt;padding-bottom: 10pt; padding-right: 20pt;'>\n",
    "       Open Table Formats on Teradata - ClearScape Analytics Demo\n",
    "  <br>\n",
    "       <img id=\"teradata-logo\" src=\"images/TeradataLogo.png\" alt=\"Teradata\" style=\"width: 125px; height: auto; margin-top: 20pt;\">\n",
    "    </p>\n",
    "</header>\n",
    "<hr>"
   ]
  },
  {
   "cell_type": "markdown",
   "id": "410de715-9de9-4867-b55a-cd676b0691ca",
   "metadata": {
    "tags": []
   },
   "source": [
    "<header>\n",
    "   <p  style='font-size:36px;font-family:Arial; color:#F0F0F0; background-color: #ffffff; padding-left: 20pt; padding-top: 20pt;padding-bottom: 10pt; padding-right: 20pt;'>\n",
    "       <img id=\"open-table-format\" src=\"images/OTFDiagram2.png\" alt=\"OTF\" style=\"height: auto; margin-top: 20pt;\">\n",
    "    </p>\n",
    "</header>\n",
    "<hr>"
   ]
  },
  {
   "cell_type": "markdown",
   "id": "d795985e-b11b-4e9d-b562-b2ed793b9b2d",
   "metadata": {},
   "source": [
    "<p style = 'font-size:20px;font-family:Arial;color:#00233C'><b>Introduction</b></p>\n",
    "<p style = 'font-size:16px;font-family:Arial;color:#00233C'>\n",
    "In this example we will be analyzing the number of complaints over time received by the Consumer Financial Protection Bureau (CFPB).</p>\n",
    "<p style = 'font-size:16px;font-family:Arial;color:#00233C'>\n",
    "How can we use Vantage and OTFs to extract insights and tell a story behind a dataset? In this use case, you will see how powerful and simple it is to extract answers from a public dataset available through <a href=\"http://data.gov\">Data.gov</a>. We use SQL and a visualization tool to analyze the number of complaints over time to answer the following questions:</p>\n",
    "<p style = 'font-size:16px;font-family:Arial;color:#00233C'>\n",
    " <i>What are the trends of complaints over time? How can we interpret the outliers in the dataset?</i>\n",
    "</p>\n",
    "<p style = 'font-size:16px;font-family:Arial;color:#00233C'>    \n",
    "By answering questions like the ones above, we gain a deeper understanding of the dataset, and we can explain in plain language how the number of complaints evolve over time. In the Explore section, we focus on analyzing the number of complaints over time and identifying trends and outliers in the time series to answer the questions above.\n",
    "</p>    "
   ]
  },
  {
   "cell_type": "markdown",
   "id": "a6f431e7-32f3-42b4-b0a6-984cfd6d515d",
   "metadata": {},
   "source": [
    "<hr style=\"height:2px;border:none;background-color:#00233C;\">\n",
    "<p style = 'font-size:20px;font-family:Arial;color:#00233C'><b>1. Connect to Vantage</b></p>\n",
    "\n",
    "<p style = 'font-size:16px;font-family:Arial;color:#00233C'>Let’s start by connecting to our VantageCloud environment. This enables us to execute queries directly against Iceberg tables stored across clouds.</p>"
   ]
  },
  {
   "cell_type": "code",
   "execution_count": null,
   "id": "1adde4a4-d2b4-4b12-95c8-eec500eca987",
   "metadata": {
    "tags": [],
    "vscode": {
     "languageId": "teradata sql"
    }
   },
   "outputs": [],
   "source": [
    "%connect otf_demo_env"
   ]
  },
  {
   "cell_type": "markdown",
   "id": "18d8cdfb-d3d9-4cdc-ace1-3ab8ba371242",
   "metadata": {},
   "source": [
    "<p style = 'font-size:18px;font-family:Arial;color:#00233C'><b>Getting Data for This Demo</b></p>\n",
    "<p style = 'font-size:16px;font-family:Arial;color:#00233C'>For this demo, we are using Open Table Formats (OTF) data stored in a cloud data lake on AWS S3. Specifically, the dataset is managed using the Iceberg table format with the AWS Glue catalog.\n",
    "\n",
    "<p style = 'font-size:16px;font-family:Arial;color:#00233C'>Because we are demonstrating schema evolution features, we will create datalakes and catalogs locally in Teradata VantageCloud and access them through the notebook interface.\n",
    "\n",
    "<p style = 'font-size:16px;font-family:Arial;color:#00233C'>The following SQL cell creates a datalake called iceberg_glue in the Teradata server database (TD_SERVER_DB). It configures the datalake to use the Iceberg table format, pointing to the S3 bucket location, with appropriate external security invoker settings for the catalog and storage.\n",
    "\n",
    "<p style = 'font-size:16px;font-family:Arial;color:#00233C'>Please run the cell to initialize the datalake and catalog connection. This will allow subsequent queries to interact with Iceberg-managed data on AWS S3 as native Teradata tables.\n",
    "\n",
    "</p>"
   ]
  },
  {
   "cell_type": "code",
   "execution_count": null,
   "id": "418b8380-37e1-400d-924a-1f414c08c53c",
   "metadata": {
    "tags": [],
    "vscode": {
     "languageId": "teradata sql"
    }
   },
   "outputs": [],
   "source": [
    "CREATE DATALAKE TD_SERVER_DB.iceberg_glue  \n",
    "\n",
    "EXTERNAL SECURITY INVOKER TRUSTED CATALOG ICEBERG_INVOKER_SIMPLE , \n",
    "\n",
    "EXTERNAL SECURITY INVOKER TRUSTED STORAGE ICEBERG_INVOKER_SIMPLE  \n",
    "\n",
    "USING  \n",
    "\n",
    "catalog_type  ('glue') \n",
    "\n",
    "catalog_location  ('<CATALOG LOCATION>') \n",
    "\n",
    "storage_location  ('<STORAGE LOCATION>') \n",
    "\n",
    "storage_region  ('us-west-2') \n",
    "\n",
    "TABLE FORMAT iceberg ; "
   ]
  },
  {
   "cell_type": "markdown",
   "id": "7c2411bc-9f4a-409f-8a2e-902080cc7ec0",
   "metadata": {},
   "source": [
    "<hr style=\"height:2px;border:none;background-color:#00233C;\">\n",
    "<p style = 'font-size:20px;font-family:Arial;color:#00233C'><b>2. Querying the Data</b></p>\n",
    "<p style = 'font-size:16px;font-family:Arial;color:#00233C'>We have made our connection to the Vantage system, now let's start exploring the data. Not a problem to analyze large datasets using Vantage, lets take a look at a sample of the data.</p>"
   ]
  },
  {
   "cell_type": "code",
   "execution_count": null,
   "id": "a877728c-8ec7-4649-a268-69ec97e4599c",
   "metadata": {
    "vscode": {
     "languageId": "teradata sql"
    }
   },
   "outputs": [],
   "source": [
    "HELP TABLE"
   ]
  },
  {
   "cell_type": "code",
   "execution_count": null,
   "id": "22243cfd-b2c8-4567-a9a2-666868bd8184",
   "metadata": {
    "tags": [],
    "vscode": {
     "languageId": "teradata sql"
    }
   },
   "outputs": [],
   "source": [
    "SELECT TOP 40 * FROM iceberg_glue.vim.consumer_complaints; "
   ]
  },
  {
   "cell_type": "markdown",
   "id": "7c07c682-a836-44a9-9ca0-73c2ab1b02be",
   "metadata": {
    "tags": []
   },
   "source": [
    "<hr style=\"height:2px;border:none;background-color:#00233C;\">\n",
    "<p style = 'font-size:20px;font-family:Arial;color:#00233C'><b>3. Visualizing the Data</b></p>\n",
    "<p style = 'font-size:16px;font-family:Arial;color:#00233C'>\n",
    "From the query above, we notice that this dataset has a lot of information. To derive some insights, we need to start grouping the data.</p>\n",
    "<p style = 'font-size:16px;font-family:Arial;color:#00233C'>\n",
    "The first column is <b>date_received</b>. This is the date the complaints were received, and it means that we can look at a time series plot of the data. Let's start by grouping the counts of <b>complaint_id</b> over time, using <b>date_received</b> as our time axis.</p>"
   ]
  },
  {
   "cell_type": "code",
   "execution_count": null,
   "id": "e96421c9-49b2-471d-819c-3e4c0e70e740",
   "metadata": {
    "tags": [],
    "vscode": {
     "languageId": "teradata sql"
    }
   },
   "outputs": [],
   "source": [
    "select date_received, count(complaint_id) as counts\n",
    "from iceberg_glue.vim.consumer_complaints\n",
    "group by date_received;"
   ]
  },
  {
   "cell_type": "markdown",
   "id": "073a4119-a741-4dfc-b7d5-fa3a1f479246",
   "metadata": {},
   "source": [
    "<p style = 'font-size:16px;font-family:Arial;color:#00233C'>\n",
    "By visualizing the data above, we can see that the number of complaints varies a lot over time and there also seem to be more complaints as time progresses. There are also some unusual spikes in 2017. Let's understand more about our data. We start by looking at the general trend.\n",
    "<br>\n",
    "<br>\n",
    "Let's group the data by month and re-plot the graph above.</p>"
   ]
  },
  {
   "cell_type": "code",
   "execution_count": null,
   "id": "7fe313dc-1184-439a-933c-508637471822",
   "metadata": {
    "tags": [],
    "vscode": {
     "languageId": "teradata sql"
    }
   },
   "outputs": [],
   "source": [
    "select extract(year from date_received) || extract(month from date_received) as month_date, count(complaint_id) as counts\n",
    "from iceberg_glue.vim.consumer_complaints\n",
    "group by month_date\n",
    "order by month_date;"
   ]
  },
  {
   "cell_type": "code",
   "execution_count": null,
   "id": "813ce91b-dc42-47f3-8361-a2a5c67130ea",
   "metadata": {
    "tags": [],
    "vscode": {
     "languageId": "teradata sql"
    }
   },
   "outputs": [],
   "source": [
    "%chart month_date, counts, title='Number of Complaints by Month and Year', width=900, height=400, mark=line"
   ]
  },
  {
   "cell_type": "markdown",
   "id": "c2d54126-769f-46c2-bfef-6f9e8952d26b",
   "metadata": {},
   "source": [
    "<p style = 'font-size:16px;font-family:Arial;color:#00233C'>Let's look at some of the issues that were reported during these dates.</p>\n",
    "<hr style=\"height:2px;border:none;background-color:#00233C;\">\n",
    "<p style = 'font-size:20px;font-family:Arial;color:#00233C'><b>4. Extracting Insights from the Data</b></p>\n",
    "<p style = 'font-size:16px;font-family:Arial;color:#00233C'>\n",
    "Let's narrow down the two spikes above and see exactly where they are happening. We can do this by plotting another time series plot, this time only in 2017.</p>\n",
    "<p style = 'font-size:16px;font-family:Arial;color:#00233C'>Let's look at some of the issues that were reported during these dates.</p>"
   ]
  },
  {
   "cell_type": "code",
   "execution_count": null,
   "id": "0b789611-1f5c-4d1f-ad15-a015fec4efa5",
   "metadata": {
    "tags": [],
    "vscode": {
     "languageId": "teradata sql"
    }
   },
   "outputs": [],
   "source": [
    "select date_received, company, count(company) as counts\n",
    "from iceberg_glue.vim.consumer_complaints\n",
    "where date_received in (\n",
    "    date '2017-01-19',\n",
    "    date '2017-01-20',\n",
    "    date '2017-09-08',\n",
    "    date '2017-09-09',\n",
    "    date '2017-09-13'\n",
    ")\n",
    "group by date_received, company\n",
    "order by date_received, counts desc;"
   ]
  },
  {
   "cell_type": "markdown",
   "id": "6b565971-fea7-4cc8-8875-04e14bb2272f",
   "metadata": {},
   "source": [
    "\n",
    "<p style = 'font-size:16px;font-family:Arial;color:#00233C'>Interestingly, we can see that the great majority of the the complaints were directed at one company: EQUIFAX.</p>\n",
    "\n",
    "<p style = 'font-size:16px;font-family:Arial;color:#00233C'>\n",
    "Let's now look at the top issues for Equifax during those periods to confirm our hypothesis.</p>"
   ]
  },
  {
   "cell_type": "code",
   "execution_count": null,
   "id": "c6e78464-8e23-46b3-874d-bd5f350a564e",
   "metadata": {
    "tags": [],
    "vscode": {
     "languageId": "teradata sql"
    }
   },
   "outputs": [],
   "source": [
    "-- analyze top issues reported against EQUIFAX on 2017-01-19 and 2017-01-20\n",
    "select\n",
    "    company,\n",
    "    product,\n",
    "    issue,\n",
    "    count(issue) as counts\n",
    "from iceberg_glue.vim.consumer_complaints\n",
    "where date_received in (\n",
    "    date '2017-09-08',\n",
    "    date '2017-09-09',\n",
    "    date '2017-09-13') and\n",
    "        company like 'EQUIFAX%'\n",
    "group by company, product, issue\n",
    "order by counts desc;"
   ]
  },
  {
   "cell_type": "markdown",
   "id": "d604d339-11b8-4cf2-9a22-a6ab6c016e4e",
   "metadata": {},
   "source": [
    "<p style = 'font-size:16px;font-family:Arial;color:#00233C'> The top issues talk about improper use of the credit report, fraud alerts, identity theft etc. This really does seem related to the Equifax breach that happened around the same time frame.</p>"
   ]
  },
  {
   "cell_type": "markdown",
   "id": "4aac31e6-ff35-4531-a995-26c1a0d997e1",
   "metadata": {
    "tags": []
   },
   "source": [
    "<hr style=\"height:2px;border:none;background-color:#00233C;\"> <p style='font-size:20px;font-family:Arial;color:#00233C'><b>Explore</b></p> <p style='font-size:16px;font-family:Arial;color:#00233C'> This notebook highlights the power of Open Table Formats (OTF) in enabling seamless, scalable, and flexible data exploration across multiple cloud data lakes. By leveraging Vantage’s support for OTFs like Apache Iceberg and Delta Lake, you can run SQL queries directly on data stored in different catalogs and storage systems without worrying about data movement or format compatibility.<br> Throughout this demo, you’ve seen how Vantage’s integration with OTFs simplifies querying and managing evolving datasets while preserving data consistency and enabling advanced features like schema evolution, partition management, and time travel.<br> You can continue to leverage these capabilities to uncover insights from the preloaded dataset. Here are some exploration ideas that show the practical value of OTFs in real-world data analytics:</p> <ul style='font-size:16px;font-family:Arial;color:#00233C'> <li>Which product categories generate the most complaints? Grouping by <b>product</b> demonstrates how OTF tables allow efficient aggregation on large, diverse datasets.</li> <li>Through which channels are customers submitting their complaints? Analyzing the <b>submitted_via</b> column shows how OTF supports diverse data attributes for comprehensive analysis.</li> <li>What share of complaints are customer-disputed? Aggregating <b>customer_disputed</b> flags illustrates how OTFs enable straightforward filtering and counting operations.</li> <li>Is there any seasonality in complaint patterns? Using OTF time travel and partitioning features, you can analyze trends and seasonality across time, revealing temporal insights without data duplication.</li> </ul>"
   ]
  },
  {
   "cell_type": "markdown",
   "id": "e099fb42-b46d-4e95-97a3-ccfc4839db53",
   "metadata": {
    "tags": []
   },
   "source": [
    "<footer style=\"padding-bottom:35px; background:#f9f9f9; border-bottom:3px solid #00233C\">\n",
    "    <div style=\"float:left;margin-top:14px\">ClearScape Analytics™</div>\n",
    "    <div style=\"float:right;\">\n",
    "        <div style=\"float:left; margin-top:14px\">\n",
    "            Copyright © Teradata Corporation - 2025. All Rights Reserved\n",
    "        </div>\n",
    "    </div>\n",
    "</footer>"
   ]
  }
 ],
 "metadata": {
  "kernelspec": {
   "display_name": "Teradata SQL",
   "language": "Teradata SQL",
   "name": "teradatasql"
  },
  "language_info": {
   "codemirror_mode": "Teradata SQL",
   "file_extension": ".tdrs",
   "mimetype": "application/vnd.teradata.resultset",
   "name": "Teradata SQL",
   "nbconvert_exporter": "",
   "pygments_lexer": "",
   "version": "16.20"
  }
 },
 "nbformat": 4,
 "nbformat_minor": 5
}
