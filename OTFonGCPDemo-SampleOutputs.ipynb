{
 "cells": [
  {
   "cell_type": "markdown",
   "id": "60386bc4-99a4-43bc-8822-5e7903318f0b",
   "metadata": {},
   "source": [
    "<header>\n",
    "   <p  style='font-size:36px;font-family:Arial; color:#F0F0F0; background-color: #00233c; padding-left: 20pt; padding-top: 20pt;padding-bottom: 10pt; padding-right: 20pt;'>\n",
    "       Open Table Formats on Google Cloud\n",
    "  <br>\n",
    "       <img id=\"teradata-logo\" src=\"images/TeradataLogo.png\" alt=\"Teradata\" style=\"width: 125px; height: auto; margin-top: 20pt;\">\n",
    "    </p>\n",
    "</header>"
   ]
  },
  {
   "cell_type": "markdown",
   "id": "ac040117-29a2-4192-a1dd-972f61bf34fd",
   "metadata": {
    "tags": []
   },
   "source": [
    "<header>\n",
    "   <p  style='font-size:36px;font-family:Arial; color:#F0F0F0; background-color: #ffffff; padding-left: 20pt; padding-top: 20pt;padding-bottom: 10pt; padding-right: 20pt;'>\n",
    "       <img id=\"open-table-format\" src=\"images/OTFDiagram2.png\" alt=\"OTF\" style=\"height: auto; margin-top: 20pt;\">\n",
    "    </p>\n",
    "</header>\n",
    "<hr>"
   ]
  },
  {
   "cell_type": "markdown",
   "id": "6adb486f-a6c0-47a4-adb9-9c1752c26d9e",
   "metadata": {},
   "source": [
    "<div style=\"\n",
    "  margin: 40px 0;\n",
    "  padding: 20px;\n",
    "  background-color: #E1E1E1;\n",
    "  border-left: 6px solid #00237c;\n",
    "  font-size: 20px;\n",
    "  font-weight: bold;\n",
    "  color: #2c3e50;\n",
    "  text-align: center;\n",
    "  border-radius: 10px;\n",
    "  box-shadow: 0 2px 5px rgba(0,0,0,0.1);\n",
    "\">\n",
    "  Connecting to Teradata VantageCloud\n",
    "</div>"
   ]
  },
  {
   "cell_type": "markdown",
   "id": "a2040f98-c01b-4cdb-95fa-2def08bab8f6",
   "metadata": {},
   "source": [
    "##### Let’s start by connecting to our VantageCloud environment. This enables us to execute queries directly against Iceberg tables stored across clouds."
   ]
  },
  {
   "cell_type": "code",
   "execution_count": 1,
   "id": "b48f8868-57ec-4768-af52-9e5a74595360",
   "metadata": {
    "tags": [],
    "vscode": {
     "languageId": "teradata sql"
    }
   },
   "outputs": [
    {
     "name": "stdout",
     "output_type": "stream",
     "text": [
      "Password: ········\n"
     ]
    },
    {
     "name": "stdout",
     "output_type": "stream",
     "text": [
      "Success: 'otf_on_gcp' connection established and activated for user 'tdiceberg', with default database 'tdiceberg'\n"
     ]
    }
   ],
   "source": [
    "%connect otf_on_gcp"
   ]
  },
  {
   "cell_type": "markdown",
   "id": "29e82337-5d27-4fad-84da-700d51caa844",
   "metadata": {
    "tags": []
   },
   "source": [
    "<div style=\"\n",
    "  margin: 40px 0;\n",
    "  padding: 20px;\n",
    "  background-color: #E1E1E1;\n",
    "  border-left: 6px solid #237c01;\n",
    "  font-size: 20px;\n",
    "  font-weight: bold;\n",
    "  color: #2c3e50;\n",
    "  text-align: center;\n",
    "  border-radius: 10px;\n",
    "  box-shadow: 0 2px 5px rgba(0,0,0,0.1);\n",
    "\">\n",
    "  Creation Authorization and Datalake · Iceberg Hive Catalog\n",
    "</div>"
   ]
  },
  {
   "cell_type": "markdown",
   "id": "44380d9d-ee7f-4471-a5d1-42c60aeed092",
   "metadata": {},
   "source": [
    "##### We're dropping any pre-existing lake and credentials to avoid conflicts and ensure a fresh environment."
   ]
  },
  {
   "cell_type": "code",
   "execution_count": 8,
   "id": "de97704b-540f-4178-a7da-c1c97290beeb",
   "metadata": {
    "tags": [],
    "vscode": {
     "languageId": "teradata sql"
    }
   },
   "outputs": [
    {
     "data": {
      "text/plain": [
       "Success: 15 rows affected"
      ]
     },
     "execution_count": 8,
     "metadata": {
      "application/vnd.teradata.resultset": ""
     },
     "output_type": "execute_result"
    }
   ],
   "source": [
    "DROP DATALAKE iceberg_hive_gcp_demo;"
   ]
  },
  {
   "cell_type": "code",
   "execution_count": 9,
   "id": "09a30117-eb21-4d59-bd8d-dedccefa65e7",
   "metadata": {
    "tags": [],
    "vscode": {
     "languageId": "teradata sql"
    }
   },
   "outputs": [
    {
     "data": {
      "text/plain": [
       "Success: 3 rows affected"
      ]
     },
     "execution_count": 9,
     "metadata": {
      "application/vnd.teradata.resultset": ""
     },
     "output_type": "execute_result"
    }
   ],
   "source": [
    "DROP AUTHORIZATION iceberg_hive_gcp_private_key_demo;"
   ]
  },
  {
   "cell_type": "markdown",
   "id": "6841486c-909b-4fac-943f-b366a64a3231",
   "metadata": {},
   "source": [
    "##### Now we define a trusted authorization using a GCP service account. This allows secure access to our catalog and storage."
   ]
  },
  {
   "cell_type": "code",
   "execution_count": 10,
   "id": "266236fe-6589-444c-8afe-4daf59d87364",
   "metadata": {
    "tags": [],
    "vscode": {
     "languageId": "teradata sql"
    }
   },
   "outputs": [
    {
     "data": {
      "text/plain": [
       "Success: 0 rows affected"
      ]
     },
     "execution_count": 10,
     "metadata": {
      "application/vnd.teradata.resultset": ""
     },
     "output_type": "execute_result"
    }
   ],
   "source": [
    "CREATE AUTHORIZATION iceberg_hive_gcp_private_key_demo\n",
    "AS INVOKER TRUSTED\n",
    "USER '<USER>'\n",
    "PASSWORD '<PRIVATE KEY>';"
   ]
  },
  {
   "cell_type": "code",
   "execution_count": null,
   "id": "617ecba6-9613-4f36-8cae-dcd4ef6374bd",
   "metadata": {
    "tags": [],
    "vscode": {
     "languageId": "teradata sql"
    }
   },
   "outputs": [
    {
     "data": {
      "text/plain": [
       "Success: 0 rows affected"
      ]
     },
     "execution_count": 11,
     "metadata": {
      "application/vnd.teradata.resultset": ""
     },
     "output_type": "execute_result"
    }
   ],
   "source": [
    "CREATE DATALAKE iceberg_hive_gcp_demo\n",
    "EXTERNAL SECURITY INVOKER TRUSTED CATALOG iceberg_hive_gcp_private_key_demo ,\n",
    "EXTERNAL SECURITY INVOKER TRUSTED STORAGE iceberg_hive_gcp_private_key_demo\n",
    "USING\n",
    "catalog_type  ('hive')\n",
    "catalog_location  ('thrift://<HOSTNAME>:<port>')\n",
    "storage_location  ('gs://<FOLDER>/')\n",
    "project_id('<PROJECT>')\n",
    "client_email('<USER>@<HOST>.iam.gserviceaccount.com')\n",
    "TABLE FORMAT iceberg ;"
   ]
  },
  {
   "cell_type": "code",
   "execution_count": 12,
   "id": "d0994626-6918-4ec6-ba05-dd473001fca4",
   "metadata": {
    "tags": [],
    "vscode": {
     "languageId": "teradata sql"
    }
   },
   "outputs": [
    {
     "data": {
      "application/vnd.teradata.resultset": "\"DatabaseName\",\"DatabaseProperties\"\n\"ashok\",\"'hive.metastore.database.owner'='teradata','hive.metastore.database.owner-type'='USER','location'='gs://tdotf-dev/ashok.db'\"\n\"crttbl_db\",\"'hive.metastore.database.owner'='teradata','hive.metastore.database.owner-type'='USER','location'='gs://tdotf-dev-test/crttbl_db.db'\"\n\"default\",\"'hive.metastore.database.owner'='public','hive.metastore.database.owner-type'='ROLE','location'='gs://tdotf-dev/hive-warehouse','comment'='Default Hive database'\"\n\"deldb1\",\"'hive.metastore.database.owner'='teradata','hive.metastore.database.owner-type'='USER','location'='gs://tdotf-dev-test/deldb1.db'\"\n\"demodb\",\"'hive.metastore.database.owner'='teradata','hive.metastore.database.owner-type'='USER','location'='gs://tdotf-dev/demodb.db'\"\n\"hcademo\",\"'hive.metastore.database.owner'='teradata','hive.metastore.database.owner-type'='USER','location'='gs://tdotf-dev/HCADemo.db'\"\n\"mixed_abench_2\",\"'hive.metastore.database.owner'='root','hive.metastore.database.owner-type'='USER','location'='gs://tdotf-dev/hive-warehouse/mixed_abench_2.db'\"\n\"new01\",\"'hive.metastore.database.owner'='ashok.vengala','hive.metastore.database.owner-type'='USER','location'='gs://tdotf-dev/hive-warehouse/new01.db','comment'=''\"\n\"new02\",\"'hive.metastore.database.owner'='ashok.vengala','hive.metastore.database.owner-type'='USER','location'='gs://tdotf-dev/hive-warehouse/new02.db','comment'=''\"\n\"new03\",\"'hive.metastore.database.owner'='ashok.vengala','hive.metastore.database.owner-type'='USER','location'='gs://tdotf-dev/hive-warehouse/new03.db','comment'=''\"\n\"notf01\",\"'hive.metastore.database.owner'='teradata','hive.metastore.database.owner-type'='USER','location'='gs://tdotf-dev-test/notf01.db'\"\n\"notfdb01\",\"'hive.metastore.database.owner'='teradata','hive.metastore.database.owner-type'='USER','location'='gs://tdotf-dev/notfdb01.db'\"\n\"notfdb01_46173863\",\"'hive.metastore.database.owner'='teradata','hive.metastore.database.owner-type'='USER','location'='gs://tdotf-dev/notfdb01_46173863.db'\"\n\"notfdb01_46372197\",\"'hive.metastore.database.owner'='teradata','hive.metastore.database.owner-type'='USER','location'='gs://tdotf-dev/notfdb01_46372197.db'\"\n\"notfdb01_46377277\",\"'hive.metastore.database.owner'='teradata','hive.metastore.database.owner-type'='USER','location'='gs://tdotf-dev/notfdb01_46377277.db'\"\n\"notfdb01_46377339\",\"'hive.metastore.database.owner'='teradata','hive.metastore.database.owner-type'='USER','location'='gs://tdotf-dev/notfdb01_46377339.db'\"\n\"notfdb01_46379232\",\"'hive.metastore.database.owner'='teradata','hive.metastore.database.owner-type'='USER','location'='gs://tdotf-dev/notfdb01_46379232.db'\"\n\"otf2222\",\"'hive.metastore.database.owner'='teradata','hive.metastore.database.owner-type'='USER','location'='gs://tdotf-dev/otf2222.db'\"\n\"otf2416\",\"'hive.metastore.database.owner'='ashok.vengala','hive.metastore.database.owner-type'='USER','location'='gs://tdotf-dev/hive-warehouse/otf2416.db','comment'=''\"\n\"otf2914\",\"'hive.metastore.database.owner'='teradata','hive.metastore.database.owner-type'='USER','location'='gs://tdotf-dev/otf2914.db'\"\n\"otf3463\",\"'hive.metastore.database.owner'='teradata','hive.metastore.database.owner-type'='USER','location'='gs://tdotf-dev/otf3463.db'\"\n\"otf_2222_gc_db\",\"'hive.metastore.database.owner'='teradata','hive.metastore.database.owner-type'='USER','location'='gs://tdotf-dev/otf_2222_gc_db.db'\"\n\"otf_newdb\",\"'hive.metastore.database.owner'='teradata','hive.metastore.database.owner-type'='USER','location'='gs://tdotf-dev/otf_newdb.db'\"\n\"otftestdb03_46393339\",\"'hive.metastore.database.owner'='teradata','hive.metastore.database.owner-type'='USER','location'='gs://tdotf-dev/otftestdb03_46393339.db'\"\n\"otftestdb04_46403125\",\"'hive.metastore.database.owner'='teradata','hive.metastore.database.owner-type'='USER','location'='gs://tdotf-dev/otftestdb04_46403125.db'\"\n\"otftestdb04_46418011\",\"'hive.metastore.database.owner'='teradata','hive.metastore.database.owner-type'='USER','location'='gs://tdotf-dev/otftestdb04_46418011.db'\"\n\"pteotftest_dwg\",\"'hive.metastore.database.owner'='teradata','hive.metastore.database.owner-type'='USER','location'='gs://tdotf-dev-test/pteotftest_dwg.db'\"\n\"sc1\",\"'hive.metastore.database.owner'='teradata','hive.metastore.database.owner-type'='USER','location'='gs://tdotf-dev/SC1.db'\"\n\"tdiceberg\",\"'hive.metastore.database.owner'='teradata','hive.metastore.database.owner-type'='USER','location'='gs://tdotf-dev/tdiceberg.db'\"\n\"tdotf\",\"'hive.metastore.database.owner'='ashok.vengala','hive.metastore.database.owner-type'='USER','location'='gs://tdotf-dev/hive-warehouse/tdotf.db'\"\n\"tdotf_newdatabase\",\"'hive.metastore.database.owner'='teradata','hive.metastore.database.owner-type'='USER','location'='gs://tdotf-dev/tdotf_newdatabase.db'\"\n\"tempdb\",\"'hive.metastore.database.owner'='teradata','hive.metastore.database.owner-type'='USER','location'='gs://tdotf-dev-test/tempdb.db'\"\n\"testdb\",\"'hive.metastore.database.owner'='teradata','hive.metastore.database.owner-type'='USER','location'='gs://tdotf-dev-test/testdb.db'\"\n\"testingfromvm\",\"'hive.metastore.database.owner'='teradata','hive.metastore.database.owner-type'='USER','location'='gs://tdotf-dev-test/testingfromVM.db'\"\n\"tmpdb_otf3477\",\"'hive.metastore.database.owner'='teradata','hive.metastore.database.owner-type'='USER','location'='gs://tdotf-dev/tmpdb_otf3477.db'\"\n\"tryingagin\",\"'hive.metastore.database.owner'='teradata','hive.metastore.database.owner-type'='USER','location'='gs://tdotf-dev-test/tryingagin.db'\"\n\"vimdb\",\"'hive.metastore.database.owner'='teradata','hive.metastore.database.owner-type'='USER','location'='gs://tdotf-dev/vimdb.db'\"",
      "text/html": [
       "<div class = \"td-resultset-table-div\" style = \"max-height: 100%; overflow-y: auto\">\n",
       "      <table class=\"tdhistory239799\"><style>\n",
       "      table.tdhistory239799 { display: block !important; min-height: 588px !important; overflow: auto !important; height: 588px !important; width: 100% !important; border: 1px solid rgb(207, 207, 207) !important; border-collapse: collapse !important; ; color: var(--jp-ui-font-color1) !important; }\n",
       "      th.tdhistory239799 { border: 1px solid rgb(198,198,198) !important; border-collapse: collapse !important; ; padding: 2px 5px !important; ; font-size: 13px !important; ; text-align: center !important; white-space: normal !important; color: var(--jp-ui-font-color1) !important; }\n",
       "      th.tdhistory239799:last-child { text-align: left !important; }\n",
       "      tbody.tdhistory239799 tr:nth-child(even) { background: rgba(243, 243, 243, 0.75) !important; }\n",
       "      tbody.tdhistory239799 tr:nth-child(odd) { background: var(--jp-ui-inverse-font-color1) !important; }\n",
       "      td.tdhistory239799 { border: 1px solid rgb(207, 207, 207) !important; border-collapse: collapse !important; ; padding: 2px 5px !important; ; font-size: 13px !important; ; text-align: left !important;          white-space: nowrap !important; overflow:hidden !important; text-overflow:ellipsis !important;; }\n",
       "    </style><thead><tr style= \"background: rgba(243, 243, 243, 0.75)\"><th class=\"tdhistory239799\"></th><th class=\"tdhistory239799\">DatabaseName</th><th class=\"tdhistory239799\">DatabaseProperties</th></tr></thead><tbody class=\"tdhistory239799 resultset-body\"><tr><th class=\"tdhistory239799\" style= \"background: rgba(243, 243, 243, 0.75)\">1</th><td class=\"tdhistory239799\">ashok</td><td class=\"tdhistory239799\">'hive.metastore.database.owner'='teradata','hive.metastore.database.owner-type'='USER','location'='gs://tdotf-dev/ashok.db'</td></tr><tr><th class=\"tdhistory239799\" style= \"background: rgba(243, 243, 243, 0.75)\">2</th><td class=\"tdhistory239799\">crttbl_db</td><td class=\"tdhistory239799\">'hive.metastore.database.owner'='teradata','hive.metastore.database.owner-type'='USER','location'='gs://tdotf-dev-test/crttbl_db.db'</td></tr><tr><th class=\"tdhistory239799\" style= \"background: rgba(243, 243, 243, 0.75)\">3</th><td class=\"tdhistory239799\">default</td><td class=\"tdhistory239799\">'hive.metastore.database.owner'='public','hive.metastore.database.owner-type'='ROLE','location'='gs://tdotf-dev/hive-warehouse','comment'='Default Hive database'</td></tr><tr><th class=\"tdhistory239799\" style= \"background: rgba(243, 243, 243, 0.75)\">4</th><td class=\"tdhistory239799\">deldb1</td><td class=\"tdhistory239799\">'hive.metastore.database.owner'='teradata','hive.metastore.database.owner-type'='USER','location'='gs://tdotf-dev-test/deldb1.db'</td></tr><tr><th class=\"tdhistory239799\" style= \"background: rgba(243, 243, 243, 0.75)\">5</th><td class=\"tdhistory239799\">demodb</td><td class=\"tdhistory239799\">'hive.metastore.database.owner'='teradata','hive.metastore.database.owner-type'='USER','location'='gs://tdotf-dev/demodb.db'</td></tr><tr><th class=\"tdhistory239799\" style= \"background: rgba(243, 243, 243, 0.75)\">6</th><td class=\"tdhistory239799\">hcademo</td><td class=\"tdhistory239799\">'hive.metastore.database.owner'='teradata','hive.metastore.database.owner-type'='USER','location'='gs://tdotf-dev/HCADemo.db'</td></tr><tr><th class=\"tdhistory239799\" style= \"background: rgba(243, 243, 243, 0.75)\">7</th><td class=\"tdhistory239799\">mixed_abench_2</td><td class=\"tdhistory239799\">'hive.metastore.database.owner'='root','hive.metastore.database.owner-type'='USER','location'='gs://tdotf-dev/hive-warehouse/mixed_abench_2.db'</td></tr><tr><th class=\"tdhistory239799\" style= \"background: rgba(243, 243, 243, 0.75)\">8</th><td class=\"tdhistory239799\">new01</td><td class=\"tdhistory239799\">'hive.metastore.database.owner'='ashok.vengala','hive.metastore.database.owner-type'='USER','location'='gs://tdotf-dev/hive-warehouse/new01.db','comment'=''</td></tr><tr><th class=\"tdhistory239799\" style= \"background: rgba(243, 243, 243, 0.75)\">9</th><td class=\"tdhistory239799\">new02</td><td class=\"tdhistory239799\">'hive.metastore.database.owner'='ashok.vengala','hive.metastore.database.owner-type'='USER','location'='gs://tdotf-dev/hive-warehouse/new02.db','comment'=''</td></tr><tr><th class=\"tdhistory239799\" style= \"background: rgba(243, 243, 243, 0.75)\">10</th><td class=\"tdhistory239799\">new03</td><td class=\"tdhistory239799\">'hive.metastore.database.owner'='ashok.vengala','hive.metastore.database.owner-type'='USER','location'='gs://tdotf-dev/hive-warehouse/new03.db','comment'=''</td></tr><tr><th class=\"tdhistory239799\" style= \"background: rgba(243, 243, 243, 0.75)\">11</th><td class=\"tdhistory239799\">notf01</td><td class=\"tdhistory239799\">'hive.metastore.database.owner'='teradata','hive.metastore.database.owner-type'='USER','location'='gs://tdotf-dev-test/notf01.db'</td></tr><tr><th class=\"tdhistory239799\" style= \"background: rgba(243, 243, 243, 0.75)\">12</th><td class=\"tdhistory239799\">notfdb01</td><td class=\"tdhistory239799\">'hive.metastore.database.owner'='teradata','hive.metastore.database.owner-type'='USER','location'='gs://tdotf-dev/notfdb01.db'</td></tr><tr><th class=\"tdhistory239799\" style= \"background: rgba(243, 243, 243, 0.75)\">13</th><td class=\"tdhistory239799\">notfdb01_46173863</td><td class=\"tdhistory239799\">'hive.metastore.database.owner'='teradata','hive.metastore.database.owner-type'='USER','location'='gs://tdotf-dev/notfdb01_46173863.db'</td></tr><tr><th class=\"tdhistory239799\" style= \"background: rgba(243, 243, 243, 0.75)\">14</th><td class=\"tdhistory239799\">notfdb01_46372197</td><td class=\"tdhistory239799\">'hive.metastore.database.owner'='teradata','hive.metastore.database.owner-type'='USER','location'='gs://tdotf-dev/notfdb01_46372197.db'</td></tr><tr><th class=\"tdhistory239799\" style= \"background: rgba(243, 243, 243, 0.75)\">15</th><td class=\"tdhistory239799\">notfdb01_46377277</td><td class=\"tdhistory239799\">'hive.metastore.database.owner'='teradata','hive.metastore.database.owner-type'='USER','location'='gs://tdotf-dev/notfdb01_46377277.db'</td></tr><tr><th class=\"tdhistory239799\" style= \"background: rgba(243, 243, 243, 0.75)\">16</th><td class=\"tdhistory239799\">notfdb01_46377339</td><td class=\"tdhistory239799\">'hive.metastore.database.owner'='teradata','hive.metastore.database.owner-type'='USER','location'='gs://tdotf-dev/notfdb01_46377339.db'</td></tr><tr><th class=\"tdhistory239799\" style= \"background: rgba(243, 243, 243, 0.75)\">17</th><td class=\"tdhistory239799\">notfdb01_46379232</td><td class=\"tdhistory239799\">'hive.metastore.database.owner'='teradata','hive.metastore.database.owner-type'='USER','location'='gs://tdotf-dev/notfdb01_46379232.db'</td></tr><tr><th class=\"tdhistory239799\" style= \"background: rgba(243, 243, 243, 0.75)\">18</th><td class=\"tdhistory239799\">otf2222</td><td class=\"tdhistory239799\">'hive.metastore.database.owner'='teradata','hive.metastore.database.owner-type'='USER','location'='gs://tdotf-dev/otf2222.db'</td></tr><tr><th class=\"tdhistory239799\" style= \"background: rgba(243, 243, 243, 0.75)\">19</th><td class=\"tdhistory239799\">otf2416</td><td class=\"tdhistory239799\">'hive.metastore.database.owner'='ashok.vengala','hive.metastore.database.owner-type'='USER','location'='gs://tdotf-dev/hive-warehouse/otf2416.db','comment'=''</td></tr><tr><th class=\"tdhistory239799\" style= \"background: rgba(243, 243, 243, 0.75)\">20</th><td class=\"tdhistory239799\">otf2914</td><td class=\"tdhistory239799\">'hive.metastore.database.owner'='teradata','hive.metastore.database.owner-type'='USER','location'='gs://tdotf-dev/otf2914.db'</td></tr><tr><th class=\"tdhistory239799\" style= \"background: rgba(243, 243, 243, 0.75)\">21</th><td class=\"tdhistory239799\">otf3463</td><td class=\"tdhistory239799\">'hive.metastore.database.owner'='teradata','hive.metastore.database.owner-type'='USER','location'='gs://tdotf-dev/otf3463.db'</td></tr><tr><th class=\"tdhistory239799\" style= \"background: rgba(243, 243, 243, 0.75)\">22</th><td class=\"tdhistory239799\">otf_2222_gc_db</td><td class=\"tdhistory239799\">'hive.metastore.database.owner'='teradata','hive.metastore.database.owner-type'='USER','location'='gs://tdotf-dev/otf_2222_gc_db.db'</td></tr><tr><th class=\"tdhistory239799\" style= \"background: rgba(243, 243, 243, 0.75)\">23</th><td class=\"tdhistory239799\">otf_newdb</td><td class=\"tdhistory239799\">'hive.metastore.database.owner'='teradata','hive.metastore.database.owner-type'='USER','location'='gs://tdotf-dev/otf_newdb.db'</td></tr><tr><th class=\"tdhistory239799\" style= \"background: rgba(243, 243, 243, 0.75)\">24</th><td class=\"tdhistory239799\">otftestdb03_46393339</td><td class=\"tdhistory239799\">'hive.metastore.database.owner'='teradata','hive.metastore.database.owner-type'='USER','location'='gs://tdotf-dev/otftestdb03_46393339.db'</td></tr><tr><th class=\"tdhistory239799\" style= \"background: rgba(243, 243, 243, 0.75)\">25</th><td class=\"tdhistory239799\">otftestdb04_46403125</td><td class=\"tdhistory239799\">'hive.metastore.database.owner'='teradata','hive.metastore.database.owner-type'='USER','location'='gs://tdotf-dev/otftestdb04_46403125.db'</td></tr><tr><th class=\"tdhistory239799\" style= \"background: rgba(243, 243, 243, 0.75)\">26</th><td class=\"tdhistory239799\">otftestdb04_46418011</td><td class=\"tdhistory239799\">'hive.metastore.database.owner'='teradata','hive.metastore.database.owner-type'='USER','location'='gs://tdotf-dev/otftestdb04_46418011.db'</td></tr><tr><th class=\"tdhistory239799\" style= \"background: rgba(243, 243, 243, 0.75)\">27</th><td class=\"tdhistory239799\">pteotftest_dwg</td><td class=\"tdhistory239799\">'hive.metastore.database.owner'='teradata','hive.metastore.database.owner-type'='USER','location'='gs://tdotf-dev-test/pteotftest_dwg.db'</td></tr><tr><th class=\"tdhistory239799\" style= \"background: rgba(243, 243, 243, 0.75)\">28</th><td class=\"tdhistory239799\">sc1</td><td class=\"tdhistory239799\">'hive.metastore.database.owner'='teradata','hive.metastore.database.owner-type'='USER','location'='gs://tdotf-dev/SC1.db'</td></tr><tr><th class=\"tdhistory239799\" style= \"background: rgba(243, 243, 243, 0.75)\">29</th><td class=\"tdhistory239799\">tdiceberg</td><td class=\"tdhistory239799\">'hive.metastore.database.owner'='teradata','hive.metastore.database.owner-type'='USER','location'='gs://tdotf-dev/tdiceberg.db'</td></tr><tr><th class=\"tdhistory239799\" style= \"background: rgba(243, 243, 243, 0.75)\">30</th><td class=\"tdhistory239799\">tdotf</td><td class=\"tdhistory239799\">'hive.metastore.database.owner'='ashok.vengala','hive.metastore.database.owner-type'='USER','location'='gs://tdotf-dev/hive-warehouse/tdotf.db'</td></tr><tr><th class=\"tdhistory239799\" style= \"background: rgba(243, 243, 243, 0.75)\">31</th><td class=\"tdhistory239799\">tdotf_newdatabase</td><td class=\"tdhistory239799\">'hive.metastore.database.owner'='teradata','hive.metastore.database.owner-type'='USER','location'='gs://tdotf-dev/tdotf_newdatabase.db'</td></tr><tr><th class=\"tdhistory239799\" style= \"background: rgba(243, 243, 243, 0.75)\">32</th><td class=\"tdhistory239799\">tempdb</td><td class=\"tdhistory239799\">'hive.metastore.database.owner'='teradata','hive.metastore.database.owner-type'='USER','location'='gs://tdotf-dev-test/tempdb.db'</td></tr><tr><th class=\"tdhistory239799\" style= \"background: rgba(243, 243, 243, 0.75)\">33</th><td class=\"tdhistory239799\">testdb</td><td class=\"tdhistory239799\">'hive.metastore.database.owner'='teradata','hive.metastore.database.owner-type'='USER','location'='gs://tdotf-dev-test/testdb.db'</td></tr><tr><th class=\"tdhistory239799\" style= \"background: rgba(243, 243, 243, 0.75)\">34</th><td class=\"tdhistory239799\">testingfromvm</td><td class=\"tdhistory239799\">'hive.metastore.database.owner'='teradata','hive.metastore.database.owner-type'='USER','location'='gs://tdotf-dev-test/testingfromVM.db'</td></tr><tr><th class=\"tdhistory239799\" style= \"background: rgba(243, 243, 243, 0.75)\">35</th><td class=\"tdhistory239799\">tmpdb_otf3477</td><td class=\"tdhistory239799\">'hive.metastore.database.owner'='teradata','hive.metastore.database.owner-type'='USER','location'='gs://tdotf-dev/tmpdb_otf3477.db'</td></tr><tr><th class=\"tdhistory239799\" style= \"background: rgba(243, 243, 243, 0.75)\">36</th><td class=\"tdhistory239799\">tryingagin</td><td class=\"tdhistory239799\">'hive.metastore.database.owner'='teradata','hive.metastore.database.owner-type'='USER','location'='gs://tdotf-dev-test/tryingagin.db'</td></tr><tr><th class=\"tdhistory239799\" style= \"background: rgba(243, 243, 243, 0.75)\">37</th><td class=\"tdhistory239799\">vimdb</td><td class=\"tdhistory239799\">'hive.metastore.database.owner'='teradata','hive.metastore.database.owner-type'='USER','location'='gs://tdotf-dev/vimdb.db'</td></tr></tbody></table></div>"
      ]
     },
     "execution_count": 12,
     "metadata": {
      "application/vnd.teradata.resultset": "{\"resultSetID\":\"/home/jovyan/JupyterLabRoot/Teradata/Resultsets/2025.07.11_16.04.53.603_UTC\",\"historyID\":626,\"chunkID\":\"00001\",\"sessionid\":\"\",\"portnum\":\"\",\"dockermode\":\"docker\",\"totalRowCount\":37,\"chunkCount\":0,\"rowLimit\":0,\"columnMetadata\":[{\"columnName\":\"DatabaseName\",\"columnTypeName\":\"LONG VARCHAR\",\"length\":32000,\"scale\":32000},{\"columnNumber\":1,\"columnName\":\"DatabaseProperties\",\"columnTypeName\":\"LONG VARCHAR\",\"length\":32000,\"scale\":32000}]}"
     },
     "output_type": "execute_result"
    }
   ],
   "source": [
    "HELP DATALAKE iceberg_hive_gcp_demo;"
   ]
  },
  {
   "cell_type": "markdown",
   "id": "5d1a142b-fc34-4d05-ae27-f30d513b43a6",
   "metadata": {
    "tags": []
   },
   "source": [
    "<div style=\"\n",
    "  margin: 40px 0;\n",
    "  padding: 20px;\n",
    "  background-color: #E1E1E1;\n",
    "  border-left: 6px solid #237c01;\n",
    "  font-size: 20px;\n",
    "  font-weight: bold;\n",
    "  color: #2c3e50;\n",
    "  text-align: center;\n",
    "  border-radius: 10px;\n",
    "  box-shadow: 0 2px 5px rgba(0,0,0,0.1);\n",
    "\">\n",
    "  Creation Authorization and Datalake · Iceberg Unity Catalog\n",
    "</div>"
   ]
  },
  {
   "cell_type": "code",
   "execution_count": 29,
   "id": "6d133ce1-89cb-416d-9b7f-a194a93c8a03",
   "metadata": {
    "tags": [],
    "vscode": {
     "languageId": "teradata sql"
    }
   },
   "outputs": [
    {
     "data": {
      "text/plain": [
       "Success: 19 rows affected"
      ]
     },
     "execution_count": 29,
     "metadata": {
      "application/vnd.teradata.resultset": ""
     },
     "output_type": "execute_result"
    }
   ],
   "source": [
    "DROP DATALAKE iceberg_unity_gcp_demo;"
   ]
  },
  {
   "cell_type": "code",
   "execution_count": 30,
   "id": "16aa44ed-7860-4162-9fc3-3edddf89a8f6",
   "metadata": {
    "tags": [],
    "vscode": {
     "languageId": "teradata sql"
    }
   },
   "outputs": [
    {
     "data": {
      "text/plain": [
       "Success: 3 rows affected"
      ]
     },
     "execution_count": 30,
     "metadata": {
      "application/vnd.teradata.resultset": ""
     },
     "output_type": "execute_result"
    }
   ],
   "source": [
    "DROP AUTHORIZATION iceberg_unity_gcp_auth_demo;"
   ]
  },
  {
   "cell_type": "code",
   "execution_count": 31,
   "id": "f0115d8e-dbf7-4690-983b-214e97ea75f8",
   "metadata": {
    "tags": [],
    "vscode": {
     "languageId": "teradata sql"
    }
   },
   "outputs": [
    {
     "data": {
      "text/plain": [
       "Success: 2 rows affected"
      ]
     },
     "execution_count": 31,
     "metadata": {
      "application/vnd.teradata.resultset": ""
     },
     "output_type": "execute_result"
    }
   ],
   "source": [
    "DROP AUTHORIZATION iceberg_unity_gcp_auth_catalog_demo;"
   ]
  },
  {
   "cell_type": "markdown",
   "id": "84cfde25-be01-4e82-9f00-57a1012ded1a",
   "metadata": {
    "tags": []
   },
   "source": [
    "##### This split allows separate control over catalog and storage — useful for fine-grained security."
   ]
  },
  {
   "cell_type": "code",
   "execution_count": 32,
   "id": "6e5549ea-0105-40e1-bfa6-a0205bcefa1b",
   "metadata": {
    "tags": [],
    "vscode": {
     "languageId": "teradata sql"
    }
   },
   "outputs": [
    {
     "data": {
      "text/plain": [
       "Success: 0 rows affected"
      ]
     },
     "execution_count": 32,
     "metadata": {
      "application/vnd.teradata.resultset": ""
     },
     "output_type": "execute_result"
    }
   ],
   "source": [
    "CREATE AUTHORIZATION iceberg_unity_gcp_auth_demo\n",
    "AS INVOKER TRUSTED\n",
    "USER '<USER>'\n",
    "PASSWORD '<PRIVATE KEY'>;"
   ]
  },
  {
   "cell_type": "code",
   "execution_count": 33,
   "id": "ffd5f2a0-5484-424d-908b-ab25fa02fcfa",
   "metadata": {
    "tags": [],
    "vscode": {
     "languageId": "teradata sql"
    }
   },
   "outputs": [
    {
     "data": {
      "text/plain": [
       "Success: 0 rows affected"
      ]
     },
     "execution_count": 33,
     "metadata": {
      "application/vnd.teradata.resultset": ""
     },
     "output_type": "execute_result"
    }
   ],
   "source": [
    "CREATE AUTHORIZATION iceberg_unity_gcp_auth_catalog_demo\n",
    "AS INVOKER TRUSTED\n",
    "USER '<USER>'\n",
    "PASSWORD '<PRIVATE KEY'>;"
   ]
  },
  {
   "cell_type": "code",
   "execution_count": null,
   "id": "bac3acc0-3466-410c-946e-dda209b365f8",
   "metadata": {
    "tags": [],
    "vscode": {
     "languageId": "teradata sql"
    }
   },
   "outputs": [
    {
     "data": {
      "text/plain": [
       "Success: 0 rows affected"
      ]
     },
     "execution_count": 34,
     "metadata": {
      "application/vnd.teradata.resultset": ""
     },
     "output_type": "execute_result"
    }
   ],
   "source": [
    "CREATE DATALAKE iceberg_unity_gcp_demo\n",
    "EXTERNAL SECURITY INVOKER TRUSTED STORAGE iceberg_unity_gcp_auth_demo,\n",
    "EXTERNAL SECURITY INVOKER TRUSTED CATALOG iceberg_unity_gcp_auth_catalog_demo\n",
    "USING\n",
    "catalog_type ('unity')\n",
    "catalog_location ('https://<HOST>/api/2.1/unity-catalog/iceberg')\n",
    "unity_catalog_name ('<CATALOG>')\n",
    "storage_location ('gs://<FOLDER>')\n",
    "project_id ('<PROJECT>')\n",
    "client_id ('<CLIENT>')\n",
    "client_email ('<USER>@<HOST>.iam.gserviceaccount.com')\n",
    "default_cluster_id ('<CLUSTER>')\n",
    "TABLE FORMAT iceberg ;"
   ]
  },
  {
   "cell_type": "code",
   "execution_count": 35,
   "id": "d0c65d8e-94cc-47df-9585-b4e480c2ab7d",
   "metadata": {
    "tags": [],
    "vscode": {
     "languageId": "teradata sql"
    }
   },
   "outputs": [
    {
     "data": {
      "application/vnd.teradata.resultset": "\"DatabaseName\",\"DatabaseProperties\"\n\"default\",\"\"\n\"demodb\",\"\"\n\"hcademo\",\"\"\n\"iceberg_table\",\"\"\n\"information_schema\",\"\"\n\"jentestdb\",\"\"\n\"otf2526\",\"\"\n\"otf3537\",\"\"\n\"reg\",\"\"\n\"reg_delta\",\"\"\n\"reg_iceberg_uniform\",\"\"\n\"sample-test\",\"\"\n\"sc1\",\"\"\n\"tdotf-dev-schema\",\"\"\n\"tdotf-test\",\"\"\n\"test_delta_datatypes\",\"\"\n\"testdb\",\"\"",
      "text/html": [
       "<div class = \"td-resultset-table-div\" style = \"max-height: 100%; overflow-y: auto\">\n",
       "      <table class=\"tdhistory348293\"><style>\n",
       "      table.tdhistory348293 { display: block !important; min-height: 441px !important; overflow: auto !important; height: 441px !important; width: 100% !important; border: 1px solid rgb(207, 207, 207) !important; border-collapse: collapse !important; ; color: var(--jp-ui-font-color1) !important; }\n",
       "      th.tdhistory348293 { border: 1px solid rgb(198,198,198) !important; border-collapse: collapse !important; ; padding: 2px 5px !important; ; font-size: 13px !important; ; text-align: center !important; white-space: normal !important; color: var(--jp-ui-font-color1) !important; }\n",
       "      th.tdhistory348293:last-child { text-align: left !important; }\n",
       "      tbody.tdhistory348293 tr:nth-child(even) { background: rgba(243, 243, 243, 0.75) !important; }\n",
       "      tbody.tdhistory348293 tr:nth-child(odd) { background: var(--jp-ui-inverse-font-color1) !important; }\n",
       "      td.tdhistory348293 { border: 1px solid rgb(207, 207, 207) !important; border-collapse: collapse !important; ; padding: 2px 5px !important; ; font-size: 13px !important; ; text-align: left !important;          white-space: nowrap !important; overflow:hidden !important; text-overflow:ellipsis !important;; }\n",
       "    </style><thead><tr style= \"background: rgba(243, 243, 243, 0.75)\"><th class=\"tdhistory348293\"></th><th class=\"tdhistory348293\">DatabaseName</th><th class=\"tdhistory348293\">DatabaseProperties</th></tr></thead><tbody class=\"tdhistory348293 resultset-body\"><tr><th class=\"tdhistory348293\" style= \"background: rgba(243, 243, 243, 0.75)\">1</th><td class=\"tdhistory348293\">default</td><td class=\"tdhistory348293\"></td></tr><tr><th class=\"tdhistory348293\" style= \"background: rgba(243, 243, 243, 0.75)\">2</th><td class=\"tdhistory348293\">demodb</td><td class=\"tdhistory348293\"></td></tr><tr><th class=\"tdhistory348293\" style= \"background: rgba(243, 243, 243, 0.75)\">3</th><td class=\"tdhistory348293\">hcademo</td><td class=\"tdhistory348293\"></td></tr><tr><th class=\"tdhistory348293\" style= \"background: rgba(243, 243, 243, 0.75)\">4</th><td class=\"tdhistory348293\">iceberg_table</td><td class=\"tdhistory348293\"></td></tr><tr><th class=\"tdhistory348293\" style= \"background: rgba(243, 243, 243, 0.75)\">5</th><td class=\"tdhistory348293\">information_schema</td><td class=\"tdhistory348293\"></td></tr><tr><th class=\"tdhistory348293\" style= \"background: rgba(243, 243, 243, 0.75)\">6</th><td class=\"tdhistory348293\">jentestdb</td><td class=\"tdhistory348293\"></td></tr><tr><th class=\"tdhistory348293\" style= \"background: rgba(243, 243, 243, 0.75)\">7</th><td class=\"tdhistory348293\">otf2526</td><td class=\"tdhistory348293\"></td></tr><tr><th class=\"tdhistory348293\" style= \"background: rgba(243, 243, 243, 0.75)\">8</th><td class=\"tdhistory348293\">otf3537</td><td class=\"tdhistory348293\"></td></tr><tr><th class=\"tdhistory348293\" style= \"background: rgba(243, 243, 243, 0.75)\">9</th><td class=\"tdhistory348293\">reg</td><td class=\"tdhistory348293\"></td></tr><tr><th class=\"tdhistory348293\" style= \"background: rgba(243, 243, 243, 0.75)\">10</th><td class=\"tdhistory348293\">reg_delta</td><td class=\"tdhistory348293\"></td></tr><tr><th class=\"tdhistory348293\" style= \"background: rgba(243, 243, 243, 0.75)\">11</th><td class=\"tdhistory348293\">reg_iceberg_uniform</td><td class=\"tdhistory348293\"></td></tr><tr><th class=\"tdhistory348293\" style= \"background: rgba(243, 243, 243, 0.75)\">12</th><td class=\"tdhistory348293\">sample-test</td><td class=\"tdhistory348293\"></td></tr><tr><th class=\"tdhistory348293\" style= \"background: rgba(243, 243, 243, 0.75)\">13</th><td class=\"tdhistory348293\">sc1</td><td class=\"tdhistory348293\"></td></tr><tr><th class=\"tdhistory348293\" style= \"background: rgba(243, 243, 243, 0.75)\">14</th><td class=\"tdhistory348293\">tdotf-dev-schema</td><td class=\"tdhistory348293\"></td></tr><tr><th class=\"tdhistory348293\" style= \"background: rgba(243, 243, 243, 0.75)\">15</th><td class=\"tdhistory348293\">tdotf-test</td><td class=\"tdhistory348293\"></td></tr><tr><th class=\"tdhistory348293\" style= \"background: rgba(243, 243, 243, 0.75)\">16</th><td class=\"tdhistory348293\">test_delta_datatypes</td><td class=\"tdhistory348293\"></td></tr><tr><th class=\"tdhistory348293\" style= \"background: rgba(243, 243, 243, 0.75)\">17</th><td class=\"tdhistory348293\">testdb</td><td class=\"tdhistory348293\"></td></tr></tbody></table></div>"
      ]
     },
     "execution_count": 35,
     "metadata": {
      "application/vnd.teradata.resultset": "{\"resultSetID\":\"/home/jovyan/JupyterLabRoot/Teradata/Resultsets/2025.07.11_16.16.02.055_UTC\",\"historyID\":649,\"chunkID\":\"00001\",\"sessionid\":\"\",\"portnum\":\"\",\"dockermode\":\"docker\",\"totalRowCount\":17,\"chunkCount\":0,\"rowLimit\":0,\"columnMetadata\":[{\"columnName\":\"DatabaseName\",\"columnTypeName\":\"LONG VARCHAR\",\"length\":32000,\"scale\":32000},{\"columnNumber\":1,\"columnName\":\"DatabaseProperties\",\"columnTypeName\":\"LONG VARCHAR\",\"length\":32000,\"scale\":32000}]}"
     },
     "output_type": "execute_result"
    }
   ],
   "source": [
    "HELP DATALAKE iceberg_unity_gcp_demo;"
   ]
  },
  {
   "cell_type": "markdown",
   "id": "09b22e43-3e51-4f82-a857-8c1ddf60f456",
   "metadata": {},
   "source": [
    "<div style=\"\n",
    "  margin: 40px 0;\n",
    "  padding: 20px;\n",
    "  background-color: #E1E1E1;\n",
    "  border-left: 6px solid #237c01;\n",
    "  font-size: 20px;\n",
    "  font-weight: bold;\n",
    "  color: #2c3e50;\n",
    "  text-align: center;\n",
    "  border-radius: 10px;\n",
    "  box-shadow: 0 2px 5px rgba(0,0,0,0.1);\n",
    "\">\n",
    "  Creation Authorization and Datalake · Delta Lake Unity Catalog\n",
    "</div>"
   ]
  },
  {
   "cell_type": "code",
   "execution_count": null,
   "id": "194cd408-c50b-4d88-896c-a7a85c7bbd5b",
   "metadata": {
    "tags": [],
    "vscode": {
     "languageId": "teradata sql"
    }
   },
   "outputs": [],
   "source": [
    "DROP DATALAKE delta_unity_gcp_demo;"
   ]
  },
  {
   "cell_type": "code",
   "execution_count": null,
   "id": "5f3c9732-4581-4917-bef1-29a8be6a83a1",
   "metadata": {
    "tags": [],
    "vscode": {
     "languageId": "teradata sql"
    }
   },
   "outputs": [],
   "source": [
    "DROP AUTHORIZATION delta_unity_gcp_auth_demo;"
   ]
  },
  {
   "cell_type": "code",
   "execution_count": null,
   "id": "f7184176-5780-46d9-9064-87efdb4efe52",
   "metadata": {
    "tags": [],
    "vscode": {
     "languageId": "teradata sql"
    }
   },
   "outputs": [],
   "source": [
    "DROP AUTHORIZATION delta_unity_gcp_auth_catalog_demo;"
   ]
  },
  {
   "cell_type": "code",
   "execution_count": 18,
   "id": "4439f5c0-47cd-4ae1-9774-9a010b70160d",
   "metadata": {
    "tags": [],
    "vscode": {
     "languageId": "teradata sql"
    }
   },
   "outputs": [
    {
     "data": {
      "text/plain": [
       "Success: 0 rows affected"
      ]
     },
     "execution_count": 18,
     "metadata": {
      "application/vnd.teradata.resultset": ""
     },
     "output_type": "execute_result"
    }
   ],
   "source": [
    "CREATE AUTHORIZATION delta_unity_gcp_auth_demo\n",
    "AS INVOKER TRUSTED\n",
    "USER '<USER>'\n",
    "PASSWORD '<PRIVATE KEY>';"
   ]
  },
  {
   "cell_type": "code",
   "execution_count": 19,
   "id": "63e3116a-e47f-4ae6-8b3f-fb5787f7e728",
   "metadata": {
    "tags": [],
    "vscode": {
     "languageId": "teradata sql"
    }
   },
   "outputs": [
    {
     "data": {
      "text/plain": [
       "Success: 0 rows affected"
      ]
     },
     "execution_count": 19,
     "metadata": {
      "application/vnd.teradata.resultset": ""
     },
     "output_type": "execute_result"
    }
   ],
   "source": [
    "CREATE AUTHORIZATION delta_unity_gcp_auth_catalog_demo\n",
    "AS INVOKER TRUSTED\n",
    "USER '<USER>'\n",
    "PASSWORD '<PRIVATE KEY>';"
   ]
  },
  {
   "cell_type": "code",
   "execution_count": 20,
   "id": "a5c41cc3-c3ff-44ad-ac31-0f3aa336dec1",
   "metadata": {
    "tags": [],
    "vscode": {
     "languageId": "teradata sql"
    }
   },
   "outputs": [
    {
     "data": {
      "text/plain": [
       "Success: 0 rows affected"
      ]
     },
     "execution_count": 20,
     "metadata": {
      "application/vnd.teradata.resultset": ""
     },
     "output_type": "execute_result"
    }
   ],
   "source": [
    "CREATE DATALAKE delta_unity_gcp_demo\n",
    "EXTERNAL SECURITY INVOKER TRUSTED CATALOG delta_unity_gcp_auth_catalog_demo ,\n",
    "EXTERNAL SECURITY INVOKER TRUSTED STORAGE delta_unity_gcp_auth_demo\n",
    "USING\n",
    "catalog_type ('unity')\n",
    "catalog_location ('https://<HOST>/api')\n",
    "unity_catalog_name ('<CATALOG>')\n",
    "storage_location ('gs://<FOLDER>')\n",
    "project_id ('<PROJECT>')\n",
    "client_id ('<CLIENT>')\n",
    "client_email ('<USER>@<HOST>.iam.gserviceaccount.com')\n",
    "default_cluster_id ('<CLUSTER>')\n",
    "TABLE FORMAT deltalake ;"
   ]
  },
  {
   "cell_type": "code",
   "execution_count": 21,
   "id": "e451a2d4-c86f-43fd-b055-90123df2d40e",
   "metadata": {
    "tags": [],
    "vscode": {
     "languageId": "teradata sql"
    }
   },
   "outputs": [
    {
     "data": {
      "application/vnd.teradata.resultset": "\"DatabaseName\",\"DatabaseProperties\"\n\"default\",\"\"\n\"demodb\",\"\"\n\"information_schema\",\"\"\n\"notf1\",\"\"\n\"otf2348\",\"\"\n\"otf3428\",\"'owner'='root'\"\n\"otf3537\",\"\"\n\"otfdev\",\"\"\n\"reg\",\"\"\n\"reg_delta\",\"\"\n\"sc1\",\"\"\n\"test01\",\"\"\n\"test_delta_datatypes\",\"\"\n\"testdb\",\"\"\n\"ttest\",\"\"",
      "text/html": [
       "<div class = \"td-resultset-table-div\" style = \"max-height: 100%; overflow-y: auto\">\n",
       "      <table class=\"tdhistory786119\"><style>\n",
       "      table.tdhistory786119 { display: block !important; min-height: 399px !important; overflow: auto !important; height: 399px !important; width: 100% !important; border: 1px solid rgb(207, 207, 207) !important; border-collapse: collapse !important; ; color: var(--jp-ui-font-color1) !important; }\n",
       "      th.tdhistory786119 { border: 1px solid rgb(198,198,198) !important; border-collapse: collapse !important; ; padding: 2px 5px !important; ; font-size: 13px !important; ; text-align: center !important; white-space: normal !important; color: var(--jp-ui-font-color1) !important; }\n",
       "      th.tdhistory786119:last-child { text-align: left !important; }\n",
       "      tbody.tdhistory786119 tr:nth-child(even) { background: rgba(243, 243, 243, 0.75) !important; }\n",
       "      tbody.tdhistory786119 tr:nth-child(odd) { background: var(--jp-ui-inverse-font-color1) !important; }\n",
       "      td.tdhistory786119 { border: 1px solid rgb(207, 207, 207) !important; border-collapse: collapse !important; ; padding: 2px 5px !important; ; font-size: 13px !important; ; text-align: left !important;          white-space: nowrap !important; overflow:hidden !important; text-overflow:ellipsis !important;; }\n",
       "    </style><thead><tr style= \"background: rgba(243, 243, 243, 0.75)\"><th class=\"tdhistory786119\"></th><th class=\"tdhistory786119\">DatabaseName</th><th class=\"tdhistory786119\">DatabaseProperties</th></tr></thead><tbody class=\"tdhistory786119 resultset-body\"><tr><th class=\"tdhistory786119\" style= \"background: rgba(243, 243, 243, 0.75)\">1</th><td class=\"tdhistory786119\">default</td><td class=\"tdhistory786119\"></td></tr><tr><th class=\"tdhistory786119\" style= \"background: rgba(243, 243, 243, 0.75)\">2</th><td class=\"tdhistory786119\">demodb</td><td class=\"tdhistory786119\"></td></tr><tr><th class=\"tdhistory786119\" style= \"background: rgba(243, 243, 243, 0.75)\">3</th><td class=\"tdhistory786119\">information_schema</td><td class=\"tdhistory786119\"></td></tr><tr><th class=\"tdhistory786119\" style= \"background: rgba(243, 243, 243, 0.75)\">4</th><td class=\"tdhistory786119\">notf1</td><td class=\"tdhistory786119\"></td></tr><tr><th class=\"tdhistory786119\" style= \"background: rgba(243, 243, 243, 0.75)\">5</th><td class=\"tdhistory786119\">otf2348</td><td class=\"tdhistory786119\"></td></tr><tr><th class=\"tdhistory786119\" style= \"background: rgba(243, 243, 243, 0.75)\">6</th><td class=\"tdhistory786119\">otf3428</td><td class=\"tdhistory786119\">'owner'='root'</td></tr><tr><th class=\"tdhistory786119\" style= \"background: rgba(243, 243, 243, 0.75)\">7</th><td class=\"tdhistory786119\">otf3537</td><td class=\"tdhistory786119\"></td></tr><tr><th class=\"tdhistory786119\" style= \"background: rgba(243, 243, 243, 0.75)\">8</th><td class=\"tdhistory786119\">otfdev</td><td class=\"tdhistory786119\"></td></tr><tr><th class=\"tdhistory786119\" style= \"background: rgba(243, 243, 243, 0.75)\">9</th><td class=\"tdhistory786119\">reg</td><td class=\"tdhistory786119\"></td></tr><tr><th class=\"tdhistory786119\" style= \"background: rgba(243, 243, 243, 0.75)\">10</th><td class=\"tdhistory786119\">reg_delta</td><td class=\"tdhistory786119\"></td></tr><tr><th class=\"tdhistory786119\" style= \"background: rgba(243, 243, 243, 0.75)\">11</th><td class=\"tdhistory786119\">sc1</td><td class=\"tdhistory786119\"></td></tr><tr><th class=\"tdhistory786119\" style= \"background: rgba(243, 243, 243, 0.75)\">12</th><td class=\"tdhistory786119\">test01</td><td class=\"tdhistory786119\"></td></tr><tr><th class=\"tdhistory786119\" style= \"background: rgba(243, 243, 243, 0.75)\">13</th><td class=\"tdhistory786119\">test_delta_datatypes</td><td class=\"tdhistory786119\"></td></tr><tr><th class=\"tdhistory786119\" style= \"background: rgba(243, 243, 243, 0.75)\">14</th><td class=\"tdhistory786119\">testdb</td><td class=\"tdhistory786119\"></td></tr><tr><th class=\"tdhistory786119\" style= \"background: rgba(243, 243, 243, 0.75)\">15</th><td class=\"tdhistory786119\">ttest</td><td class=\"tdhistory786119\"></td></tr></tbody></table></div>"
      ]
     },
     "execution_count": 21,
     "metadata": {
      "application/vnd.teradata.resultset": "{\"resultSetID\":\"/home/jovyan/JupyterLabRoot/Teradata/Resultsets/2025.07.11_15.45.07.448_UTC\",\"historyID\":605,\"chunkID\":\"00001\",\"sessionid\":\"\",\"portnum\":\"\",\"dockermode\":\"docker\",\"totalRowCount\":15,\"chunkCount\":0,\"rowLimit\":0,\"columnMetadata\":[{\"columnName\":\"DatabaseName\",\"columnTypeName\":\"LONG VARCHAR\",\"length\":32000,\"scale\":32000},{\"columnNumber\":1,\"columnName\":\"DatabaseProperties\",\"columnTypeName\":\"LONG VARCHAR\",\"length\":32000,\"scale\":32000}]}"
     },
     "output_type": "execute_result"
    }
   ],
   "source": [
    "HELP DATALAKE delta_unity_gcp_demo"
   ]
  },
  {
   "cell_type": "markdown",
   "id": "69763995-65a4-439b-8e85-218b681f96eb",
   "metadata": {},
   "source": [
    "<div style=\"\n",
    "  margin: 40px 0;\n",
    "  padding: 20px;\n",
    "  background-color: #E1E1E1;\n",
    "  border-left: 6px solid #7c2301;\n",
    "  font-size: 20px;\n",
    "  font-weight: bold;\n",
    "  color: #2c3e50;\n",
    "  text-align: center;\n",
    "  border-radius: 10px;\n",
    "  box-shadow: 0 2px 5px rgba(0,0,0,0.1);\n",
    "\">\n",
    "  Creating Tables and Inserting Data\n",
    "</div>"
   ]
  },
  {
   "cell_type": "markdown",
   "id": "51e70e39-bcf8-4cbf-972e-5eb5429107a0",
   "metadata": {},
   "source": [
    "### **First, we must create the corresponding databases and tables using the two-dot notation**\n",
    "\n",
    "### datalake.database.table\n",
    "#####"
   ]
  },
  {
   "cell_type": "code",
   "execution_count": null,
   "id": "d29379f6-2c98-438a-ba89-fe0c399cfcc7",
   "metadata": {
    "tags": [],
    "vscode": {
     "languageId": "teradata sql"
    }
   },
   "outputs": [],
   "source": [
    "CREATE DATABASE iceberg_hive_gcp_demo.demodb;"
   ]
  },
  {
   "cell_type": "code",
   "execution_count": null,
   "id": "9972bec1-6aae-4e66-8188-b8346de764d1",
   "metadata": {
    "tags": [],
    "vscode": {
     "languageId": "teradata sql"
    }
   },
   "outputs": [],
   "source": [
    "CREATE DATABASE iceberg_unity_gcp_demo.demodb;"
   ]
  },
  {
   "cell_type": "code",
   "execution_count": null,
   "id": "f4fe27c6-3ee3-4ff4-af8e-d7bd0d732adf",
   "metadata": {
    "tags": [],
    "vscode": {
     "languageId": "teradata sql"
    }
   },
   "outputs": [],
   "source": [
    "CREATE DATABASE delta_unity_gcp_demo.demodb;"
   ]
  },
  {
   "cell_type": "code",
   "execution_count": null,
   "id": "61858732-6a38-4396-9a22-b731856abc1a",
   "metadata": {
    "tags": [],
    "vscode": {
     "languageId": "teradata sql"
    }
   },
   "outputs": [],
   "source": [
    "CREATE TABLE iceberg_hive_gcp_demo.demodb.telecom_usage (\n",
    "    user_id INT,\n",
    "    call_date DATE,\n",
    "    call_duration_minutes INT,\n",
    "    data_used_mb FLOAT,\n",
    "    call_type VARCHAR(10),  -- 'local', 'international', 'roaming'\n",
    "    city VARCHAR(50),\n",
    "    network_type VARCHAR(10) -- '4G', '5G', '3G'\n",
    ");"
   ]
  },
  {
   "cell_type": "code",
   "execution_count": null,
   "id": "57f0be28-da70-4664-9c21-2748000e3d2d",
   "metadata": {
    "tags": [],
    "vscode": {
     "languageId": "teradata sql"
    }
   },
   "outputs": [],
   "source": [
    "CREATE TABLE iceberg_unity_gcp_demo.demodb.telecom_usage (\n",
    "    user_id INT,\n",
    "    call_date DATE,\n",
    "    call_duration_minutes INT,\n",
    "    data_used_mb FLOAT,\n",
    "    call_type VARCHAR(10),  -- 'local', 'international', 'roaming'\n",
    "    city VARCHAR(50),\n",
    "    network_type VARCHAR(10) -- '4G', '5G', '3G'\n",
    ");"
   ]
  },
  {
   "cell_type": "code",
   "execution_count": null,
   "id": "f3b2cabe-2439-4781-81f4-0f847d4bdf96",
   "metadata": {
    "tags": [],
    "vscode": {
     "languageId": "teradata sql"
    }
   },
   "outputs": [],
   "source": [
    "CREATE TABLE delta_unity_gcp_demo.demodb.telecom_usage (\n",
    "    user_id INT,\n",
    "    call_date DATE,\n",
    "    call_duration_minutes INT,\n",
    "    data_used_mb FLOAT,\n",
    "    call_type VARCHAR(10),  -- 'local', 'international', 'roaming'\n",
    "    city VARCHAR(50),\n",
    "    network_type VARCHAR(10) -- '4G', '5G', '3G'\n",
    ");"
   ]
  },
  {
   "cell_type": "markdown",
   "id": "0a079d15-54f0-4e4a-87c3-baf1e60b7ad2",
   "metadata": {
    "tags": []
   },
   "source": [
    "### **Insert different sample datasets on all three datalakes**\n",
    "####"
   ]
  },
  {
   "cell_type": "code",
   "execution_count": 14,
   "id": "32174193-b51a-4504-abb9-2896cdfdbf6a",
   "metadata": {
    "tags": [],
    "vscode": {
     "languageId": "teradata sql"
    }
   },
   "outputs": [
    {
     "data": {
      "text/plain": [
       "Success: 1 rows affected"
      ]
     },
     "execution_count": 14,
     "metadata": {
      "application/vnd.teradata.resultset": ""
     },
     "output_type": "execute_result"
    }
   ],
   "source": [
    "INSERT INTO iceberg_hive_gcp_demo.demodb.telecom_usage VALUES (1, DATE '2025-04-01', 10, 150.5, 'local', 'Mexico City', '5G');"
   ]
  },
  {
   "cell_type": "code",
   "execution_count": 15,
   "id": "9e5b5bf6-69f2-4f28-9942-7787625e88c2",
   "metadata": {
    "tags": [],
    "vscode": {
     "languageId": "teradata sql"
    }
   },
   "outputs": [
    {
     "data": {
      "text/plain": [
       "Success: 1 rows affected"
      ]
     },
     "execution_count": 15,
     "metadata": {
      "application/vnd.teradata.resultset": ""
     },
     "output_type": "execute_result"
    }
   ],
   "source": [
    "INSERT INTO iceberg_hive_gcp_demo.demodb.telecom_usage VALUES (2, DATE '2025-04-01', 5, 50.2, 'international', 'Monterrey', '4G');"
   ]
  },
  {
   "cell_type": "code",
   "execution_count": 16,
   "id": "a185ae18-26bb-4cdb-8b4b-ffe6a4852c8d",
   "metadata": {
    "tags": [],
    "vscode": {
     "languageId": "teradata sql"
    }
   },
   "outputs": [
    {
     "data": {
      "text/plain": [
       "Success: 1 rows affected"
      ]
     },
     "execution_count": 16,
     "metadata": {
      "application/vnd.teradata.resultset": ""
     },
     "output_type": "execute_result"
    }
   ],
   "source": [
    "INSERT INTO iceberg_hive_gcp_demo.demodb.telecom_usage VALUES (3, DATE '2025-04-01', 2, 20.0, 'roaming', 'Guadalajara', '3G');"
   ]
  },
  {
   "cell_type": "code",
   "execution_count": 17,
   "id": "6310aed9-abbf-4556-ad90-78c7e74e4b4b",
   "metadata": {
    "tags": [],
    "vscode": {
     "languageId": "teradata sql"
    }
   },
   "outputs": [
    {
     "data": {
      "text/plain": [
       "Success: 1 rows affected"
      ]
     },
     "execution_count": 17,
     "metadata": {
      "application/vnd.teradata.resultset": ""
     },
     "output_type": "execute_result"
    }
   ],
   "source": [
    "INSERT INTO iceberg_hive_gcp_demo.demodb.telecom_usage VALUES (1, DATE '2025-04-02', 15, 100.3, 'local', 'Mexico City', '5G');"
   ]
  },
  {
   "cell_type": "code",
   "execution_count": 18,
   "id": "2f6417a8-958a-431b-8bbd-f5f6030b1d75",
   "metadata": {
    "tags": [],
    "vscode": {
     "languageId": "teradata sql"
    }
   },
   "outputs": [
    {
     "data": {
      "text/plain": [
       "Success: 1 rows affected"
      ]
     },
     "execution_count": 18,
     "metadata": {
      "application/vnd.teradata.resultset": ""
     },
     "output_type": "execute_result"
    },
    {
     "data": {
      "text/plain": [
       "Success: 0 rows affected"
      ]
     },
     "execution_count": 18,
     "metadata": {
      "application/vnd.teradata.resultset": ""
     },
     "output_type": "execute_result"
    }
   ],
   "source": [
    "INSERT INTO iceberg_hive_gcp_demo.demodb.telecom_usage VALUES (2, DATE '2025-04-02', 8, 30.0, 'local', 'Monterrey', '4G');;"
   ]
  },
  {
   "cell_type": "code",
   "execution_count": 55,
   "id": "6a6b5fee-3387-4766-811c-29cea8e70481",
   "metadata": {
    "tags": [],
    "vscode": {
     "languageId": "teradata sql"
    }
   },
   "outputs": [
    {
     "data": {
      "text/plain": [
       "Success: 1 rows affected"
      ]
     },
     "execution_count": 55,
     "metadata": {
      "application/vnd.teradata.resultset": ""
     },
     "output_type": "execute_result"
    }
   ],
   "source": [
    "INSERT INTO iceberg_unity_gcp_demo.demodb.telecom_usage VALUES (7, DATE '2025-04-01', 12, 180.0, 'local', 'Wroclaw', '5G');"
   ]
  },
  {
   "cell_type": "code",
   "execution_count": 56,
   "id": "7914e862-d922-4e3a-9e74-3aca7c2796d9",
   "metadata": {
    "tags": [],
    "vscode": {
     "languageId": "teradata sql"
    }
   },
   "outputs": [
    {
     "data": {
      "text/plain": [
       "Success: 1 rows affected"
      ]
     },
     "execution_count": 56,
     "metadata": {
      "application/vnd.teradata.resultset": ""
     },
     "output_type": "execute_result"
    }
   ],
   "source": [
    "INSERT INTO iceberg_unity_gcp_demo.demodb.telecom_usage VALUES (8, DATE '2025-04-01', 6, 60.0, 'international', 'Gdansk', '4G');"
   ]
  },
  {
   "cell_type": "code",
   "execution_count": 3,
   "id": "712c0b90-763e-4823-91db-21a434158d3c",
   "metadata": {
    "tags": [],
    "vscode": {
     "languageId": "teradata sql"
    }
   },
   "outputs": [
    {
     "data": {
      "text/plain": [
       "Success: 1 rows affected"
      ]
     },
     "execution_count": 3,
     "metadata": {
      "application/vnd.teradata.resultset": ""
     },
     "output_type": "execute_result"
    }
   ],
   "source": [
    "INSERT INTO iceberg_unity_gcp_demo.demodb.telecom_usage VALUES (9, DATE '2025-04-01', 2, 25.0, 'roaming', 'Poznan', '3G');"
   ]
  },
  {
   "cell_type": "code",
   "execution_count": 4,
   "id": "3b32f244-e6dc-4534-a222-9b2788ac6f9d",
   "metadata": {
    "tags": [],
    "vscode": {
     "languageId": "teradata sql"
    }
   },
   "outputs": [
    {
     "data": {
      "text/plain": [
       "Success: 1 rows affected"
      ]
     },
     "execution_count": 4,
     "metadata": {
      "application/vnd.teradata.resultset": ""
     },
     "output_type": "execute_result"
    }
   ],
   "source": [
    "INSERT INTO iceberg_unity_gcp_demo.demodb.telecom_usage VALUES (7, DATE '2025-04-02', 10, 190.5, 'local', 'Wroclaw', '5G');"
   ]
  },
  {
   "cell_type": "code",
   "execution_count": 5,
   "id": "9e0efb50-7aed-4c42-956d-cf73e4c927f0",
   "metadata": {
    "tags": [],
    "vscode": {
     "languageId": "teradata sql"
    }
   },
   "outputs": [
    {
     "data": {
      "text/plain": [
       "Success: 1 rows affected"
      ]
     },
     "execution_count": 5,
     "metadata": {
      "application/vnd.teradata.resultset": ""
     },
     "output_type": "execute_result"
    }
   ],
   "source": [
    "INSERT INTO iceberg_unity_gcp_demo.demodb.telecom_usage VALUES (8, DATE '2025-04-02', 4, 40.0, 'local', 'Gdansk', '4G');"
   ]
  },
  {
   "cell_type": "code",
   "execution_count": 6,
   "id": "aa0eab77-0198-46de-822b-a6bc88892fae",
   "metadata": {
    "tags": [],
    "vscode": {
     "languageId": "teradata sql"
    }
   },
   "outputs": [
    {
     "data": {
      "text/plain": [
       "Success: 1 rows affected"
      ]
     },
     "execution_count": 6,
     "metadata": {
      "application/vnd.teradata.resultset": ""
     },
     "output_type": "execute_result"
    }
   ],
   "source": [
    "INSERT INTO delta_unity_gcp_demo.demodb.telecom_usage VALUES (4, DATE '2025-04-01', 7, 95.0, 'local', 'Warsaw', '5G');"
   ]
  },
  {
   "cell_type": "code",
   "execution_count": 7,
   "id": "05a6e1c9-7d18-4d19-a9e9-bd417aeb1911",
   "metadata": {
    "tags": [],
    "vscode": {
     "languageId": "teradata sql"
    }
   },
   "outputs": [
    {
     "data": {
      "text/plain": [
       "Success: 1 rows affected"
      ]
     },
     "execution_count": 7,
     "metadata": {
      "application/vnd.teradata.resultset": ""
     },
     "output_type": "execute_result"
    }
   ],
   "source": [
    "INSERT INTO delta_unity_gcp_demo.demodb.telecom_usage VALUES (5, DATE '2025-04-01', 3, 35.2, 'international', 'Krakow', '4G');"
   ]
  },
  {
   "cell_type": "code",
   "execution_count": 3,
   "id": "266b6bd7-6216-47e2-ace6-6a046e08f1be",
   "metadata": {
    "tags": [],
    "vscode": {
     "languageId": "teradata sql"
    }
   },
   "outputs": [
    {
     "data": {
      "text/plain": [
       "Success: 1 rows affected"
      ]
     },
     "execution_count": 3,
     "metadata": {
      "application/vnd.teradata.resultset": ""
     },
     "output_type": "execute_result"
    }
   ],
   "source": [
    "INSERT INTO delta_unity_gcp_demo.demodb.telecom_usage VALUES (6, DATE '2025-04-01', 1, 15.0, 'roaming', 'Lodz', '3G');"
   ]
  },
  {
   "cell_type": "code",
   "execution_count": 4,
   "id": "57c765b1-fa4a-4d3a-91fd-d1a9bdd89505",
   "metadata": {
    "tags": [],
    "vscode": {
     "languageId": "teradata sql"
    }
   },
   "outputs": [
    {
     "data": {
      "text/plain": [
       "Success: 1 rows affected"
      ]
     },
     "execution_count": 4,
     "metadata": {
      "application/vnd.teradata.resultset": ""
     },
     "output_type": "execute_result"
    }
   ],
   "source": [
    "INSERT INTO delta_unity_gcp_demo.demodb.telecom_usage VALUES (4, DATE '2025-04-02', 11, 110.0, 'local', 'Warsaw', '5G');"
   ]
  },
  {
   "cell_type": "code",
   "execution_count": 5,
   "id": "8ff11e2f-28f4-4a51-b677-4fce0671c57d",
   "metadata": {
    "tags": [],
    "vscode": {
     "languageId": "teradata sql"
    }
   },
   "outputs": [
    {
     "data": {
      "text/plain": [
       "Success: 1 rows affected"
      ]
     },
     "execution_count": 5,
     "metadata": {
      "application/vnd.teradata.resultset": ""
     },
     "output_type": "execute_result"
    }
   ],
   "source": [
    "INSERT INTO delta_unity_gcp_demo.demodb.telecom_usage VALUES (5, DATE '2025-04-02', 4, 45.5, 'local', 'Krakow', '4G');"
   ]
  },
  {
   "cell_type": "markdown",
   "id": "721c2b82-4523-43eb-8348-8acda3a98e14",
   "metadata": {},
   "source": [
    "<div style=\"\n",
    "  margin: 40px 0;\n",
    "  padding: 20px;\n",
    "  background-color: #E1E1E1;\n",
    "  border-left: 6px solid #7c2301;\n",
    "  font-size: 20px;\n",
    "  font-weight: bold;\n",
    "  color: #2c3e50;\n",
    "  text-align: center;\n",
    "  border-radius: 10px;\n",
    "  box-shadow: 0 2px 5px rgba(0,0,0,0.1);\n",
    "\">\n",
    "  Querying data from different sources\n",
    "</div>"
   ]
  },
  {
   "cell_type": "code",
   "execution_count": 26,
   "id": "6dbd755e-f805-4a06-b198-13c74e742cb4",
   "metadata": {
    "tags": [],
    "vscode": {
     "languageId": "teradata sql"
    }
   },
   "outputs": [
    {
     "data": {
      "application/vnd.teradata.resultset": "\"user_id\",\"call_date\",\"call_duration_minutes\",\"data_used_mb\",\"call_type\",\"city\",\"network_type\"\n\"1\",\"2025-04-02\",\"15\",\"100.3\",\"local\",\"Mexico City\",\"5G\"\n\"2\",\"2025-04-02\",\"8\",\"30\",\"local\",\"Monterrey\",\"4G\"\n\"3\",\"2025-04-01\",\"2\",\"20\",\"roaming\",\"Guadalajara\",\"3G\"\n\"1\",\"2025-04-01\",\"10\",\"150.5\",\"local\",\"Mexico City\",\"5G\"\n\"2\",\"2025-04-01\",\"5\",\"50.2\",\"international\",\"Monterrey\",\"4G\"",
      "text/html": [
       "<div class = \"td-resultset-table-div\" style = \"max-height: 100%; overflow-y: auto\">\n",
       "      <table class=\"tdhistory139474\"><style>\n",
       "      table.tdhistory139474 { display: block !important; min-height: 189px !important; overflow: auto !important; height: 189px !important; width: 100% !important; border: 1px solid rgb(207, 207, 207) !important; border-collapse: collapse !important; ; color: var(--jp-ui-font-color1) !important; }\n",
       "      th.tdhistory139474 { border: 1px solid rgb(198,198,198) !important; border-collapse: collapse !important; ; padding: 2px 5px !important; ; font-size: 13px !important; ; text-align: center !important; white-space: normal !important; color: var(--jp-ui-font-color1) !important; }\n",
       "      th.tdhistory139474:last-child { text-align: left !important; }\n",
       "      tbody.tdhistory139474 tr:nth-child(even) { background: rgba(243, 243, 243, 0.75) !important; }\n",
       "      tbody.tdhistory139474 tr:nth-child(odd) { background: var(--jp-ui-inverse-font-color1) !important; }\n",
       "      td.tdhistory139474 { border: 1px solid rgb(207, 207, 207) !important; border-collapse: collapse !important; ; padding: 2px 5px !important; ; font-size: 13px !important; ; text-align: left !important;          white-space: nowrap !important; overflow:hidden !important; text-overflow:ellipsis !important;; }\n",
       "    </style><thead><tr style= \"background: rgba(243, 243, 243, 0.75)\"><th class=\"tdhistory139474\"></th><th class=\"tdhistory139474\">user_id</th><th class=\"tdhistory139474\">call_date</th><th class=\"tdhistory139474\">call_duration_minutes</th><th class=\"tdhistory139474\">data_used_mb</th><th class=\"tdhistory139474\">call_type</th><th class=\"tdhistory139474\">city</th><th class=\"tdhistory139474\">network_type</th></tr></thead><tbody class=\"tdhistory139474 resultset-body\"><tr><th class=\"tdhistory139474\" style= \"background: rgba(243, 243, 243, 0.75)\">1</th><td class=\"tdhistory139474\">1</td><td class=\"tdhistory139474\">2025-04-02</td><td class=\"tdhistory139474\">15</td><td class=\"tdhistory139474\">100.3</td><td class=\"tdhistory139474\">local</td><td class=\"tdhistory139474\">Mexico City</td><td class=\"tdhistory139474\">5G</td></tr><tr><th class=\"tdhistory139474\" style= \"background: rgba(243, 243, 243, 0.75)\">2</th><td class=\"tdhistory139474\">2</td><td class=\"tdhistory139474\">2025-04-02</td><td class=\"tdhistory139474\">8</td><td class=\"tdhistory139474\">30</td><td class=\"tdhistory139474\">local</td><td class=\"tdhistory139474\">Monterrey</td><td class=\"tdhistory139474\">4G</td></tr><tr><th class=\"tdhistory139474\" style= \"background: rgba(243, 243, 243, 0.75)\">3</th><td class=\"tdhistory139474\">3</td><td class=\"tdhistory139474\">2025-04-01</td><td class=\"tdhistory139474\">2</td><td class=\"tdhistory139474\">20</td><td class=\"tdhistory139474\">roaming</td><td class=\"tdhistory139474\">Guadalajara</td><td class=\"tdhistory139474\">3G</td></tr><tr><th class=\"tdhistory139474\" style= \"background: rgba(243, 243, 243, 0.75)\">4</th><td class=\"tdhistory139474\">1</td><td class=\"tdhistory139474\">2025-04-01</td><td class=\"tdhistory139474\">10</td><td class=\"tdhistory139474\">150.5</td><td class=\"tdhistory139474\">local</td><td class=\"tdhistory139474\">Mexico City</td><td class=\"tdhistory139474\">5G</td></tr><tr><th class=\"tdhistory139474\" style= \"background: rgba(243, 243, 243, 0.75)\">5</th><td class=\"tdhistory139474\">2</td><td class=\"tdhistory139474\">2025-04-01</td><td class=\"tdhistory139474\">5</td><td class=\"tdhistory139474\">50.2</td><td class=\"tdhistory139474\">international</td><td class=\"tdhistory139474\">Monterrey</td><td class=\"tdhistory139474\">4G</td></tr></tbody></table></div>"
      ]
     },
     "execution_count": 26,
     "metadata": {
      "application/vnd.teradata.resultset": "{\"resultSetID\":\"/home/jovyan/JupyterLabRoot/Teradata/Resultsets/2025.07.11_16.09.37.076_UTC\",\"historyID\":640,\"chunkID\":\"00001\",\"sessionid\":\"\",\"portnum\":\"\",\"dockermode\":\"docker\",\"totalRowCount\":5,\"chunkCount\":0,\"rowLimit\":0,\"columnMetadata\":[{\"columnName\":\"user_id\",\"columnTypeName\":\"INTEGER\"},{\"columnNumber\":1,\"columnName\":\"call_date\",\"columnTypeName\":\"DATE\"},{\"columnNumber\":2,\"columnName\":\"call_duration_minutes\",\"columnTypeName\":\"INTEGER\"},{\"columnNumber\":3,\"columnName\":\"data_used_mb\",\"columnTypeName\":\"FLOAT\"},{\"columnNumber\":4,\"columnName\":\"call_type\",\"columnTypeName\":\"VARCHAR\",\"length\":2000,\"scale\":2000},{\"columnNumber\":5,\"columnName\":\"city\",\"columnTypeName\":\"VARCHAR\",\"length\":2000,\"scale\":2000},{\"columnNumber\":6,\"columnName\":\"network_type\",\"columnTypeName\":\"VARCHAR\",\"length\":2000,\"scale\":2000}]}"
     },
     "output_type": "execute_result"
    }
   ],
   "source": [
    "SELECT * FROM iceberg_hive_gcp_demo.demodb.telecom_usage;"
   ]
  },
  {
   "cell_type": "code",
   "execution_count": null,
   "id": "6ec2b10a-5ad5-4265-a425-95a4121d1913",
   "metadata": {
    "tags": [],
    "vscode": {
     "languageId": "teradata sql"
    }
   },
   "outputs": [],
   "source": [
    "SELECT \n",
    "    user_id,\n",
    "    SUM(call_duration_minutes) AS total_minutes,\n",
    "    SUM(data_used_mb) AS total_data_mb\n",
    "FROM iceberg_unity_gcp_demo.demodb.telecom_usage\n",
    "GROUP BY user_id\n",
    "ORDER BY total_data_mb DESC;"
   ]
  },
  {
   "cell_type": "code",
   "execution_count": 7,
   "id": "b7f15077-c4c1-4c61-bc3a-ce14b6a9a9f4",
   "metadata": {
    "tags": [],
    "vscode": {
     "languageId": "teradata sql"
    }
   },
   "outputs": [
    {
     "data": {
      "application/vnd.teradata.resultset": "\"user_id\",\"total_minutes\",\"total_data_mb\"\n\"7\",\"22\",\"370.5\"\n\"8\",\"10\",\"100\"\n\"9\",\"4\",\"50\"",
      "text/html": [
       "<div class = \"td-resultset-table-div\" style = \"max-height: 100%; overflow-y: auto\">\n",
       "      <table class=\"tdhistory828150\"><style>\n",
       "      table.tdhistory828150 { display: block !important; min-height: 147px !important; overflow: auto !important; height: 147px !important; width: 100% !important; border: 1px solid rgb(207, 207, 207) !important; border-collapse: collapse !important; ; color: var(--jp-ui-font-color1) !important; }\n",
       "      th.tdhistory828150 { border: 1px solid rgb(198,198,198) !important; border-collapse: collapse !important; ; padding: 2px 5px !important; ; font-size: 13px !important; ; text-align: center !important; white-space: normal !important; color: var(--jp-ui-font-color1) !important; }\n",
       "      th.tdhistory828150:last-child { text-align: left !important; }\n",
       "      tbody.tdhistory828150 tr:nth-child(even) { background: rgba(243, 243, 243, 0.75) !important; }\n",
       "      tbody.tdhistory828150 tr:nth-child(odd) { background: var(--jp-ui-inverse-font-color1) !important; }\n",
       "      td.tdhistory828150 { border: 1px solid rgb(207, 207, 207) !important; border-collapse: collapse !important; ; padding: 2px 5px !important; ; font-size: 13px !important; ; text-align: left !important;          white-space: nowrap !important; overflow:hidden !important; text-overflow:ellipsis !important;; }\n",
       "    </style><thead><tr style= \"background: rgba(243, 243, 243, 0.75)\"><th class=\"tdhistory828150\"></th><th class=\"tdhistory828150\">user_id</th><th class=\"tdhistory828150\">total_minutes</th><th class=\"tdhistory828150\">total_data_mb</th></tr></thead><tbody class=\"tdhistory828150 resultset-body\"><tr><th class=\"tdhistory828150\" style= \"background: rgba(243, 243, 243, 0.75)\">1</th><td class=\"tdhistory828150\">7</td><td class=\"tdhistory828150\">22</td><td class=\"tdhistory828150\">370.5</td></tr><tr><th class=\"tdhistory828150\" style= \"background: rgba(243, 243, 243, 0.75)\">2</th><td class=\"tdhistory828150\">8</td><td class=\"tdhistory828150\">10</td><td class=\"tdhistory828150\">100</td></tr><tr><th class=\"tdhistory828150\" style= \"background: rgba(243, 243, 243, 0.75)\">3</th><td class=\"tdhistory828150\">9</td><td class=\"tdhistory828150\">4</td><td class=\"tdhistory828150\">50</td></tr></tbody></table></div>"
      ]
     },
     "execution_count": 7,
     "metadata": {
      "application/vnd.teradata.resultset": "{\"resultSetID\":\"/home/jovyan/JupyterLabRoot/Teradata/Resultsets/2025.04.25_01.58.21.543_UTC\",\"historyID\":487,\"chunkID\":\"00001\",\"sessionid\":\"\",\"portnum\":\"\",\"dockermode\":\"docker\",\"totalRowCount\":3,\"chunkCount\":0,\"rowLimit\":0,\"columnMetadata\":[{\"columnName\":\"user_id\",\"columnTypeName\":\"INTEGER\"},{\"columnNumber\":1,\"columnName\":\"total_minutes\",\"columnTypeName\":\"INTEGER\"},{\"columnNumber\":2,\"columnName\":\"total_data_mb\",\"columnTypeName\":\"FLOAT\"}]}"
     },
     "output_type": "execute_result"
    }
   ],
   "source": [
    "SELECT \n",
    "    user_id,\n",
    "    SUM(call_duration_minutes) AS total_minutes,\n",
    "    SUM(data_used_mb) AS total_data_mb\n",
    "FROM iceberg_unity_gcp_demo.demodb.telecom_usage\n",
    "GROUP BY user_id\n",
    "ORDER BY total_data_mb DESC;"
   ]
  },
  {
   "cell_type": "code",
   "execution_count": 8,
   "id": "61c5fbaf-0c33-4ee9-b026-4f4aaa1fd2de",
   "metadata": {
    "tags": [],
    "vscode": {
     "languageId": "teradata sql"
    }
   },
   "outputs": [
    {
     "data": {
      "application/vnd.teradata.resultset": "\"call_date\",\"total_daily_data_mb\"\n\"2025-04-01\",\"160.2\"\n\"2025-04-02\",\"155.5\"",
      "text/html": [
       "<div class = \"td-resultset-table-div\" style = \"max-height: 100%; overflow-y: auto\">\n",
       "      <table class=\"tdhistory992627\"><style>\n",
       "      table.tdhistory992627 { display: block !important; min-height: 126px !important; overflow: auto !important; height: 126px !important; width: 100% !important; border: 1px solid rgb(207, 207, 207) !important; border-collapse: collapse !important; ; color: var(--jp-ui-font-color1) !important; }\n",
       "      th.tdhistory992627 { border: 1px solid rgb(198,198,198) !important; border-collapse: collapse !important; ; padding: 2px 5px !important; ; font-size: 13px !important; ; text-align: center !important; white-space: normal !important; color: var(--jp-ui-font-color1) !important; }\n",
       "      th.tdhistory992627:last-child { text-align: left !important; }\n",
       "      tbody.tdhistory992627 tr:nth-child(even) { background: rgba(243, 243, 243, 0.75) !important; }\n",
       "      tbody.tdhistory992627 tr:nth-child(odd) { background: var(--jp-ui-inverse-font-color1) !important; }\n",
       "      td.tdhistory992627 { border: 1px solid rgb(207, 207, 207) !important; border-collapse: collapse !important; ; padding: 2px 5px !important; ; font-size: 13px !important; ; text-align: left !important;          white-space: nowrap !important; overflow:hidden !important; text-overflow:ellipsis !important;; }\n",
       "    </style><thead><tr style= \"background: rgba(243, 243, 243, 0.75)\"><th class=\"tdhistory992627\"></th><th class=\"tdhistory992627\">call_date</th><th class=\"tdhistory992627\">total_daily_data_mb</th></tr></thead><tbody class=\"tdhistory992627 resultset-body\"><tr><th class=\"tdhistory992627\" style= \"background: rgba(243, 243, 243, 0.75)\">1</th><td class=\"tdhistory992627\">2025-04-01</td><td class=\"tdhistory992627\">160.2</td></tr><tr><th class=\"tdhistory992627\" style= \"background: rgba(243, 243, 243, 0.75)\">2</th><td class=\"tdhistory992627\">2025-04-02</td><td class=\"tdhistory992627\">155.5</td></tr></tbody></table></div>"
      ]
     },
     "execution_count": 8,
     "metadata": {
      "application/vnd.teradata.resultset": "{\"resultSetID\":\"/home/jovyan/JupyterLabRoot/Teradata/Resultsets/2025.04.25_01.58.38.366_UTC\",\"historyID\":488,\"chunkID\":\"00001\",\"sessionid\":\"\",\"portnum\":\"\",\"dockermode\":\"docker\",\"totalRowCount\":2,\"chunkCount\":0,\"rowLimit\":0,\"columnMetadata\":[{\"columnName\":\"call_date\",\"columnTypeName\":\"DATE\"},{\"columnNumber\":1,\"columnName\":\"total_daily_data_mb\",\"columnTypeName\":\"FLOAT\"}]}"
     },
     "output_type": "execute_result"
    }
   ],
   "source": [
    "SELECT \n",
    "    call_date,\n",
    "    SUM(data_used_mb) AS total_daily_data_mb\n",
    "FROM delta_unity_gcp_demo.demodb.telecom_usage\n",
    "GROUP BY call_date\n",
    "ORDER BY call_date;"
   ]
  },
  {
   "cell_type": "markdown",
   "id": "71758330-b9ee-46c7-8b0e-fdf98d119991",
   "metadata": {},
   "source": [
    "## Cross-Catalog (Iceberg Unity with Iceberg Hive)"
   ]
  },
  {
   "cell_type": "code",
   "execution_count": 9,
   "id": "855326d8-4505-4e09-91ab-94600234f187",
   "metadata": {
    "tags": [],
    "vscode": {
     "languageId": "teradata sql"
    }
   },
   "outputs": [
    {
     "data": {
      "application/vnd.teradata.resultset": "\"user_id\",\"call_date\",\"call_type\",\"city\",\"network_type\",\"call_duration_minutes\",\"data_used_mb\"\n\"8\",\"2025-04-01\",\"international\",\"Gdansk\",\"4G\",\"6\",\"60\"\n\"2\",\"2025-04-01\",\"international\",\"Monterrey\",\"4G\",\"5\",\"50.2\"\n\"1\",\"2025-04-02\",\"local\",\"Mexico City\",\"5G\",\"15\",\"100.3\"\n\"8\",\"2025-04-02\",\"local\",\"Gdansk\",\"4G\",\"4\",\"40\"\n\"3\",\"2025-04-01\",\"roaming\",\"Guadalajara\",\"3G\",\"2\",\"20\"\n\"1\",\"2025-04-01\",\"local\",\"Mexico City\",\"5G\",\"10\",\"150.5\"\n\"7\",\"2025-04-02\",\"local\",\"Wroclaw\",\"5G\",\"10\",\"190.5\"\n\"2\",\"2025-04-02\",\"local\",\"Monterrey\",\"4G\",\"8\",\"30\"\n\"9\",\"2025-04-01\",\"roaming\",\"Poznan\",\"3G\",\"2\",\"25\"\n\"9\",\"2025-04-01\",\"roaming\",\"Poznan\",\"3G\",\"2\",\"25\"\n\"7\",\"2025-04-01\",\"local\",\"Wroclaw\",\"5G\",\"12\",\"180\"",
      "text/html": [
       "<div class = \"td-resultset-table-div\" style = \"max-height: 100%; overflow-y: auto\">\n",
       "      <table class=\"tdhistory790092\"><style>\n",
       "      table.tdhistory790092 { display: block !important; min-height: 315px !important; overflow: auto !important; height: 315px !important; width: 100% !important; border: 1px solid rgb(207, 207, 207) !important; border-collapse: collapse !important; ; color: var(--jp-ui-font-color1) !important; }\n",
       "      th.tdhistory790092 { border: 1px solid rgb(198,198,198) !important; border-collapse: collapse !important; ; padding: 2px 5px !important; ; font-size: 13px !important; ; text-align: center !important; white-space: normal !important; color: var(--jp-ui-font-color1) !important; }\n",
       "      th.tdhistory790092:last-child { text-align: left !important; }\n",
       "      tbody.tdhistory790092 tr:nth-child(even) { background: rgba(243, 243, 243, 0.75) !important; }\n",
       "      tbody.tdhistory790092 tr:nth-child(odd) { background: var(--jp-ui-inverse-font-color1) !important; }\n",
       "      td.tdhistory790092 { border: 1px solid rgb(207, 207, 207) !important; border-collapse: collapse !important; ; padding: 2px 5px !important; ; font-size: 13px !important; ; text-align: left !important;          white-space: nowrap !important; overflow:hidden !important; text-overflow:ellipsis !important;; }\n",
       "    </style><thead><tr style= \"background: rgba(243, 243, 243, 0.75)\"><th class=\"tdhistory790092\"></th><th class=\"tdhistory790092\">user_id</th><th class=\"tdhistory790092\">call_date</th><th class=\"tdhistory790092\">call_type</th><th class=\"tdhistory790092\">city</th><th class=\"tdhistory790092\">network_type</th><th class=\"tdhistory790092\">call_duration_minutes</th><th class=\"tdhistory790092\">data_used_mb</th></tr></thead><tbody class=\"tdhistory790092 resultset-body\"><tr><th class=\"tdhistory790092\" style= \"background: rgba(243, 243, 243, 0.75)\">1</th><td class=\"tdhistory790092\">8</td><td class=\"tdhistory790092\">2025-04-01</td><td class=\"tdhistory790092\">international</td><td class=\"tdhistory790092\">Gdansk</td><td class=\"tdhistory790092\">4G</td><td class=\"tdhistory790092\">6</td><td class=\"tdhistory790092\">60</td></tr><tr><th class=\"tdhistory790092\" style= \"background: rgba(243, 243, 243, 0.75)\">2</th><td class=\"tdhistory790092\">2</td><td class=\"tdhistory790092\">2025-04-01</td><td class=\"tdhistory790092\">international</td><td class=\"tdhistory790092\">Monterrey</td><td class=\"tdhistory790092\">4G</td><td class=\"tdhistory790092\">5</td><td class=\"tdhistory790092\">50.2</td></tr><tr><th class=\"tdhistory790092\" style= \"background: rgba(243, 243, 243, 0.75)\">3</th><td class=\"tdhistory790092\">1</td><td class=\"tdhistory790092\">2025-04-02</td><td class=\"tdhistory790092\">local</td><td class=\"tdhistory790092\">Mexico City</td><td class=\"tdhistory790092\">5G</td><td class=\"tdhistory790092\">15</td><td class=\"tdhistory790092\">100.3</td></tr><tr><th class=\"tdhistory790092\" style= \"background: rgba(243, 243, 243, 0.75)\">4</th><td class=\"tdhistory790092\">8</td><td class=\"tdhistory790092\">2025-04-02</td><td class=\"tdhistory790092\">local</td><td class=\"tdhistory790092\">Gdansk</td><td class=\"tdhistory790092\">4G</td><td class=\"tdhistory790092\">4</td><td class=\"tdhistory790092\">40</td></tr><tr><th class=\"tdhistory790092\" style= \"background: rgba(243, 243, 243, 0.75)\">5</th><td class=\"tdhistory790092\">3</td><td class=\"tdhistory790092\">2025-04-01</td><td class=\"tdhistory790092\">roaming</td><td class=\"tdhistory790092\">Guadalajara</td><td class=\"tdhistory790092\">3G</td><td class=\"tdhistory790092\">2</td><td class=\"tdhistory790092\">20</td></tr><tr><th class=\"tdhistory790092\" style= \"background: rgba(243, 243, 243, 0.75)\">6</th><td class=\"tdhistory790092\">1</td><td class=\"tdhistory790092\">2025-04-01</td><td class=\"tdhistory790092\">local</td><td class=\"tdhistory790092\">Mexico City</td><td class=\"tdhistory790092\">5G</td><td class=\"tdhistory790092\">10</td><td class=\"tdhistory790092\">150.5</td></tr><tr><th class=\"tdhistory790092\" style= \"background: rgba(243, 243, 243, 0.75)\">7</th><td class=\"tdhistory790092\">7</td><td class=\"tdhistory790092\">2025-04-02</td><td class=\"tdhistory790092\">local</td><td class=\"tdhistory790092\">Wroclaw</td><td class=\"tdhistory790092\">5G</td><td class=\"tdhistory790092\">10</td><td class=\"tdhistory790092\">190.5</td></tr><tr><th class=\"tdhistory790092\" style= \"background: rgba(243, 243, 243, 0.75)\">8</th><td class=\"tdhistory790092\">2</td><td class=\"tdhistory790092\">2025-04-02</td><td class=\"tdhistory790092\">local</td><td class=\"tdhistory790092\">Monterrey</td><td class=\"tdhistory790092\">4G</td><td class=\"tdhistory790092\">8</td><td class=\"tdhistory790092\">30</td></tr><tr><th class=\"tdhistory790092\" style= \"background: rgba(243, 243, 243, 0.75)\">9</th><td class=\"tdhistory790092\">9</td><td class=\"tdhistory790092\">2025-04-01</td><td class=\"tdhistory790092\">roaming</td><td class=\"tdhistory790092\">Poznan</td><td class=\"tdhistory790092\">3G</td><td class=\"tdhistory790092\">2</td><td class=\"tdhistory790092\">25</td></tr><tr><th class=\"tdhistory790092\" style= \"background: rgba(243, 243, 243, 0.75)\">10</th><td class=\"tdhistory790092\">9</td><td class=\"tdhistory790092\">2025-04-01</td><td class=\"tdhistory790092\">roaming</td><td class=\"tdhistory790092\">Poznan</td><td class=\"tdhistory790092\">3G</td><td class=\"tdhistory790092\">2</td><td class=\"tdhistory790092\">25</td></tr><tr><th class=\"tdhistory790092\" style= \"background: rgba(243, 243, 243, 0.75)\">11</th><td class=\"tdhistory790092\">7</td><td class=\"tdhistory790092\">2025-04-01</td><td class=\"tdhistory790092\">local</td><td class=\"tdhistory790092\">Wroclaw</td><td class=\"tdhistory790092\">5G</td><td class=\"tdhistory790092\">12</td><td class=\"tdhistory790092\">180</td></tr></tbody></table></div>"
      ]
     },
     "execution_count": 9,
     "metadata": {
      "application/vnd.teradata.resultset": "{\"resultSetID\":\"/home/jovyan/JupyterLabRoot/Teradata/Resultsets/2025.04.25_01.58.48.532_UTC\",\"historyID\":489,\"chunkID\":\"00001\",\"sessionid\":\"\",\"portnum\":\"\",\"dockermode\":\"docker\",\"totalRowCount\":11,\"chunkCount\":0,\"rowLimit\":0,\"columnMetadata\":[{\"columnName\":\"user_id\",\"columnTypeName\":\"INTEGER\"},{\"columnNumber\":1,\"columnName\":\"call_date\",\"columnTypeName\":\"DATE\"},{\"columnNumber\":2,\"columnName\":\"call_type\",\"columnTypeName\":\"VARCHAR\",\"length\":2000,\"scale\":2000},{\"columnNumber\":3,\"columnName\":\"city\",\"columnTypeName\":\"VARCHAR\",\"length\":2000,\"scale\":2000},{\"columnNumber\":4,\"columnName\":\"network_type\",\"columnTypeName\":\"VARCHAR\",\"length\":2000,\"scale\":2000},{\"columnNumber\":5,\"columnName\":\"call_duration_minutes\",\"columnTypeName\":\"INTEGER\"},{\"columnNumber\":6,\"columnName\":\"data_used_mb\",\"columnTypeName\":\"FLOAT\"}]}"
     },
     "output_type": "execute_result"
    }
   ],
   "source": [
    "WITH rtbl AS (\n",
    "    SELECT * FROM iceberg_hive_gcp_demo.demodb.telecom_usage\n",
    "), \n",
    "ltbl AS (\n",
    "    SELECT * FROM iceberg_unity_gcp_demo.demodb.telecom_usage\n",
    ")\n",
    "\n",
    "SELECT\n",
    "    COALESCE(rtbl.user_id, ltbl.user_id) AS user_id,\n",
    "    COALESCE(rtbl.call_date, ltbl.call_date) AS call_date,\n",
    "    COALESCE(rtbl.call_type, ltbl.call_type) AS call_type,\n",
    "    COALESCE(rtbl.city, ltbl.city) AS city,\n",
    "    COALESCE(rtbl.network_type, ltbl.network_type) AS network_type,\n",
    "    COALESCE(rtbl.call_duration_minutes, ltbl.call_duration_minutes) AS call_duration_minutes,\n",
    "    COALESCE(rtbl.data_used_mb, ltbl.data_used_mb) AS data_used_mb\n",
    "FROM rtbl\n",
    "FULL OUTER JOIN ltbl \n",
    "    ON rtbl.user_id = ltbl.user_id \n",
    "   AND rtbl.call_date = ltbl.call_date;"
   ]
  },
  {
   "cell_type": "markdown",
   "id": "980311f2-32ae-438e-8647-ec6b9e02e9dd",
   "metadata": {},
   "source": [
    "## Cross-Lake (Iceberg Hive with Delta Lake Unity)"
   ]
  },
  {
   "cell_type": "code",
   "execution_count": 10,
   "id": "e4b8beb0-c560-4c70-96ae-25e975f3d0a3",
   "metadata": {
    "tags": [],
    "vscode": {
     "languageId": "teradata sql"
    }
   },
   "outputs": [
    {
     "data": {
      "application/vnd.teradata.resultset": "\"user_id\",\"call_date\",\"call_type\",\"city\",\"network_type\",\"call_duration_minutes\",\"data_used_mb\"\n\"1\",\"2025-04-02\",\"local\",\"Mexico City\",\"5G\",\"15\",\"100.3\"\n\"2\",\"2025-04-01\",\"international\",\"Monterrey\",\"4G\",\"5\",\"50.2\"\n\"3\",\"2025-04-01\",\"roaming\",\"Guadalajara\",\"3G\",\"2\",\"20\"\n\"5\",\"2025-04-01\",\"international\",\"Krakow\",\"4G\",\"3\",\"35.2\"\n\"5\",\"2025-04-02\",\"local\",\"Krakow\",\"4G\",\"4\",\"45.5\"\n\"6\",\"2025-04-01\",\"roaming\",\"Lodz\",\"3G\",\"1\",\"15\"\n\"4\",\"2025-04-01\",\"local\",\"Warsaw\",\"5G\",\"7\",\"95\"\n\"6\",\"2025-04-01\",\"roaming\",\"Lodz\",\"3G\",\"1\",\"15\"\n\"1\",\"2025-04-01\",\"local\",\"Mexico City\",\"5G\",\"10\",\"150.5\"\n\"2\",\"2025-04-02\",\"local\",\"Monterrey\",\"4G\",\"8\",\"30\"\n\"4\",\"2025-04-02\",\"local\",\"Warsaw\",\"5G\",\"11\",\"110\"",
      "text/html": [
       "<div class = \"td-resultset-table-div\" style = \"max-height: 100%; overflow-y: auto\">\n",
       "      <table class=\"tdhistory445139\"><style>\n",
       "      table.tdhistory445139 { display: block !important; min-height: 315px !important; overflow: auto !important; height: 315px !important; width: 100% !important; border: 1px solid rgb(207, 207, 207) !important; border-collapse: collapse !important; ; color: var(--jp-ui-font-color1) !important; }\n",
       "      th.tdhistory445139 { border: 1px solid rgb(198,198,198) !important; border-collapse: collapse !important; ; padding: 2px 5px !important; ; font-size: 13px !important; ; text-align: center !important; white-space: normal !important; color: var(--jp-ui-font-color1) !important; }\n",
       "      th.tdhistory445139:last-child { text-align: left !important; }\n",
       "      tbody.tdhistory445139 tr:nth-child(even) { background: rgba(243, 243, 243, 0.75) !important; }\n",
       "      tbody.tdhistory445139 tr:nth-child(odd) { background: var(--jp-ui-inverse-font-color1) !important; }\n",
       "      td.tdhistory445139 { border: 1px solid rgb(207, 207, 207) !important; border-collapse: collapse !important; ; padding: 2px 5px !important; ; font-size: 13px !important; ; text-align: left !important;          white-space: nowrap !important; overflow:hidden !important; text-overflow:ellipsis !important;; }\n",
       "    </style><thead><tr style= \"background: rgba(243, 243, 243, 0.75)\"><th class=\"tdhistory445139\"></th><th class=\"tdhistory445139\">user_id</th><th class=\"tdhistory445139\">call_date</th><th class=\"tdhistory445139\">call_type</th><th class=\"tdhistory445139\">city</th><th class=\"tdhistory445139\">network_type</th><th class=\"tdhistory445139\">call_duration_minutes</th><th class=\"tdhistory445139\">data_used_mb</th></tr></thead><tbody class=\"tdhistory445139 resultset-body\"><tr><th class=\"tdhistory445139\" style= \"background: rgba(243, 243, 243, 0.75)\">1</th><td class=\"tdhistory445139\">1</td><td class=\"tdhistory445139\">2025-04-02</td><td class=\"tdhistory445139\">local</td><td class=\"tdhistory445139\">Mexico City</td><td class=\"tdhistory445139\">5G</td><td class=\"tdhistory445139\">15</td><td class=\"tdhistory445139\">100.3</td></tr><tr><th class=\"tdhistory445139\" style= \"background: rgba(243, 243, 243, 0.75)\">2</th><td class=\"tdhistory445139\">2</td><td class=\"tdhistory445139\">2025-04-01</td><td class=\"tdhistory445139\">international</td><td class=\"tdhistory445139\">Monterrey</td><td class=\"tdhistory445139\">4G</td><td class=\"tdhistory445139\">5</td><td class=\"tdhistory445139\">50.2</td></tr><tr><th class=\"tdhistory445139\" style= \"background: rgba(243, 243, 243, 0.75)\">3</th><td class=\"tdhistory445139\">3</td><td class=\"tdhistory445139\">2025-04-01</td><td class=\"tdhistory445139\">roaming</td><td class=\"tdhistory445139\">Guadalajara</td><td class=\"tdhistory445139\">3G</td><td class=\"tdhistory445139\">2</td><td class=\"tdhistory445139\">20</td></tr><tr><th class=\"tdhistory445139\" style= \"background: rgba(243, 243, 243, 0.75)\">4</th><td class=\"tdhistory445139\">5</td><td class=\"tdhistory445139\">2025-04-01</td><td class=\"tdhistory445139\">international</td><td class=\"tdhistory445139\">Krakow</td><td class=\"tdhistory445139\">4G</td><td class=\"tdhistory445139\">3</td><td class=\"tdhistory445139\">35.2</td></tr><tr><th class=\"tdhistory445139\" style= \"background: rgba(243, 243, 243, 0.75)\">5</th><td class=\"tdhistory445139\">5</td><td class=\"tdhistory445139\">2025-04-02</td><td class=\"tdhistory445139\">local</td><td class=\"tdhistory445139\">Krakow</td><td class=\"tdhistory445139\">4G</td><td class=\"tdhistory445139\">4</td><td class=\"tdhistory445139\">45.5</td></tr><tr><th class=\"tdhistory445139\" style= \"background: rgba(243, 243, 243, 0.75)\">6</th><td class=\"tdhistory445139\">6</td><td class=\"tdhistory445139\">2025-04-01</td><td class=\"tdhistory445139\">roaming</td><td class=\"tdhistory445139\">Lodz</td><td class=\"tdhistory445139\">3G</td><td class=\"tdhistory445139\">1</td><td class=\"tdhistory445139\">15</td></tr><tr><th class=\"tdhistory445139\" style= \"background: rgba(243, 243, 243, 0.75)\">7</th><td class=\"tdhistory445139\">4</td><td class=\"tdhistory445139\">2025-04-01</td><td class=\"tdhistory445139\">local</td><td class=\"tdhistory445139\">Warsaw</td><td class=\"tdhistory445139\">5G</td><td class=\"tdhistory445139\">7</td><td class=\"tdhistory445139\">95</td></tr><tr><th class=\"tdhistory445139\" style= \"background: rgba(243, 243, 243, 0.75)\">8</th><td class=\"tdhistory445139\">6</td><td class=\"tdhistory445139\">2025-04-01</td><td class=\"tdhistory445139\">roaming</td><td class=\"tdhistory445139\">Lodz</td><td class=\"tdhistory445139\">3G</td><td class=\"tdhistory445139\">1</td><td class=\"tdhistory445139\">15</td></tr><tr><th class=\"tdhistory445139\" style= \"background: rgba(243, 243, 243, 0.75)\">9</th><td class=\"tdhistory445139\">1</td><td class=\"tdhistory445139\">2025-04-01</td><td class=\"tdhistory445139\">local</td><td class=\"tdhistory445139\">Mexico City</td><td class=\"tdhistory445139\">5G</td><td class=\"tdhistory445139\">10</td><td class=\"tdhistory445139\">150.5</td></tr><tr><th class=\"tdhistory445139\" style= \"background: rgba(243, 243, 243, 0.75)\">10</th><td class=\"tdhistory445139\">2</td><td class=\"tdhistory445139\">2025-04-02</td><td class=\"tdhistory445139\">local</td><td class=\"tdhistory445139\">Monterrey</td><td class=\"tdhistory445139\">4G</td><td class=\"tdhistory445139\">8</td><td class=\"tdhistory445139\">30</td></tr><tr><th class=\"tdhistory445139\" style= \"background: rgba(243, 243, 243, 0.75)\">11</th><td class=\"tdhistory445139\">4</td><td class=\"tdhistory445139\">2025-04-02</td><td class=\"tdhistory445139\">local</td><td class=\"tdhistory445139\">Warsaw</td><td class=\"tdhistory445139\">5G</td><td class=\"tdhistory445139\">11</td><td class=\"tdhistory445139\">110</td></tr></tbody></table></div>"
      ]
     },
     "execution_count": 10,
     "metadata": {
      "application/vnd.teradata.resultset": "{\"resultSetID\":\"/home/jovyan/JupyterLabRoot/Teradata/Resultsets/2025.04.25_01.59.00.111_UTC\",\"historyID\":490,\"chunkID\":\"00001\",\"sessionid\":\"\",\"portnum\":\"\",\"dockermode\":\"docker\",\"totalRowCount\":11,\"chunkCount\":0,\"rowLimit\":0,\"columnMetadata\":[{\"columnName\":\"user_id\",\"columnTypeName\":\"INTEGER\"},{\"columnNumber\":1,\"columnName\":\"call_date\",\"columnTypeName\":\"DATE\"},{\"columnNumber\":2,\"columnName\":\"call_type\",\"columnTypeName\":\"VARCHAR\",\"length\":2000,\"scale\":2000},{\"columnNumber\":3,\"columnName\":\"city\",\"columnTypeName\":\"VARCHAR\",\"length\":2000,\"scale\":2000},{\"columnNumber\":4,\"columnName\":\"network_type\",\"columnTypeName\":\"VARCHAR\",\"length\":2000,\"scale\":2000},{\"columnNumber\":5,\"columnName\":\"call_duration_minutes\",\"columnTypeName\":\"INTEGER\"},{\"columnNumber\":6,\"columnName\":\"data_used_mb\",\"columnTypeName\":\"FLOAT\"}]}"
     },
     "output_type": "execute_result"
    }
   ],
   "source": [
    "WITH rtbl AS (\n",
    "    SELECT * FROM iceberg_hive_gcp_demo.demodb.telecom_usage\n",
    "), \n",
    "ltbl AS (\n",
    "    SELECT * FROM delta_unity_gcp_demo.demodb.telecom_usage\n",
    ")\n",
    "\n",
    "SELECT\n",
    "    COALESCE(rtbl.user_id, ltbl.user_id) AS user_id,\n",
    "    COALESCE(rtbl.call_date, ltbl.call_date) AS call_date,\n",
    "    COALESCE(rtbl.call_type, ltbl.call_type) AS call_type,\n",
    "    COALESCE(rtbl.city, ltbl.city) AS city,\n",
    "    COALESCE(rtbl.network_type, ltbl.network_type) AS network_type,\n",
    "    COALESCE(rtbl.call_duration_minutes, ltbl.call_duration_minutes) AS call_duration_minutes,\n",
    "    COALESCE(rtbl.data_used_mb, ltbl.data_used_mb) AS data_used_mb\n",
    "FROM rtbl\n",
    "FULL OUTER JOIN ltbl \n",
    "    ON rtbl.user_id = ltbl.user_id \n",
    "   AND rtbl.call_date = ltbl.call_date;"
   ]
  },
  {
   "cell_type": "markdown",
   "id": "71eb41fc-dbb3-446a-9937-6996f1f6ada8",
   "metadata": {},
   "source": [
    "## Cross-Catalog + Cross-Lake (All three!!)"
   ]
  },
  {
   "cell_type": "code",
   "execution_count": 11,
   "id": "4e9edda5-cb66-4f8c-bd15-17acbc268dc9",
   "metadata": {
    "tags": [],
    "vscode": {
     "languageId": "teradata sql"
    }
   },
   "outputs": [
    {
     "data": {
      "application/vnd.teradata.resultset": "\"user_id\",\"call_date\",\"call_type\",\"city\",\"network_type\",\"call_duration_minutes\",\"data_used_mb\"\n\"8\",\"2025-04-01\",\"international\",\"Gdansk\",\"4G\",\"6\",\"60\"\n\"2\",\"2025-04-01\",\"international\",\"Monterrey\",\"4G\",\"5\",\"50.2\"\n\"1\",\"2025-04-02\",\"local\",\"Mexico City\",\"5G\",\"15\",\"100.3\"\n\"8\",\"2025-04-02\",\"local\",\"Gdansk\",\"4G\",\"4\",\"40\"\n\"3\",\"2025-04-01\",\"roaming\",\"Guadalajara\",\"3G\",\"2\",\"20\"\n\"5\",\"2025-04-01\",\"international\",\"Krakow\",\"4G\",\"3\",\"35.2\"\n\"5\",\"2025-04-02\",\"local\",\"Krakow\",\"4G\",\"4\",\"45.5\"\n\"6\",\"2025-04-01\",\"roaming\",\"Lodz\",\"3G\",\"1\",\"15\"\n\"7\",\"2025-04-02\",\"local\",\"Wroclaw\",\"5G\",\"10\",\"190.5\"\n\"6\",\"2025-04-01\",\"roaming\",\"Lodz\",\"3G\",\"1\",\"15\"\n\"9\",\"2025-04-01\",\"roaming\",\"Poznan\",\"3G\",\"2\",\"25\"\n\"1\",\"2025-04-01\",\"local\",\"Mexico City\",\"5G\",\"10\",\"150.5\"\n\"9\",\"2025-04-01\",\"roaming\",\"Poznan\",\"3G\",\"2\",\"25\"\n\"2\",\"2025-04-02\",\"local\",\"Monterrey\",\"4G\",\"8\",\"30\"\n\"4\",\"2025-04-01\",\"local\",\"Warsaw\",\"5G\",\"7\",\"95\"\n\"4\",\"2025-04-02\",\"local\",\"Warsaw\",\"5G\",\"11\",\"110\"\n\"7\",\"2025-04-01\",\"local\",\"Wroclaw\",\"5G\",\"12\",\"180\"",
      "text/html": [
       "<div class = \"td-resultset-table-div\" style = \"max-height: 100%; overflow-y: auto\">\n",
       "      <table class=\"tdhistory739373\"><style>\n",
       "      table.tdhistory739373 { display: block !important; min-height: 441px !important; overflow: auto !important; height: 441px !important; width: 100% !important; border: 1px solid rgb(207, 207, 207) !important; border-collapse: collapse !important; ; color: var(--jp-ui-font-color1) !important; }\n",
       "      th.tdhistory739373 { border: 1px solid rgb(198,198,198) !important; border-collapse: collapse !important; ; padding: 2px 5px !important; ; font-size: 13px !important; ; text-align: center !important; white-space: normal !important; color: var(--jp-ui-font-color1) !important; }\n",
       "      th.tdhistory739373:last-child { text-align: left !important; }\n",
       "      tbody.tdhistory739373 tr:nth-child(even) { background: rgba(243, 243, 243, 0.75) !important; }\n",
       "      tbody.tdhistory739373 tr:nth-child(odd) { background: var(--jp-ui-inverse-font-color1) !important; }\n",
       "      td.tdhistory739373 { border: 1px solid rgb(207, 207, 207) !important; border-collapse: collapse !important; ; padding: 2px 5px !important; ; font-size: 13px !important; ; text-align: left !important;          white-space: nowrap !important; overflow:hidden !important; text-overflow:ellipsis !important;; }\n",
       "    </style><thead><tr style= \"background: rgba(243, 243, 243, 0.75)\"><th class=\"tdhistory739373\"></th><th class=\"tdhistory739373\">user_id</th><th class=\"tdhistory739373\">call_date</th><th class=\"tdhistory739373\">call_type</th><th class=\"tdhistory739373\">city</th><th class=\"tdhistory739373\">network_type</th><th class=\"tdhistory739373\">call_duration_minutes</th><th class=\"tdhistory739373\">data_used_mb</th></tr></thead><tbody class=\"tdhistory739373 resultset-body\"><tr><th class=\"tdhistory739373\" style= \"background: rgba(243, 243, 243, 0.75)\">1</th><td class=\"tdhistory739373\">8</td><td class=\"tdhistory739373\">2025-04-01</td><td class=\"tdhistory739373\">international</td><td class=\"tdhistory739373\">Gdansk</td><td class=\"tdhistory739373\">4G</td><td class=\"tdhistory739373\">6</td><td class=\"tdhistory739373\">60</td></tr><tr><th class=\"tdhistory739373\" style= \"background: rgba(243, 243, 243, 0.75)\">2</th><td class=\"tdhistory739373\">2</td><td class=\"tdhistory739373\">2025-04-01</td><td class=\"tdhistory739373\">international</td><td class=\"tdhistory739373\">Monterrey</td><td class=\"tdhistory739373\">4G</td><td class=\"tdhistory739373\">5</td><td class=\"tdhistory739373\">50.2</td></tr><tr><th class=\"tdhistory739373\" style= \"background: rgba(243, 243, 243, 0.75)\">3</th><td class=\"tdhistory739373\">1</td><td class=\"tdhistory739373\">2025-04-02</td><td class=\"tdhistory739373\">local</td><td class=\"tdhistory739373\">Mexico City</td><td class=\"tdhistory739373\">5G</td><td class=\"tdhistory739373\">15</td><td class=\"tdhistory739373\">100.3</td></tr><tr><th class=\"tdhistory739373\" style= \"background: rgba(243, 243, 243, 0.75)\">4</th><td class=\"tdhistory739373\">8</td><td class=\"tdhistory739373\">2025-04-02</td><td class=\"tdhistory739373\">local</td><td class=\"tdhistory739373\">Gdansk</td><td class=\"tdhistory739373\">4G</td><td class=\"tdhistory739373\">4</td><td class=\"tdhistory739373\">40</td></tr><tr><th class=\"tdhistory739373\" style= \"background: rgba(243, 243, 243, 0.75)\">5</th><td class=\"tdhistory739373\">3</td><td class=\"tdhistory739373\">2025-04-01</td><td class=\"tdhistory739373\">roaming</td><td class=\"tdhistory739373\">Guadalajara</td><td class=\"tdhistory739373\">3G</td><td class=\"tdhistory739373\">2</td><td class=\"tdhistory739373\">20</td></tr><tr><th class=\"tdhistory739373\" style= \"background: rgba(243, 243, 243, 0.75)\">6</th><td class=\"tdhistory739373\">5</td><td class=\"tdhistory739373\">2025-04-01</td><td class=\"tdhistory739373\">international</td><td class=\"tdhistory739373\">Krakow</td><td class=\"tdhistory739373\">4G</td><td class=\"tdhistory739373\">3</td><td class=\"tdhistory739373\">35.2</td></tr><tr><th class=\"tdhistory739373\" style= \"background: rgba(243, 243, 243, 0.75)\">7</th><td class=\"tdhistory739373\">5</td><td class=\"tdhistory739373\">2025-04-02</td><td class=\"tdhistory739373\">local</td><td class=\"tdhistory739373\">Krakow</td><td class=\"tdhistory739373\">4G</td><td class=\"tdhistory739373\">4</td><td class=\"tdhistory739373\">45.5</td></tr><tr><th class=\"tdhistory739373\" style= \"background: rgba(243, 243, 243, 0.75)\">8</th><td class=\"tdhistory739373\">6</td><td class=\"tdhistory739373\">2025-04-01</td><td class=\"tdhistory739373\">roaming</td><td class=\"tdhistory739373\">Lodz</td><td class=\"tdhistory739373\">3G</td><td class=\"tdhistory739373\">1</td><td class=\"tdhistory739373\">15</td></tr><tr><th class=\"tdhistory739373\" style= \"background: rgba(243, 243, 243, 0.75)\">9</th><td class=\"tdhistory739373\">7</td><td class=\"tdhistory739373\">2025-04-02</td><td class=\"tdhistory739373\">local</td><td class=\"tdhistory739373\">Wroclaw</td><td class=\"tdhistory739373\">5G</td><td class=\"tdhistory739373\">10</td><td class=\"tdhistory739373\">190.5</td></tr><tr><th class=\"tdhistory739373\" style= \"background: rgba(243, 243, 243, 0.75)\">10</th><td class=\"tdhistory739373\">6</td><td class=\"tdhistory739373\">2025-04-01</td><td class=\"tdhistory739373\">roaming</td><td class=\"tdhistory739373\">Lodz</td><td class=\"tdhistory739373\">3G</td><td class=\"tdhistory739373\">1</td><td class=\"tdhistory739373\">15</td></tr><tr><th class=\"tdhistory739373\" style= \"background: rgba(243, 243, 243, 0.75)\">11</th><td class=\"tdhistory739373\">9</td><td class=\"tdhistory739373\">2025-04-01</td><td class=\"tdhistory739373\">roaming</td><td class=\"tdhistory739373\">Poznan</td><td class=\"tdhistory739373\">3G</td><td class=\"tdhistory739373\">2</td><td class=\"tdhistory739373\">25</td></tr><tr><th class=\"tdhistory739373\" style= \"background: rgba(243, 243, 243, 0.75)\">12</th><td class=\"tdhistory739373\">1</td><td class=\"tdhistory739373\">2025-04-01</td><td class=\"tdhistory739373\">local</td><td class=\"tdhistory739373\">Mexico City</td><td class=\"tdhistory739373\">5G</td><td class=\"tdhistory739373\">10</td><td class=\"tdhistory739373\">150.5</td></tr><tr><th class=\"tdhistory739373\" style= \"background: rgba(243, 243, 243, 0.75)\">13</th><td class=\"tdhistory739373\">9</td><td class=\"tdhistory739373\">2025-04-01</td><td class=\"tdhistory739373\">roaming</td><td class=\"tdhistory739373\">Poznan</td><td class=\"tdhistory739373\">3G</td><td class=\"tdhistory739373\">2</td><td class=\"tdhistory739373\">25</td></tr><tr><th class=\"tdhistory739373\" style= \"background: rgba(243, 243, 243, 0.75)\">14</th><td class=\"tdhistory739373\">2</td><td class=\"tdhistory739373\">2025-04-02</td><td class=\"tdhistory739373\">local</td><td class=\"tdhistory739373\">Monterrey</td><td class=\"tdhistory739373\">4G</td><td class=\"tdhistory739373\">8</td><td class=\"tdhistory739373\">30</td></tr><tr><th class=\"tdhistory739373\" style= \"background: rgba(243, 243, 243, 0.75)\">15</th><td class=\"tdhistory739373\">4</td><td class=\"tdhistory739373\">2025-04-01</td><td class=\"tdhistory739373\">local</td><td class=\"tdhistory739373\">Warsaw</td><td class=\"tdhistory739373\">5G</td><td class=\"tdhistory739373\">7</td><td class=\"tdhistory739373\">95</td></tr><tr><th class=\"tdhistory739373\" style= \"background: rgba(243, 243, 243, 0.75)\">16</th><td class=\"tdhistory739373\">4</td><td class=\"tdhistory739373\">2025-04-02</td><td class=\"tdhistory739373\">local</td><td class=\"tdhistory739373\">Warsaw</td><td class=\"tdhistory739373\">5G</td><td class=\"tdhistory739373\">11</td><td class=\"tdhistory739373\">110</td></tr><tr><th class=\"tdhistory739373\" style= \"background: rgba(243, 243, 243, 0.75)\">17</th><td class=\"tdhistory739373\">7</td><td class=\"tdhistory739373\">2025-04-01</td><td class=\"tdhistory739373\">local</td><td class=\"tdhistory739373\">Wroclaw</td><td class=\"tdhistory739373\">5G</td><td class=\"tdhistory739373\">12</td><td class=\"tdhistory739373\">180</td></tr></tbody></table></div>"
      ]
     },
     "execution_count": 11,
     "metadata": {
      "application/vnd.teradata.resultset": "{\"resultSetID\":\"/home/jovyan/JupyterLabRoot/Teradata/Resultsets/2025.04.25_01.59.24.506_UTC\",\"historyID\":491,\"chunkID\":\"00001\",\"sessionid\":\"\",\"portnum\":\"\",\"dockermode\":\"docker\",\"totalRowCount\":17,\"chunkCount\":0,\"rowLimit\":0,\"columnMetadata\":[{\"columnName\":\"user_id\",\"columnTypeName\":\"INTEGER\"},{\"columnNumber\":1,\"columnName\":\"call_date\",\"columnTypeName\":\"DATE\"},{\"columnNumber\":2,\"columnName\":\"call_type\",\"columnTypeName\":\"VARCHAR\",\"length\":2000,\"scale\":2000},{\"columnNumber\":3,\"columnName\":\"city\",\"columnTypeName\":\"VARCHAR\",\"length\":2000,\"scale\":2000},{\"columnNumber\":4,\"columnName\":\"network_type\",\"columnTypeName\":\"VARCHAR\",\"length\":2000,\"scale\":2000},{\"columnNumber\":5,\"columnName\":\"call_duration_minutes\",\"columnTypeName\":\"INTEGER\"},{\"columnNumber\":6,\"columnName\":\"data_used_mb\",\"columnTypeName\":\"FLOAT\"}]}"
     },
     "output_type": "execute_result"
    }
   ],
   "source": [
    "WITH tbl1 AS (\n",
    "    SELECT * FROM delta_unity_gcp_demo.demodb.telecom_usage\n",
    "),\n",
    "tbl2 AS (\n",
    "    SELECT * FROM iceberg_unity_gcp_demo.demodb.telecom_usage\n",
    "),\n",
    "tbl3 AS (\n",
    "    SELECT * FROM iceberg_hive_gcp_demo.demodb.telecom_usage\n",
    "),\n",
    "combined_1_2 AS (\n",
    "    SELECT\n",
    "        COALESCE(tbl1.user_id, tbl2.user_id) AS user_id,\n",
    "        COALESCE(tbl1.call_date, tbl2.call_date) AS call_date,\n",
    "        COALESCE(tbl1.call_type, tbl2.call_type) AS call_type,\n",
    "        COALESCE(tbl1.city, tbl2.city) AS city,\n",
    "        COALESCE(tbl1.network_type, tbl2.network_type) AS network_type,\n",
    "        COALESCE(tbl1.call_duration_minutes, tbl2.call_duration_minutes) AS call_duration_minutes,\n",
    "        COALESCE(tbl1.data_used_mb, tbl2.data_used_mb) AS data_used_mb\n",
    "    FROM tbl1\n",
    "    FULL OUTER JOIN tbl2\n",
    "        ON tbl1.user_id = tbl2.user_id\n",
    "        AND tbl1.call_date = tbl2.call_date\n",
    "),\n",
    "final_combined AS (\n",
    "    SELECT\n",
    "        COALESCE(combined_1_2.user_id, tbl3.user_id) AS user_id,\n",
    "        COALESCE(combined_1_2.call_date, tbl3.call_date) AS call_date,\n",
    "        COALESCE(combined_1_2.call_type, tbl3.call_type) AS call_type,\n",
    "        COALESCE(combined_1_2.city, tbl3.city) AS city,\n",
    "        COALESCE(combined_1_2.network_type, tbl3.network_type) AS network_type,\n",
    "        COALESCE(combined_1_2.call_duration_minutes, tbl3.call_duration_minutes) AS call_duration_minutes,\n",
    "        COALESCE(combined_1_2.data_used_mb, tbl3.data_used_mb) AS data_used_mb\n",
    "    FROM combined_1_2\n",
    "    FULL OUTER JOIN tbl3\n",
    "        ON combined_1_2.user_id = tbl3.user_id\n",
    "        AND combined_1_2.call_date = tbl3.call_date\n",
    ")\n",
    "\n",
    "SELECT * FROM final_combined;"
   ]
  },
  {
   "cell_type": "markdown",
   "id": "192d5fb3-2717-4896-9807-26f2a85586dc",
   "metadata": {},
   "source": [
    "<div style=\"\n",
    "  margin: 40px 0;\n",
    "  padding: 20px;\n",
    "  background-color: #E1E1E1;\n",
    "  border-left: 6px solid #7c2301;\n",
    "  font-size: 20px;\n",
    "  font-weight: bold;\n",
    "  color: #2c3e50;\n",
    "  text-align: center;\n",
    "  border-radius: 10px;\n",
    "  box-shadow: 0 2px 5px rgba(0,0,0,0.1);\n",
    "\">\n",
    "  Metadata Exploration\n",
    "</div>"
   ]
  },
  {
   "cell_type": "code",
   "execution_count": 31,
   "id": "aca3792b-c2ec-416e-a201-fc9e11380ad8",
   "metadata": {
    "tags": [],
    "vscode": {
     "languageId": "teradata sql"
    }
   },
   "outputs": [
    {
     "data": {
      "application/vnd.teradata.resultset": "\"DatabaseName\",\"DatabaseProperties\"\n\"crttbl_db\",\"'hive.metastore.database.owner'='teradata','hive.metastore.database.owner-type'='USER','location'='gs://tdotf-dev-test/crttbl_db.db'\"\n\"default\",\"'hive.metastore.database.owner'='public','hive.metastore.database.owner-type'='ROLE','location'='gs://tdotf-dev/hive-warehouse','comment'='Default Hive database'\"\n\"deldb1\",\"'hive.metastore.database.owner'='teradata','hive.metastore.database.owner-type'='USER','location'='gs://tdotf-dev-test/deldb1.db'\"\n\"demodb\",\"'hive.metastore.database.owner'='teradata','hive.metastore.database.owner-type'='USER','location'='gs://tdotf-dev/demodb.db'\"\n\"new01\",\"'hive.metastore.database.owner'='ashok.vengala','hive.metastore.database.owner-type'='USER','location'='gs://tdotf-dev/hive-warehouse/new01.db','comment'=''\"\n\"new02\",\"'hive.metastore.database.owner'='ashok.vengala','hive.metastore.database.owner-type'='USER','location'='gs://tdotf-dev/hive-warehouse/new02.db','comment'=''\"\n\"new03\",\"'hive.metastore.database.owner'='ashok.vengala','hive.metastore.database.owner-type'='USER','location'='gs://tdotf-dev/hive-warehouse/new03.db','comment'=''\"\n\"otf2222\",\"'hive.metastore.database.owner'='teradata','hive.metastore.database.owner-type'='USER','location'='gs://tdotf-dev/otf2222.db'\"\n\"otf2416\",\"'hive.metastore.database.owner'='ashok.vengala','hive.metastore.database.owner-type'='USER','location'='gs://tdotf-dev/hive-warehouse/otf2416.db','comment'=''\"\n\"otf2914\",\"'hive.metastore.database.owner'='teradata','hive.metastore.database.owner-type'='USER','location'='gs://tdotf-dev/otf2914.db'\"\n\"otf_2222_gc_db\",\"'hive.metastore.database.owner'='teradata','hive.metastore.database.owner-type'='USER','location'='gs://tdotf-dev/otf_2222_gc_db.db'\"\n\"pteotftest_dwg\",\"'hive.metastore.database.owner'='teradata','hive.metastore.database.owner-type'='USER','location'='gs://tdotf-dev-test/pteotftest_dwg.db'\"\n\"sc1\",\"'hive.metastore.database.owner'='teradata','hive.metastore.database.owner-type'='USER','location'='gs://tdotf-dev/SC1.db'\"\n\"tdotf\",\"'hive.metastore.database.owner'='ashok.vengala','hive.metastore.database.owner-type'='USER','location'='gs://tdotf-dev/hive-warehouse/tdotf.db'\"\n\"testdb\",\"'hive.metastore.database.owner'='teradata','hive.metastore.database.owner-type'='USER','location'='gs://tdotf-dev-test/testdb.db'\"",
      "text/html": [
       "<div class = \"td-resultset-table-div\" style = \"max-height: 100%; overflow-y: auto\">\n",
       "      <table class=\"tdhistory672252\"><style>\n",
       "      table.tdhistory672252 { display: block !important; min-height: 399px !important; overflow: auto !important; height: 399px !important; width: 100% !important; border: 1px solid rgb(207, 207, 207) !important; border-collapse: collapse !important; ; color: var(--jp-ui-font-color1) !important; }\n",
       "      th.tdhistory672252 { border: 1px solid rgb(198,198,198) !important; border-collapse: collapse !important; ; padding: 2px 5px !important; ; font-size: 13px !important; ; text-align: center !important; white-space: normal !important; color: var(--jp-ui-font-color1) !important; }\n",
       "      th.tdhistory672252:last-child { text-align: left !important; }\n",
       "      tbody.tdhistory672252 tr:nth-child(even) { background: rgba(243, 243, 243, 0.75) !important; }\n",
       "      tbody.tdhistory672252 tr:nth-child(odd) { background: var(--jp-ui-inverse-font-color1) !important; }\n",
       "      td.tdhistory672252 { border: 1px solid rgb(207, 207, 207) !important; border-collapse: collapse !important; ; padding: 2px 5px !important; ; font-size: 13px !important; ; text-align: left !important;          white-space: nowrap !important; overflow:hidden !important; text-overflow:ellipsis !important;; }\n",
       "    </style><thead><tr style= \"background: rgba(243, 243, 243, 0.75)\"><th class=\"tdhistory672252\"></th><th class=\"tdhistory672252\">DatabaseName</th><th class=\"tdhistory672252\">DatabaseProperties</th></tr></thead><tbody class=\"tdhistory672252 resultset-body\"><tr><th class=\"tdhistory672252\" style= \"background: rgba(243, 243, 243, 0.75)\">1</th><td class=\"tdhistory672252\">crttbl_db</td><td class=\"tdhistory672252\">'hive.metastore.database.owner'='teradata','hive.metastore.database.owner-type'='USER','location'='gs://tdotf-dev-test/crttbl_db.db'</td></tr><tr><th class=\"tdhistory672252\" style= \"background: rgba(243, 243, 243, 0.75)\">2</th><td class=\"tdhistory672252\">default</td><td class=\"tdhistory672252\">'hive.metastore.database.owner'='public','hive.metastore.database.owner-type'='ROLE','location'='gs://tdotf-dev/hive-warehouse','comment'='Default Hive database'</td></tr><tr><th class=\"tdhistory672252\" style= \"background: rgba(243, 243, 243, 0.75)\">3</th><td class=\"tdhistory672252\">deldb1</td><td class=\"tdhistory672252\">'hive.metastore.database.owner'='teradata','hive.metastore.database.owner-type'='USER','location'='gs://tdotf-dev-test/deldb1.db'</td></tr><tr><th class=\"tdhistory672252\" style= \"background: rgba(243, 243, 243, 0.75)\">4</th><td class=\"tdhistory672252\">demodb</td><td class=\"tdhistory672252\">'hive.metastore.database.owner'='teradata','hive.metastore.database.owner-type'='USER','location'='gs://tdotf-dev/demodb.db'</td></tr><tr><th class=\"tdhistory672252\" style= \"background: rgba(243, 243, 243, 0.75)\">5</th><td class=\"tdhistory672252\">new01</td><td class=\"tdhistory672252\">'hive.metastore.database.owner'='ashok.vengala','hive.metastore.database.owner-type'='USER','location'='gs://tdotf-dev/hive-warehouse/new01.db','comment'=''</td></tr><tr><th class=\"tdhistory672252\" style= \"background: rgba(243, 243, 243, 0.75)\">6</th><td class=\"tdhistory672252\">new02</td><td class=\"tdhistory672252\">'hive.metastore.database.owner'='ashok.vengala','hive.metastore.database.owner-type'='USER','location'='gs://tdotf-dev/hive-warehouse/new02.db','comment'=''</td></tr><tr><th class=\"tdhistory672252\" style= \"background: rgba(243, 243, 243, 0.75)\">7</th><td class=\"tdhistory672252\">new03</td><td class=\"tdhistory672252\">'hive.metastore.database.owner'='ashok.vengala','hive.metastore.database.owner-type'='USER','location'='gs://tdotf-dev/hive-warehouse/new03.db','comment'=''</td></tr><tr><th class=\"tdhistory672252\" style= \"background: rgba(243, 243, 243, 0.75)\">8</th><td class=\"tdhistory672252\">otf2222</td><td class=\"tdhistory672252\">'hive.metastore.database.owner'='teradata','hive.metastore.database.owner-type'='USER','location'='gs://tdotf-dev/otf2222.db'</td></tr><tr><th class=\"tdhistory672252\" style= \"background: rgba(243, 243, 243, 0.75)\">9</th><td class=\"tdhistory672252\">otf2416</td><td class=\"tdhistory672252\">'hive.metastore.database.owner'='ashok.vengala','hive.metastore.database.owner-type'='USER','location'='gs://tdotf-dev/hive-warehouse/otf2416.db','comment'=''</td></tr><tr><th class=\"tdhistory672252\" style= \"background: rgba(243, 243, 243, 0.75)\">10</th><td class=\"tdhistory672252\">otf2914</td><td class=\"tdhistory672252\">'hive.metastore.database.owner'='teradata','hive.metastore.database.owner-type'='USER','location'='gs://tdotf-dev/otf2914.db'</td></tr><tr><th class=\"tdhistory672252\" style= \"background: rgba(243, 243, 243, 0.75)\">11</th><td class=\"tdhistory672252\">otf_2222_gc_db</td><td class=\"tdhistory672252\">'hive.metastore.database.owner'='teradata','hive.metastore.database.owner-type'='USER','location'='gs://tdotf-dev/otf_2222_gc_db.db'</td></tr><tr><th class=\"tdhistory672252\" style= \"background: rgba(243, 243, 243, 0.75)\">12</th><td class=\"tdhistory672252\">pteotftest_dwg</td><td class=\"tdhistory672252\">'hive.metastore.database.owner'='teradata','hive.metastore.database.owner-type'='USER','location'='gs://tdotf-dev-test/pteotftest_dwg.db'</td></tr><tr><th class=\"tdhistory672252\" style= \"background: rgba(243, 243, 243, 0.75)\">13</th><td class=\"tdhistory672252\">sc1</td><td class=\"tdhistory672252\">'hive.metastore.database.owner'='teradata','hive.metastore.database.owner-type'='USER','location'='gs://tdotf-dev/SC1.db'</td></tr><tr><th class=\"tdhistory672252\" style= \"background: rgba(243, 243, 243, 0.75)\">14</th><td class=\"tdhistory672252\">tdotf</td><td class=\"tdhistory672252\">'hive.metastore.database.owner'='ashok.vengala','hive.metastore.database.owner-type'='USER','location'='gs://tdotf-dev/hive-warehouse/tdotf.db'</td></tr><tr><th class=\"tdhistory672252\" style= \"background: rgba(243, 243, 243, 0.75)\">15</th><td class=\"tdhistory672252\">testdb</td><td class=\"tdhistory672252\">'hive.metastore.database.owner'='teradata','hive.metastore.database.owner-type'='USER','location'='gs://tdotf-dev-test/testdb.db'</td></tr></tbody></table></div>"
      ]
     },
     "execution_count": 31,
     "metadata": {
      "application/vnd.teradata.resultset": "{\"resultSetID\":\"/home/jovyan/JupyterLabRoot/Teradata/Resultsets/2025.04.25_23.41.36.345_UTC\",\"historyID\":509,\"chunkID\":\"00001\",\"sessionid\":\"\",\"portnum\":\"\",\"dockermode\":\"docker\",\"totalRowCount\":15,\"chunkCount\":0,\"rowLimit\":0,\"columnMetadata\":[{\"columnName\":\"DatabaseName\",\"columnTypeName\":\"LONG VARCHAR\",\"length\":32000,\"scale\":32000},{\"columnNumber\":1,\"columnName\":\"DatabaseProperties\",\"columnTypeName\":\"LONG VARCHAR\",\"length\":32000,\"scale\":32000}]}"
     },
     "output_type": "execute_result"
    }
   ],
   "source": [
    "HELP DATALAKE iceberg_hive_gcp_demo"
   ]
  },
  {
   "cell_type": "code",
   "execution_count": 13,
   "id": "9f49f73d-27a9-47b8-a44d-8d0b990858dc",
   "metadata": {
    "tags": [],
    "vscode": {
     "languageId": "teradata sql"
    }
   },
   "outputs": [
    {
     "data": {
      "application/vnd.teradata.resultset": "\"Table/View/Macro Name\",\"Kind\",\"Comment\",\"Protection\",\"Creator Name\",\"Commit Option\",\"Transaction Log\",\"Table/View/Macro Dictionary Name\",\"Table/View/Macro SQL Name\",\"Table/View/Macro Name UEscape\",\"Creator Dictionary Name\",\"Creator SQL Name\",\"Creator SQL UEscape\",\"Table Flavor\",\"TblProperties\",\"OTF Table Format\"\n\"telecom_usage\",\"T\",\"\",\"\",\"\",\"\",\"\",\"telecom_usage\",\"telecom_usage\",\"\",\"\",\"\",\"\",\"I \",\"'teradata.purge.all'='true','write.object-storage.enabled'='true','write.parquet.compression-codec'='zstd'\",\"iceberg\"",
      "text/html": [
       "<div class = \"td-resultset-table-div\" style = \"max-height: 100%; overflow-y: auto\">\n",
       "      <table class=\"tdhistory95031\"><style>\n",
       "      table.tdhistory95031 { display: block !important; min-height: 105px !important; overflow: auto !important; height: 105px !important; width: 100% !important; border: 1px solid rgb(207, 207, 207) !important; border-collapse: collapse !important; ; color: var(--jp-ui-font-color1) !important; }\n",
       "      th.tdhistory95031 { border: 1px solid rgb(198,198,198) !important; border-collapse: collapse !important; ; padding: 2px 5px !important; ; font-size: 13px !important; ; text-align: center !important; white-space: normal !important; color: var(--jp-ui-font-color1) !important; }\n",
       "      th.tdhistory95031:last-child { text-align: left !important; }\n",
       "      tbody.tdhistory95031 tr:nth-child(even) { background: rgba(243, 243, 243, 0.75) !important; }\n",
       "      tbody.tdhistory95031 tr:nth-child(odd) { background: var(--jp-ui-inverse-font-color1) !important; }\n",
       "      td.tdhistory95031 { border: 1px solid rgb(207, 207, 207) !important; border-collapse: collapse !important; ; padding: 2px 5px !important; ; font-size: 13px !important; ; text-align: left !important;          white-space: nowrap !important; overflow:hidden !important; text-overflow:ellipsis !important;; }\n",
       "    </style><thead><tr style= \"background: rgba(243, 243, 243, 0.75)\"><th class=\"tdhistory95031\"></th><th class=\"tdhistory95031\">Table/View/Macro Name</th><th class=\"tdhistory95031\">Kind</th><th class=\"tdhistory95031\">Comment</th><th class=\"tdhistory95031\">Protection</th><th class=\"tdhistory95031\">Creator Name</th><th class=\"tdhistory95031\">Commit Option</th><th class=\"tdhistory95031\">Transaction Log</th><th class=\"tdhistory95031\">Table/View/Macro Dictionary Name</th><th class=\"tdhistory95031\">Table/View/Macro SQL Name</th><th class=\"tdhistory95031\">Table/View/Macro Name UEscape</th><th class=\"tdhistory95031\">Creator Dictionary Name</th><th class=\"tdhistory95031\">Creator SQL Name</th><th class=\"tdhistory95031\">Creator SQL UEscape</th><th class=\"tdhistory95031\">Table Flavor</th><th class=\"tdhistory95031\">TblProperties</th><th class=\"tdhistory95031\">OTF Table Format</th></tr></thead><tbody class=\"tdhistory95031 resultset-body\"><tr><th class=\"tdhistory95031\" style= \"background: rgba(243, 243, 243, 0.75)\">1</th><td class=\"tdhistory95031\">telecom_usage</td><td class=\"tdhistory95031\">T</td><td class=\"tdhistory95031\"></td><td class=\"tdhistory95031\"></td><td class=\"tdhistory95031\"></td><td class=\"tdhistory95031\"></td><td class=\"tdhistory95031\"></td><td class=\"tdhistory95031\">telecom_usage</td><td class=\"tdhistory95031\">telecom_usage</td><td class=\"tdhistory95031\"></td><td class=\"tdhistory95031\"></td><td class=\"tdhistory95031\"></td><td class=\"tdhistory95031\"></td><td class=\"tdhistory95031\">I </td><td class=\"tdhistory95031\">'teradata.purge.all'='true','write.object-storage.enabled'='true','write.parquet.compression-codec'='zstd'</td><td class=\"tdhistory95031\">iceberg</td></tr></tbody></table></div>"
      ]
     },
     "execution_count": 13,
     "metadata": {
      "application/vnd.teradata.resultset": "{\"resultSetID\":\"/home/jovyan/JupyterLabRoot/Teradata/Resultsets/2025.04.25_01.59.30.500_UTC\",\"historyID\":493,\"chunkID\":\"00001\",\"sessionid\":\"\",\"portnum\":\"\",\"dockermode\":\"docker\",\"totalRowCount\":1,\"chunkCount\":0,\"rowLimit\":0,\"columnMetadata\":[{\"columnName\":\"Table/View/Macro Name\",\"columnTypeName\":\"VARCHAR\",\"length\":256,\"scale\":256},{\"columnNumber\":1,\"columnName\":\"Kind\",\"columnTypeName\":\"VARCHAR\",\"length\":5,\"scale\":5},{\"columnNumber\":2,\"columnName\":\"Comment\",\"columnTypeName\":\"VARCHAR\",\"length\":255,\"scale\":255},{\"columnNumber\":3,\"columnName\":\"Protection\",\"columnTypeName\":\"CHAR\",\"length\":1,\"scale\":1},{\"columnNumber\":4,\"columnName\":\"Creator Name\",\"columnTypeName\":\"VARCHAR\",\"length\":256,\"scale\":256},{\"columnNumber\":5,\"columnName\":\"Commit Option\",\"columnTypeName\":\"CHAR\",\"length\":1,\"scale\":1},{\"columnNumber\":6,\"columnName\":\"Transaction Log\",\"columnTypeName\":\"CHAR\",\"length\":1,\"scale\":1},{\"columnNumber\":7,\"columnName\":\"Table/View/Macro Dictionary Name\",\"columnTypeName\":\"VARCHAR\",\"length\":256,\"scale\":256},{\"columnNumber\":8,\"columnName\":\"Table/View/Macro SQL Name\",\"columnTypeName\":\"VARCHAR\",\"length\":1288,\"scale\":1288},{\"columnNumber\":9,\"columnName\":\"Table/View/Macro Name UEscape\",\"columnTypeName\":\"VARCHAR\",\"length\":2,\"scale\":2},{\"columnNumber\":10,\"columnName\":\"Creator Dictionary Name\",\"columnTypeName\":\"VARCHAR\",\"length\":256,\"scale\":256},{\"columnNumber\":11,\"columnName\":\"Creator SQL Name\",\"columnTypeName\":\"VARCHAR\",\"length\":1288,\"scale\":1288},{\"columnNumber\":12,\"columnName\":\"Creator SQL UEscape\",\"columnTypeName\":\"VARCHAR\",\"length\":2,\"scale\":2},{\"columnNumber\":13,\"columnName\":\"Table Flavor\",\"columnTypeName\":\"CHAR\",\"length\":1,\"scale\":1},{\"columnNumber\":14,\"columnName\":\"TblProperties\",\"columnTypeName\":\"LONG VARCHAR\",\"length\":32000,\"scale\":32000},{\"columnNumber\":15,\"columnName\":\"OTF Table Format\",\"columnTypeName\":\"VARCHAR\",\"length\":256,\"scale\":256}]}"
     },
     "output_type": "execute_result"
    }
   ],
   "source": [
    "HELP DATABASE iceberg_hive_gcp_demo.demodb"
   ]
  },
  {
   "cell_type": "code",
   "execution_count": 14,
   "id": "f9bad91d-5eb2-423a-8c62-8d31e291e0f7",
   "metadata": {
    "tags": [],
    "vscode": {
     "languageId": "teradata sql"
    }
   },
   "outputs": [
    {
     "data": {
      "application/vnd.teradata.resultset": "\"Column Name\",\"Type\",\"Comment\",\"Nullable\",\"Format\",\"Title\",\"Max Length\",\"Decimal Total Digits\",\"Decimal Fractional Digits\",\"Uppercase\",\"Default Value\",\"Char Type\",\"IdCol Type\",\"UDT Name\",\"Temporal\",\"Column Dictionary Name\",\"Column SQL Name\",\"Column Name UEscape\",\"Dictionary Title\",\"SQL Title\",\"Title UEscape\",\"UDT Dictionary Name\",\"UDT SQL Name\",\"UDT Name UEscape\",\"Inline Length\",\"Time Series Column Type\",\"Auto Column\",\"OTF Type\",\"OTF Table Format\"\n\"user_id\",\"I   \",\"\",\"Y \",\"\",\"\",\"4\u0000\u0000\u0000\u0000\u0000\u0000\u0000\u0000\u0000\u0000\u0000\u0000\u0000\u0000\u0000\u0000\u0000\u0000\u0000\u0000\u0000\u0000\u0000\u0000\u0000                                                    \",\"\",\"\",\"\",\"\",\"0\u0000\u0000\u0000        \",\"\",\"\",\"\",\"user_id\",\"user_id\",\"\",\"\",\"\",\"\",\"\",\"\",\"\",\"\",\"\",\"\",\"integer\",\"deltalake\"\n\"call_date\",\"DA  \",\"\",\"Y \",\"\",\"\",\"4\u0000\u0000\u0000\u0000\u0000\u0000\u0000\u0000\u0000\u0000\u0000\u0000\u0000\u0000\u0000\u0000\u0000\u0000\u0000\u0000\u0000\u0000\u0000\u0000\u0000                                                    \",\"\",\"\",\"\",\"\",\"0\u0000\u0000\u0000        \",\"\",\"\",\"\",\"call_date\",\"call_date\",\"\",\"\",\"\",\"\",\"\",\"\",\"\",\"\",\"\",\"\",\"date\",\"deltalake\"\n\"call_duration_minutes\",\"I   \",\"\",\"Y \",\"\",\"\",\"4\u0000\u0000\u0000\u0000\u0000\u0000\u0000\u0000\u0000\u0000\u0000\u0000\u0000\u0000\u0000\u0000\u0000\u0000\u0000\u0000\u0000\u0000\u0000\u0000\u0000                                                    \",\"\",\"\",\"\",\"\",\"0\u0000\u0000\u0000        \",\"\",\"\",\"\",\"call_duration_minutes\",\"call_duration_minutes\",\"\",\"\",\"\",\"\",\"\",\"\",\"\",\"\",\"\",\"\",\"integer\",\"deltalake\"\n\"data_used_mb\",\"F   \",\"\",\"Y \",\"\",\"\",\"8\u0000\u0000\u0000\u0000\u0000\u0000\u0000\u0000\u0000\u0000\u0000\u0000\u0000\u0000\u0000\u0000\u0000\u0000\u0000\u0000\u0000\u0000\u0000\u0000\u0000                                                    \",\"\",\"\",\"\",\"\",\"0\u0000\u0000\u0000        \",\"\",\"\",\"\",\"data_used_mb\",\"data_used_mb\",\"\",\"\",\"\",\"\",\"\",\"\",\"\",\"\",\"\",\"\",\"double\",\"deltalake\"\n\"call_type\",\"CV  \",\"\",\"Y \",\"\",\"\",\"2000\u0000\u0000\u0000\u0000\u0000\u0000\u0000\u0000\u0000\u0000\u0000\u0000\u0000\u0000\u0000\u0000\u0000\u0000\u0000\u0000\u0000\u0000                                                    \",\"\",\"\",\"\",\"\",\"2\u0000\u0000\u0000        \",\"\",\"\",\"\",\"call_type\",\"call_type\",\"\",\"\",\"\",\"\",\"\",\"\",\"\",\"\",\"\",\"\",\"string\",\"deltalake\"\n\"city\",\"CV  \",\"\",\"Y \",\"\",\"\",\"2000\u0000\u0000\u0000\u0000\u0000\u0000\u0000\u0000\u0000\u0000\u0000\u0000\u0000\u0000\u0000\u0000\u0000\u0000\u0000\u0000\u0000\u0000                                                    \",\"\",\"\",\"\",\"\",\"2\u0000\u0000\u0000        \",\"\",\"\",\"\",\"city\",\"city\",\"\",\"\",\"\",\"\",\"\",\"\",\"\",\"\",\"\",\"\",\"string\",\"deltalake\"\n\"network_type\",\"CV  \",\"\",\"Y \",\"\",\"\",\"2000\u0000\u0000\u0000\u0000\u0000\u0000\u0000\u0000\u0000\u0000\u0000\u0000\u0000\u0000\u0000\u0000\u0000\u0000\u0000\u0000\u0000\u0000                                                    \",\"\",\"\",\"\",\"\",\"2\u0000\u0000\u0000        \",\"\",\"\",\"\",\"network_type\",\"network_type\",\"\",\"\",\"\",\"\",\"\",\"\",\"\",\"\",\"\",\"\",\"string\",\"deltalake\"",
      "text/html": [
       "<div class = \"td-resultset-table-div\" style = \"max-height: 100%; overflow-y: auto\">\n",
       "      <table class=\"tdhistory895211\"><style>\n",
       "      table.tdhistory895211 { display: block !important; min-height: 231px !important; overflow: auto !important; height: 231px !important; width: 100% !important; border: 1px solid rgb(207, 207, 207) !important; border-collapse: collapse !important; ; color: var(--jp-ui-font-color1) !important; }\n",
       "      th.tdhistory895211 { border: 1px solid rgb(198,198,198) !important; border-collapse: collapse !important; ; padding: 2px 5px !important; ; font-size: 13px !important; ; text-align: center !important; white-space: normal !important; color: var(--jp-ui-font-color1) !important; }\n",
       "      th.tdhistory895211:last-child { text-align: left !important; }\n",
       "      tbody.tdhistory895211 tr:nth-child(even) { background: rgba(243, 243, 243, 0.75) !important; }\n",
       "      tbody.tdhistory895211 tr:nth-child(odd) { background: var(--jp-ui-inverse-font-color1) !important; }\n",
       "      td.tdhistory895211 { border: 1px solid rgb(207, 207, 207) !important; border-collapse: collapse !important; ; padding: 2px 5px !important; ; font-size: 13px !important; ; text-align: left !important;          white-space: nowrap !important; overflow:hidden !important; text-overflow:ellipsis !important;; }\n",
       "    </style><thead><tr style= \"background: rgba(243, 243, 243, 0.75)\"><th class=\"tdhistory895211\"></th><th class=\"tdhistory895211\">Column Name</th><th class=\"tdhistory895211\">Type</th><th class=\"tdhistory895211\">Comment</th><th class=\"tdhistory895211\">Nullable</th><th class=\"tdhistory895211\">Format</th><th class=\"tdhistory895211\">Title</th><th class=\"tdhistory895211\">Max Length</th><th class=\"tdhistory895211\">Decimal Total Digits</th><th class=\"tdhistory895211\">Decimal Fractional Digits</th><th class=\"tdhistory895211\">Uppercase</th><th class=\"tdhistory895211\">Default Value</th><th class=\"tdhistory895211\">Char Type</th><th class=\"tdhistory895211\">IdCol Type</th><th class=\"tdhistory895211\">UDT Name</th><th class=\"tdhistory895211\">Temporal</th><th class=\"tdhistory895211\">Column Dictionary Name</th><th class=\"tdhistory895211\">Column SQL Name</th><th class=\"tdhistory895211\">Column Name UEscape</th><th class=\"tdhistory895211\">Dictionary Title</th><th class=\"tdhistory895211\">SQL Title</th><th class=\"tdhistory895211\">Title UEscape</th><th class=\"tdhistory895211\">UDT Dictionary Name</th><th class=\"tdhistory895211\">UDT SQL Name</th><th class=\"tdhistory895211\">UDT Name UEscape</th><th class=\"tdhistory895211\">Inline Length</th><th class=\"tdhistory895211\">Time Series Column Type</th><th class=\"tdhistory895211\">Auto Column</th><th class=\"tdhistory895211\">OTF Type</th><th class=\"tdhistory895211\">OTF Table Format</th></tr></thead><tbody class=\"tdhistory895211 resultset-body\"><tr><th class=\"tdhistory895211\" style= \"background: rgba(243, 243, 243, 0.75)\">1</th><td class=\"tdhistory895211\">user_id</td><td class=\"tdhistory895211\">I   </td><td class=\"tdhistory895211\"></td><td class=\"tdhistory895211\">Y </td><td class=\"tdhistory895211\"></td><td class=\"tdhistory895211\"></td><td class=\"tdhistory895211\">4\u0000\u0000\u0000\u0000\u0000\u0000\u0000\u0000\u0000\u0000\u0000\u0000\u0000\u0000\u0000\u0000\u0000\u0000\u0000\u0000\u0000\u0000\u0000\u0000\u0000                                                    </td><td class=\"tdhistory895211\"></td><td class=\"tdhistory895211\"></td><td class=\"tdhistory895211\"></td><td class=\"tdhistory895211\"></td><td class=\"tdhistory895211\">0\u0000\u0000\u0000        </td><td class=\"tdhistory895211\"></td><td class=\"tdhistory895211\"></td><td class=\"tdhistory895211\"></td><td class=\"tdhistory895211\">user_id</td><td class=\"tdhistory895211\">user_id</td><td class=\"tdhistory895211\"></td><td class=\"tdhistory895211\"></td><td class=\"tdhistory895211\"></td><td class=\"tdhistory895211\"></td><td class=\"tdhistory895211\"></td><td class=\"tdhistory895211\"></td><td class=\"tdhistory895211\"></td><td class=\"tdhistory895211\"></td><td class=\"tdhistory895211\"></td><td class=\"tdhistory895211\"></td><td class=\"tdhistory895211\">integer</td><td class=\"tdhistory895211\">deltalake</td></tr><tr><th class=\"tdhistory895211\" style= \"background: rgba(243, 243, 243, 0.75)\">2</th><td class=\"tdhistory895211\">call_date</td><td class=\"tdhistory895211\">DA  </td><td class=\"tdhistory895211\"></td><td class=\"tdhistory895211\">Y </td><td class=\"tdhistory895211\"></td><td class=\"tdhistory895211\"></td><td class=\"tdhistory895211\">4\u0000\u0000\u0000\u0000\u0000\u0000\u0000\u0000\u0000\u0000\u0000\u0000\u0000\u0000\u0000\u0000\u0000\u0000\u0000\u0000\u0000\u0000\u0000\u0000\u0000                                                    </td><td class=\"tdhistory895211\"></td><td class=\"tdhistory895211\"></td><td class=\"tdhistory895211\"></td><td class=\"tdhistory895211\"></td><td class=\"tdhistory895211\">0\u0000\u0000\u0000        </td><td class=\"tdhistory895211\"></td><td class=\"tdhistory895211\"></td><td class=\"tdhistory895211\"></td><td class=\"tdhistory895211\">call_date</td><td class=\"tdhistory895211\">call_date</td><td class=\"tdhistory895211\"></td><td class=\"tdhistory895211\"></td><td class=\"tdhistory895211\"></td><td class=\"tdhistory895211\"></td><td class=\"tdhistory895211\"></td><td class=\"tdhistory895211\"></td><td class=\"tdhistory895211\"></td><td class=\"tdhistory895211\"></td><td class=\"tdhistory895211\"></td><td class=\"tdhistory895211\"></td><td class=\"tdhistory895211\">date</td><td class=\"tdhistory895211\">deltalake</td></tr><tr><th class=\"tdhistory895211\" style= \"background: rgba(243, 243, 243, 0.75)\">3</th><td class=\"tdhistory895211\">call_duration_minutes</td><td class=\"tdhistory895211\">I   </td><td class=\"tdhistory895211\"></td><td class=\"tdhistory895211\">Y </td><td class=\"tdhistory895211\"></td><td class=\"tdhistory895211\"></td><td class=\"tdhistory895211\">4\u0000\u0000\u0000\u0000\u0000\u0000\u0000\u0000\u0000\u0000\u0000\u0000\u0000\u0000\u0000\u0000\u0000\u0000\u0000\u0000\u0000\u0000\u0000\u0000\u0000                                                    </td><td class=\"tdhistory895211\"></td><td class=\"tdhistory895211\"></td><td class=\"tdhistory895211\"></td><td class=\"tdhistory895211\"></td><td class=\"tdhistory895211\">0\u0000\u0000\u0000        </td><td class=\"tdhistory895211\"></td><td class=\"tdhistory895211\"></td><td class=\"tdhistory895211\"></td><td class=\"tdhistory895211\">call_duration_minutes</td><td class=\"tdhistory895211\">call_duration_minutes</td><td class=\"tdhistory895211\"></td><td class=\"tdhistory895211\"></td><td class=\"tdhistory895211\"></td><td class=\"tdhistory895211\"></td><td class=\"tdhistory895211\"></td><td class=\"tdhistory895211\"></td><td class=\"tdhistory895211\"></td><td class=\"tdhistory895211\"></td><td class=\"tdhistory895211\"></td><td class=\"tdhistory895211\"></td><td class=\"tdhistory895211\">integer</td><td class=\"tdhistory895211\">deltalake</td></tr><tr><th class=\"tdhistory895211\" style= \"background: rgba(243, 243, 243, 0.75)\">4</th><td class=\"tdhistory895211\">data_used_mb</td><td class=\"tdhistory895211\">F   </td><td class=\"tdhistory895211\"></td><td class=\"tdhistory895211\">Y </td><td class=\"tdhistory895211\"></td><td class=\"tdhistory895211\"></td><td class=\"tdhistory895211\">8\u0000\u0000\u0000\u0000\u0000\u0000\u0000\u0000\u0000\u0000\u0000\u0000\u0000\u0000\u0000\u0000\u0000\u0000\u0000\u0000\u0000\u0000\u0000\u0000\u0000                                                    </td><td class=\"tdhistory895211\"></td><td class=\"tdhistory895211\"></td><td class=\"tdhistory895211\"></td><td class=\"tdhistory895211\"></td><td class=\"tdhistory895211\">0\u0000\u0000\u0000        </td><td class=\"tdhistory895211\"></td><td class=\"tdhistory895211\"></td><td class=\"tdhistory895211\"></td><td class=\"tdhistory895211\">data_used_mb</td><td class=\"tdhistory895211\">data_used_mb</td><td class=\"tdhistory895211\"></td><td class=\"tdhistory895211\"></td><td class=\"tdhistory895211\"></td><td class=\"tdhistory895211\"></td><td class=\"tdhistory895211\"></td><td class=\"tdhistory895211\"></td><td class=\"tdhistory895211\"></td><td class=\"tdhistory895211\"></td><td class=\"tdhistory895211\"></td><td class=\"tdhistory895211\"></td><td class=\"tdhistory895211\">double</td><td class=\"tdhistory895211\">deltalake</td></tr><tr><th class=\"tdhistory895211\" style= \"background: rgba(243, 243, 243, 0.75)\">5</th><td class=\"tdhistory895211\">call_type</td><td class=\"tdhistory895211\">CV  </td><td class=\"tdhistory895211\"></td><td class=\"tdhistory895211\">Y </td><td class=\"tdhistory895211\"></td><td class=\"tdhistory895211\"></td><td class=\"tdhistory895211\">2000\u0000\u0000\u0000\u0000\u0000\u0000\u0000\u0000\u0000\u0000\u0000\u0000\u0000\u0000\u0000\u0000\u0000\u0000\u0000\u0000\u0000\u0000                                                    </td><td class=\"tdhistory895211\"></td><td class=\"tdhistory895211\"></td><td class=\"tdhistory895211\"></td><td class=\"tdhistory895211\"></td><td class=\"tdhistory895211\">2\u0000\u0000\u0000        </td><td class=\"tdhistory895211\"></td><td class=\"tdhistory895211\"></td><td class=\"tdhistory895211\"></td><td class=\"tdhistory895211\">call_type</td><td class=\"tdhistory895211\">call_type</td><td class=\"tdhistory895211\"></td><td class=\"tdhistory895211\"></td><td class=\"tdhistory895211\"></td><td class=\"tdhistory895211\"></td><td class=\"tdhistory895211\"></td><td class=\"tdhistory895211\"></td><td class=\"tdhistory895211\"></td><td class=\"tdhistory895211\"></td><td class=\"tdhistory895211\"></td><td class=\"tdhistory895211\"></td><td class=\"tdhistory895211\">string</td><td class=\"tdhistory895211\">deltalake</td></tr><tr><th class=\"tdhistory895211\" style= \"background: rgba(243, 243, 243, 0.75)\">6</th><td class=\"tdhistory895211\">city</td><td class=\"tdhistory895211\">CV  </td><td class=\"tdhistory895211\"></td><td class=\"tdhistory895211\">Y </td><td class=\"tdhistory895211\"></td><td class=\"tdhistory895211\"></td><td class=\"tdhistory895211\">2000\u0000\u0000\u0000\u0000\u0000\u0000\u0000\u0000\u0000\u0000\u0000\u0000\u0000\u0000\u0000\u0000\u0000\u0000\u0000\u0000\u0000\u0000                                                    </td><td class=\"tdhistory895211\"></td><td class=\"tdhistory895211\"></td><td class=\"tdhistory895211\"></td><td class=\"tdhistory895211\"></td><td class=\"tdhistory895211\">2\u0000\u0000\u0000        </td><td class=\"tdhistory895211\"></td><td class=\"tdhistory895211\"></td><td class=\"tdhistory895211\"></td><td class=\"tdhistory895211\">city</td><td class=\"tdhistory895211\">city</td><td class=\"tdhistory895211\"></td><td class=\"tdhistory895211\"></td><td class=\"tdhistory895211\"></td><td class=\"tdhistory895211\"></td><td class=\"tdhistory895211\"></td><td class=\"tdhistory895211\"></td><td class=\"tdhistory895211\"></td><td class=\"tdhistory895211\"></td><td class=\"tdhistory895211\"></td><td class=\"tdhistory895211\"></td><td class=\"tdhistory895211\">string</td><td class=\"tdhistory895211\">deltalake</td></tr><tr><th class=\"tdhistory895211\" style= \"background: rgba(243, 243, 243, 0.75)\">7</th><td class=\"tdhistory895211\">network_type</td><td class=\"tdhistory895211\">CV  </td><td class=\"tdhistory895211\"></td><td class=\"tdhistory895211\">Y </td><td class=\"tdhistory895211\"></td><td class=\"tdhistory895211\"></td><td class=\"tdhistory895211\">2000\u0000\u0000\u0000\u0000\u0000\u0000\u0000\u0000\u0000\u0000\u0000\u0000\u0000\u0000\u0000\u0000\u0000\u0000\u0000\u0000\u0000\u0000                                                    </td><td class=\"tdhistory895211\"></td><td class=\"tdhistory895211\"></td><td class=\"tdhistory895211\"></td><td class=\"tdhistory895211\"></td><td class=\"tdhistory895211\">2\u0000\u0000\u0000        </td><td class=\"tdhistory895211\"></td><td class=\"tdhistory895211\"></td><td class=\"tdhistory895211\"></td><td class=\"tdhistory895211\">network_type</td><td class=\"tdhistory895211\">network_type</td><td class=\"tdhistory895211\"></td><td class=\"tdhistory895211\"></td><td class=\"tdhistory895211\"></td><td class=\"tdhistory895211\"></td><td class=\"tdhistory895211\"></td><td class=\"tdhistory895211\"></td><td class=\"tdhistory895211\"></td><td class=\"tdhistory895211\"></td><td class=\"tdhistory895211\"></td><td class=\"tdhistory895211\"></td><td class=\"tdhistory895211\">string</td><td class=\"tdhistory895211\">deltalake</td></tr></tbody></table></div>"
      ]
     },
     "execution_count": 14,
     "metadata": {
      "application/vnd.teradata.resultset": "{\"resultSetID\":\"/home/jovyan/JupyterLabRoot/Teradata/Resultsets/2025.04.25_01.59.33.600_UTC\",\"historyID\":494,\"chunkID\":\"00001\",\"sessionid\":\"\",\"portnum\":\"\",\"dockermode\":\"docker\",\"totalRowCount\":7,\"chunkCount\":0,\"rowLimit\":0,\"columnMetadata\":[{\"columnName\":\"Column Name\",\"columnTypeName\":\"VARCHAR\",\"length\":256,\"scale\":256},{\"columnNumber\":1,\"columnName\":\"Type\",\"columnTypeName\":\"CHAR\",\"length\":2,\"scale\":2},{\"columnNumber\":2,\"columnName\":\"Comment\",\"columnTypeName\":\"VARCHAR\",\"length\":510,\"scale\":510},{\"columnNumber\":3,\"columnName\":\"Nullable\",\"columnTypeName\":\"CHAR\",\"length\":1,\"scale\":1},{\"columnNumber\":4,\"columnName\":\"Format\",\"columnTypeName\":\"VARCHAR\",\"length\":256,\"scale\":256},{\"columnNumber\":5,\"columnName\":\"Title\",\"columnTypeName\":\"VARCHAR\",\"length\":512,\"scale\":512},{\"columnNumber\":6,\"columnName\":\"Max Length\",\"columnTypeName\":\"CHAR\",\"length\":26,\"scale\":26},{\"columnNumber\":7,\"columnName\":\"Decimal Total Digits\",\"columnTypeName\":\"CHAR\",\"length\":8,\"scale\":8},{\"columnNumber\":8,\"columnName\":\"Decimal Fractional Digits\",\"columnTypeName\":\"CHAR\",\"length\":8,\"scale\":8},{\"columnNumber\":9,\"columnName\":\"Uppercase\",\"columnTypeName\":\"CHAR\",\"length\":1,\"scale\":1},{\"columnNumber\":10,\"columnName\":\"Default Value\",\"columnTypeName\":\"VARCHAR\",\"length\":510,\"scale\":510},{\"columnNumber\":11,\"columnName\":\"Char Type\",\"columnTypeName\":\"CHAR\",\"length\":4,\"scale\":4},{\"columnNumber\":12,\"columnName\":\"IdCol Type\",\"columnTypeName\":\"CHAR\",\"length\":2,\"scale\":2},{\"columnNumber\":13,\"columnName\":\"UDT Name\",\"columnTypeName\":\"VARCHAR\",\"length\":256,\"scale\":256},{\"columnNumber\":14,\"columnName\":\"Temporal\",\"columnTypeName\":\"CHAR\",\"length\":1,\"scale\":1},{\"columnNumber\":15,\"columnName\":\"Column Dictionary Name\",\"columnTypeName\":\"VARCHAR\",\"length\":256,\"scale\":256},{\"columnNumber\":16,\"columnName\":\"Column SQL Name\",\"columnTypeName\":\"VARCHAR\",\"length\":1288,\"scale\":1288},{\"columnNumber\":17,\"columnName\":\"Column Name UEscape\",\"columnTypeName\":\"VARCHAR\",\"length\":2,\"scale\":2},{\"columnNumber\":18,\"columnName\":\"Dictionary Title\",\"columnTypeName\":\"VARCHAR\",\"length\":512,\"scale\":512},{\"columnNumber\":19,\"columnName\":\"SQL Title\",\"columnTypeName\":\"VARCHAR\",\"length\":2568,\"scale\":2568},{\"columnNumber\":20,\"columnName\":\"Title UEscape\",\"columnTypeName\":\"VARCHAR\",\"length\":2,\"scale\":2},{\"columnNumber\":21,\"columnName\":\"UDT Dictionary Name\",\"columnTypeName\":\"VARCHAR\",\"length\":256,\"scale\":256},{\"columnNumber\":22,\"columnName\":\"UDT SQL Name\",\"columnTypeName\":\"VARCHAR\",\"length\":1288,\"scale\":1288},{\"columnNumber\":23,\"columnName\":\"UDT Name UEscape\",\"columnTypeName\":\"VARCHAR\",\"length\":2,\"scale\":2},{\"columnNumber\":24,\"columnName\":\"Inline Length\",\"columnTypeName\":\"CHAR\",\"length\":26,\"scale\":26},{\"columnNumber\":25,\"columnName\":\"Time Series Column Type\",\"columnTypeName\":\"CHAR\",\"length\":2,\"scale\":2},{\"columnNumber\":26,\"columnName\":\"Auto Column\",\"columnTypeName\":\"CHAR\",\"length\":1,\"scale\":1},{\"columnNumber\":27,\"columnName\":\"OTF Type\",\"columnTypeName\":\"VARCHAR\",\"length\":256,\"scale\":256},{\"columnNumber\":28,\"columnName\":\"OTF Table Format\",\"columnTypeName\":\"VARCHAR\",\"length\":256,\"scale\":256}]}"
     },
     "output_type": "execute_result"
    }
   ],
   "source": [
    "HELP TABLE delta_unity_gcp_demo.demodb.telecom_usage"
   ]
  },
  {
   "cell_type": "markdown",
   "id": "6a249bec-e3bd-4e02-82a9-e60bdd128bf5",
   "metadata": {},
   "source": [
    "<div style=\"\n",
    "  margin: 40px 0;\n",
    "  padding: 20px;\n",
    "  background-color: #E1E1E1;\n",
    "  border-left: 6px solid #7c2301;\n",
    "  font-size: 20px;\n",
    "  font-weight: bold;\n",
    "  color: #2c3e50;\n",
    "  text-align: center;\n",
    "  border-radius: 10px;\n",
    "  box-shadow: 0 2px 5px rgba(0,0,0,0.1);\n",
    "\">\n",
    "  Schema Evolution\n",
    "</div>"
   ]
  },
  {
   "cell_type": "code",
   "execution_count": 15,
   "id": "68133446-6a5d-4dec-b212-b116d41047df",
   "metadata": {
    "tags": [],
    "vscode": {
     "languageId": "teradata sql"
    }
   },
   "outputs": [
    {
     "data": {
      "text/plain": [
       "Success: 6 rows affected"
      ]
     },
     "execution_count": 15,
     "metadata": {
      "application/vnd.teradata.resultset": ""
     },
     "output_type": "execute_result"
    }
   ],
   "source": [
    "CREATE TABLE iceberg_unity_gcp_demo.demodb.telecom_usage_copy\n",
    "\n",
    "AS ( SELECT * FROM iceberg_unity_gcp_demo.demodb.telecom_usage AS D ) \n",
    "\n",
    "WITH DATA; "
   ]
  },
  {
   "cell_type": "code",
   "execution_count": 16,
   "id": "71b0e7cb-e4fc-402a-9c4c-cc0ed7da688e",
   "metadata": {
    "tags": [],
    "vscode": {
     "languageId": "teradata sql"
    }
   },
   "outputs": [
    {
     "data": {
      "text/plain": [
       "Success: 0 rows affected"
      ]
     },
     "execution_count": 16,
     "metadata": {
      "application/vnd.teradata.resultset": ""
     },
     "output_type": "execute_result"
    }
   ],
   "source": [
    "ALTER TABLE iceberg_unity_gcp_demo.demodb.telecom_usage_copy ADD caller_name VARCHAR(50);"
   ]
  },
  {
   "cell_type": "code",
   "execution_count": 30,
   "id": "f8ae94db-611d-41fc-a98b-d9cbf45dafe2",
   "metadata": {
    "tags": [],
    "vscode": {
     "languageId": "teradata sql"
    }
   },
   "outputs": [
    {
     "data": {
      "application/vnd.teradata.resultset": "\"Column Name\",\"Type\",\"Comment\",\"Nullable\",\"Format\",\"Title\",\"Max Length\",\"Decimal Total Digits\",\"Decimal Fractional Digits\",\"Uppercase\",\"Default Value\",\"Char Type\",\"IdCol Type\",\"UDT Name\",\"Temporal\",\"Column Dictionary Name\",\"Column SQL Name\",\"Column Name UEscape\",\"Dictionary Title\",\"SQL Title\",\"Title UEscape\",\"UDT Dictionary Name\",\"UDT SQL Name\",\"UDT Name UEscape\",\"Inline Length\",\"Time Series Column Type\",\"Auto Column\",\"OTF Type\",\"OTF Table Format\"\n\"user_id\",\"I   \",\"\",\"Y \",\"\",\"\",\"4\u0000\u0000\u0000\u0000\u0000\u0000\u0000\u0000\u0000\u0000\u0000\u0000\u0000\u0000\u0000\u0000\u0000\u0000\u0000\u0000\u0000\u0000\u0000\u0000\u0000                                                    \",\"\",\"\",\"\",\"\",\"0\u0000\u0000\u0000        \",\"\",\"\",\"\",\"user_id\",\"user_id\",\"\",\"\",\"\",\"\",\"\",\"\",\"\",\"\",\"\",\"\",\"int\",\"iceberg\"\n\"call_date\",\"DA  \",\"\",\"Y \",\"\",\"\",\"4\u0000\u0000\u0000\u0000\u0000\u0000\u0000\u0000\u0000\u0000\u0000\u0000\u0000\u0000\u0000\u0000\u0000\u0000\u0000\u0000\u0000\u0000\u0000\u0000\u0000                                                    \",\"\",\"\",\"\",\"\",\"0\u0000\u0000\u0000        \",\"\",\"\",\"\",\"call_date\",\"call_date\",\"\",\"\",\"\",\"\",\"\",\"\",\"\",\"\",\"\",\"\",\"date\",\"iceberg\"\n\"call_duration_minutes\",\"I   \",\"\",\"Y \",\"\",\"\",\"4\u0000\u0000\u0000\u0000\u0000\u0000\u0000\u0000\u0000\u0000\u0000\u0000\u0000\u0000\u0000\u0000\u0000\u0000\u0000\u0000\u0000\u0000\u0000\u0000\u0000                                                    \",\"\",\"\",\"\",\"\",\"0\u0000\u0000\u0000        \",\"\",\"\",\"\",\"call_duration_minutes\",\"call_duration_minutes\",\"\",\"\",\"\",\"\",\"\",\"\",\"\",\"\",\"\",\"\",\"int\",\"iceberg\"\n\"data_used_mb\",\"F   \",\"\",\"Y \",\"\",\"\",\"8\u0000\u0000\u0000\u0000\u0000\u0000\u0000\u0000\u0000\u0000\u0000\u0000\u0000\u0000\u0000\u0000\u0000\u0000\u0000\u0000\u0000\u0000\u0000\u0000\u0000                                                    \",\"\",\"\",\"\",\"\",\"0\u0000\u0000\u0000        \",\"\",\"\",\"\",\"data_used_mb\",\"data_used_mb\",\"\",\"\",\"\",\"\",\"\",\"\",\"\",\"\",\"\",\"\",\"double\",\"iceberg\"\n\"call_type\",\"CV  \",\"\",\"Y \",\"\",\"\",\"2000\u0000\u0000\u0000\u0000\u0000\u0000\u0000\u0000\u0000\u0000\u0000\u0000\u0000\u0000\u0000\u0000\u0000\u0000\u0000\u0000\u0000\u0000                                                    \",\"\",\"\",\"\",\"\",\"2\u0000\u0000\u0000        \",\"\",\"\",\"\",\"call_type\",\"call_type\",\"\",\"\",\"\",\"\",\"\",\"\",\"\",\"\",\"\",\"\",\"string\",\"iceberg\"\n\"city\",\"CV  \",\"\",\"Y \",\"\",\"\",\"2000\u0000\u0000\u0000\u0000\u0000\u0000\u0000\u0000\u0000\u0000\u0000\u0000\u0000\u0000\u0000\u0000\u0000\u0000\u0000\u0000\u0000\u0000                                                    \",\"\",\"\",\"\",\"\",\"2\u0000\u0000\u0000        \",\"\",\"\",\"\",\"city\",\"city\",\"\",\"\",\"\",\"\",\"\",\"\",\"\",\"\",\"\",\"\",\"string\",\"iceberg\"\n\"network_type\",\"CV  \",\"\",\"Y \",\"\",\"\",\"2000\u0000\u0000\u0000\u0000\u0000\u0000\u0000\u0000\u0000\u0000\u0000\u0000\u0000\u0000\u0000\u0000\u0000\u0000\u0000\u0000\u0000\u0000                                                    \",\"\",\"\",\"\",\"\",\"2\u0000\u0000\u0000        \",\"\",\"\",\"\",\"network_type\",\"network_type\",\"\",\"\",\"\",\"\",\"\",\"\",\"\",\"\",\"\",\"\",\"string\",\"iceberg\"\n\"caller_name\",\"CV  \",\"\",\"Y \",\"\",\"\",\"2000\u0000\u0000\u0000\u0000\u0000\u0000\u0000\u0000\u0000\u0000\u0000\u0000\u0000\u0000\u0000\u0000\u0000\u0000\u0000\u0000\u0000\u0000                                                    \",\"\",\"\",\"\",\"\",\"2\u0000\u0000\u0000        \",\"\",\"\",\"\",\"caller_name\",\"caller_name\",\"\",\"\",\"\",\"\",\"\",\"\",\"\",\"\",\"\",\"\",\"string\",\"iceberg\"",
      "text/html": [
       "<div class = \"td-resultset-table-div\" style = \"max-height: 100%; overflow-y: auto\">\n",
       "      <table class=\"tdhistory888383\"><style>\n",
       "      table.tdhistory888383 { display: block !important; min-height: 252px !important; overflow: auto !important; height: 252px !important; width: 100% !important; border: 1px solid rgb(207, 207, 207) !important; border-collapse: collapse !important; ; color: var(--jp-ui-font-color1) !important; }\n",
       "      th.tdhistory888383 { border: 1px solid rgb(198,198,198) !important; border-collapse: collapse !important; ; padding: 2px 5px !important; ; font-size: 13px !important; ; text-align: center !important; white-space: normal !important; color: var(--jp-ui-font-color1) !important; }\n",
       "      th.tdhistory888383:last-child { text-align: left !important; }\n",
       "      tbody.tdhistory888383 tr:nth-child(even) { background: rgba(243, 243, 243, 0.75) !important; }\n",
       "      tbody.tdhistory888383 tr:nth-child(odd) { background: var(--jp-ui-inverse-font-color1) !important; }\n",
       "      td.tdhistory888383 { border: 1px solid rgb(207, 207, 207) !important; border-collapse: collapse !important; ; padding: 2px 5px !important; ; font-size: 13px !important; ; text-align: left !important;          white-space: nowrap !important; overflow:hidden !important; text-overflow:ellipsis !important;; }\n",
       "    </style><thead><tr style= \"background: rgba(243, 243, 243, 0.75)\"><th class=\"tdhistory888383\"></th><th class=\"tdhistory888383\">Column Name</th><th class=\"tdhistory888383\">Type</th><th class=\"tdhistory888383\">Comment</th><th class=\"tdhistory888383\">Nullable</th><th class=\"tdhistory888383\">Format</th><th class=\"tdhistory888383\">Title</th><th class=\"tdhistory888383\">Max Length</th><th class=\"tdhistory888383\">Decimal Total Digits</th><th class=\"tdhistory888383\">Decimal Fractional Digits</th><th class=\"tdhistory888383\">Uppercase</th><th class=\"tdhistory888383\">Default Value</th><th class=\"tdhistory888383\">Char Type</th><th class=\"tdhistory888383\">IdCol Type</th><th class=\"tdhistory888383\">UDT Name</th><th class=\"tdhistory888383\">Temporal</th><th class=\"tdhistory888383\">Column Dictionary Name</th><th class=\"tdhistory888383\">Column SQL Name</th><th class=\"tdhistory888383\">Column Name UEscape</th><th class=\"tdhistory888383\">Dictionary Title</th><th class=\"tdhistory888383\">SQL Title</th><th class=\"tdhistory888383\">Title UEscape</th><th class=\"tdhistory888383\">UDT Dictionary Name</th><th class=\"tdhistory888383\">UDT SQL Name</th><th class=\"tdhistory888383\">UDT Name UEscape</th><th class=\"tdhistory888383\">Inline Length</th><th class=\"tdhistory888383\">Time Series Column Type</th><th class=\"tdhistory888383\">Auto Column</th><th class=\"tdhistory888383\">OTF Type</th><th class=\"tdhistory888383\">OTF Table Format</th></tr></thead><tbody class=\"tdhistory888383 resultset-body\"><tr><th class=\"tdhistory888383\" style= \"background: rgba(243, 243, 243, 0.75)\">1</th><td class=\"tdhistory888383\">user_id</td><td class=\"tdhistory888383\">I   </td><td class=\"tdhistory888383\"></td><td class=\"tdhistory888383\">Y </td><td class=\"tdhistory888383\"></td><td class=\"tdhistory888383\"></td><td class=\"tdhistory888383\">4\u0000\u0000\u0000\u0000\u0000\u0000\u0000\u0000\u0000\u0000\u0000\u0000\u0000\u0000\u0000\u0000\u0000\u0000\u0000\u0000\u0000\u0000\u0000\u0000\u0000                                                    </td><td class=\"tdhistory888383\"></td><td class=\"tdhistory888383\"></td><td class=\"tdhistory888383\"></td><td class=\"tdhistory888383\"></td><td class=\"tdhistory888383\">0\u0000\u0000\u0000        </td><td class=\"tdhistory888383\"></td><td class=\"tdhistory888383\"></td><td class=\"tdhistory888383\"></td><td class=\"tdhistory888383\">user_id</td><td class=\"tdhistory888383\">user_id</td><td class=\"tdhistory888383\"></td><td class=\"tdhistory888383\"></td><td class=\"tdhistory888383\"></td><td class=\"tdhistory888383\"></td><td class=\"tdhistory888383\"></td><td class=\"tdhistory888383\"></td><td class=\"tdhistory888383\"></td><td class=\"tdhistory888383\"></td><td class=\"tdhistory888383\"></td><td class=\"tdhistory888383\"></td><td class=\"tdhistory888383\">int</td><td class=\"tdhistory888383\">iceberg</td></tr><tr><th class=\"tdhistory888383\" style= \"background: rgba(243, 243, 243, 0.75)\">2</th><td class=\"tdhistory888383\">call_date</td><td class=\"tdhistory888383\">DA  </td><td class=\"tdhistory888383\"></td><td class=\"tdhistory888383\">Y </td><td class=\"tdhistory888383\"></td><td class=\"tdhistory888383\"></td><td class=\"tdhistory888383\">4\u0000\u0000\u0000\u0000\u0000\u0000\u0000\u0000\u0000\u0000\u0000\u0000\u0000\u0000\u0000\u0000\u0000\u0000\u0000\u0000\u0000\u0000\u0000\u0000\u0000                                                    </td><td class=\"tdhistory888383\"></td><td class=\"tdhistory888383\"></td><td class=\"tdhistory888383\"></td><td class=\"tdhistory888383\"></td><td class=\"tdhistory888383\">0\u0000\u0000\u0000        </td><td class=\"tdhistory888383\"></td><td class=\"tdhistory888383\"></td><td class=\"tdhistory888383\"></td><td class=\"tdhistory888383\">call_date</td><td class=\"tdhistory888383\">call_date</td><td class=\"tdhistory888383\"></td><td class=\"tdhistory888383\"></td><td class=\"tdhistory888383\"></td><td class=\"tdhistory888383\"></td><td class=\"tdhistory888383\"></td><td class=\"tdhistory888383\"></td><td class=\"tdhistory888383\"></td><td class=\"tdhistory888383\"></td><td class=\"tdhistory888383\"></td><td class=\"tdhistory888383\"></td><td class=\"tdhistory888383\">date</td><td class=\"tdhistory888383\">iceberg</td></tr><tr><th class=\"tdhistory888383\" style= \"background: rgba(243, 243, 243, 0.75)\">3</th><td class=\"tdhistory888383\">call_duration_minutes</td><td class=\"tdhistory888383\">I   </td><td class=\"tdhistory888383\"></td><td class=\"tdhistory888383\">Y </td><td class=\"tdhistory888383\"></td><td class=\"tdhistory888383\"></td><td class=\"tdhistory888383\">4\u0000\u0000\u0000\u0000\u0000\u0000\u0000\u0000\u0000\u0000\u0000\u0000\u0000\u0000\u0000\u0000\u0000\u0000\u0000\u0000\u0000\u0000\u0000\u0000\u0000                                                    </td><td class=\"tdhistory888383\"></td><td class=\"tdhistory888383\"></td><td class=\"tdhistory888383\"></td><td class=\"tdhistory888383\"></td><td class=\"tdhistory888383\">0\u0000\u0000\u0000        </td><td class=\"tdhistory888383\"></td><td class=\"tdhistory888383\"></td><td class=\"tdhistory888383\"></td><td class=\"tdhistory888383\">call_duration_minutes</td><td class=\"tdhistory888383\">call_duration_minutes</td><td class=\"tdhistory888383\"></td><td class=\"tdhistory888383\"></td><td class=\"tdhistory888383\"></td><td class=\"tdhistory888383\"></td><td class=\"tdhistory888383\"></td><td class=\"tdhistory888383\"></td><td class=\"tdhistory888383\"></td><td class=\"tdhistory888383\"></td><td class=\"tdhistory888383\"></td><td class=\"tdhistory888383\"></td><td class=\"tdhistory888383\">int</td><td class=\"tdhistory888383\">iceberg</td></tr><tr><th class=\"tdhistory888383\" style= \"background: rgba(243, 243, 243, 0.75)\">4</th><td class=\"tdhistory888383\">data_used_mb</td><td class=\"tdhistory888383\">F   </td><td class=\"tdhistory888383\"></td><td class=\"tdhistory888383\">Y </td><td class=\"tdhistory888383\"></td><td class=\"tdhistory888383\"></td><td class=\"tdhistory888383\">8\u0000\u0000\u0000\u0000\u0000\u0000\u0000\u0000\u0000\u0000\u0000\u0000\u0000\u0000\u0000\u0000\u0000\u0000\u0000\u0000\u0000\u0000\u0000\u0000\u0000                                                    </td><td class=\"tdhistory888383\"></td><td class=\"tdhistory888383\"></td><td class=\"tdhistory888383\"></td><td class=\"tdhistory888383\"></td><td class=\"tdhistory888383\">0\u0000\u0000\u0000        </td><td class=\"tdhistory888383\"></td><td class=\"tdhistory888383\"></td><td class=\"tdhistory888383\"></td><td class=\"tdhistory888383\">data_used_mb</td><td class=\"tdhistory888383\">data_used_mb</td><td class=\"tdhistory888383\"></td><td class=\"tdhistory888383\"></td><td class=\"tdhistory888383\"></td><td class=\"tdhistory888383\"></td><td class=\"tdhistory888383\"></td><td class=\"tdhistory888383\"></td><td class=\"tdhistory888383\"></td><td class=\"tdhistory888383\"></td><td class=\"tdhistory888383\"></td><td class=\"tdhistory888383\"></td><td class=\"tdhistory888383\">double</td><td class=\"tdhistory888383\">iceberg</td></tr><tr><th class=\"tdhistory888383\" style= \"background: rgba(243, 243, 243, 0.75)\">5</th><td class=\"tdhistory888383\">call_type</td><td class=\"tdhistory888383\">CV  </td><td class=\"tdhistory888383\"></td><td class=\"tdhistory888383\">Y </td><td class=\"tdhistory888383\"></td><td class=\"tdhistory888383\"></td><td class=\"tdhistory888383\">2000\u0000\u0000\u0000\u0000\u0000\u0000\u0000\u0000\u0000\u0000\u0000\u0000\u0000\u0000\u0000\u0000\u0000\u0000\u0000\u0000\u0000\u0000                                                    </td><td class=\"tdhistory888383\"></td><td class=\"tdhistory888383\"></td><td class=\"tdhistory888383\"></td><td class=\"tdhistory888383\"></td><td class=\"tdhistory888383\">2\u0000\u0000\u0000        </td><td class=\"tdhistory888383\"></td><td class=\"tdhistory888383\"></td><td class=\"tdhistory888383\"></td><td class=\"tdhistory888383\">call_type</td><td class=\"tdhistory888383\">call_type</td><td class=\"tdhistory888383\"></td><td class=\"tdhistory888383\"></td><td class=\"tdhistory888383\"></td><td class=\"tdhistory888383\"></td><td class=\"tdhistory888383\"></td><td class=\"tdhistory888383\"></td><td class=\"tdhistory888383\"></td><td class=\"tdhistory888383\"></td><td class=\"tdhistory888383\"></td><td class=\"tdhistory888383\"></td><td class=\"tdhistory888383\">string</td><td class=\"tdhistory888383\">iceberg</td></tr><tr><th class=\"tdhistory888383\" style= \"background: rgba(243, 243, 243, 0.75)\">6</th><td class=\"tdhistory888383\">city</td><td class=\"tdhistory888383\">CV  </td><td class=\"tdhistory888383\"></td><td class=\"tdhistory888383\">Y </td><td class=\"tdhistory888383\"></td><td class=\"tdhistory888383\"></td><td class=\"tdhistory888383\">2000\u0000\u0000\u0000\u0000\u0000\u0000\u0000\u0000\u0000\u0000\u0000\u0000\u0000\u0000\u0000\u0000\u0000\u0000\u0000\u0000\u0000\u0000                                                    </td><td class=\"tdhistory888383\"></td><td class=\"tdhistory888383\"></td><td class=\"tdhistory888383\"></td><td class=\"tdhistory888383\"></td><td class=\"tdhistory888383\">2\u0000\u0000\u0000        </td><td class=\"tdhistory888383\"></td><td class=\"tdhistory888383\"></td><td class=\"tdhistory888383\"></td><td class=\"tdhistory888383\">city</td><td class=\"tdhistory888383\">city</td><td class=\"tdhistory888383\"></td><td class=\"tdhistory888383\"></td><td class=\"tdhistory888383\"></td><td class=\"tdhistory888383\"></td><td class=\"tdhistory888383\"></td><td class=\"tdhistory888383\"></td><td class=\"tdhistory888383\"></td><td class=\"tdhistory888383\"></td><td class=\"tdhistory888383\"></td><td class=\"tdhistory888383\"></td><td class=\"tdhistory888383\">string</td><td class=\"tdhistory888383\">iceberg</td></tr><tr><th class=\"tdhistory888383\" style= \"background: rgba(243, 243, 243, 0.75)\">7</th><td class=\"tdhistory888383\">network_type</td><td class=\"tdhistory888383\">CV  </td><td class=\"tdhistory888383\"></td><td class=\"tdhistory888383\">Y </td><td class=\"tdhistory888383\"></td><td class=\"tdhistory888383\"></td><td class=\"tdhistory888383\">2000\u0000\u0000\u0000\u0000\u0000\u0000\u0000\u0000\u0000\u0000\u0000\u0000\u0000\u0000\u0000\u0000\u0000\u0000\u0000\u0000\u0000\u0000                                                    </td><td class=\"tdhistory888383\"></td><td class=\"tdhistory888383\"></td><td class=\"tdhistory888383\"></td><td class=\"tdhistory888383\"></td><td class=\"tdhistory888383\">2\u0000\u0000\u0000        </td><td class=\"tdhistory888383\"></td><td class=\"tdhistory888383\"></td><td class=\"tdhistory888383\"></td><td class=\"tdhistory888383\">network_type</td><td class=\"tdhistory888383\">network_type</td><td class=\"tdhistory888383\"></td><td class=\"tdhistory888383\"></td><td class=\"tdhistory888383\"></td><td class=\"tdhistory888383\"></td><td class=\"tdhistory888383\"></td><td class=\"tdhistory888383\"></td><td class=\"tdhistory888383\"></td><td class=\"tdhistory888383\"></td><td class=\"tdhistory888383\"></td><td class=\"tdhistory888383\"></td><td class=\"tdhistory888383\">string</td><td class=\"tdhistory888383\">iceberg</td></tr><tr><th class=\"tdhistory888383\" style= \"background: rgba(243, 243, 243, 0.75)\">8</th><td class=\"tdhistory888383\">caller_name</td><td class=\"tdhistory888383\">CV  </td><td class=\"tdhistory888383\"></td><td class=\"tdhistory888383\">Y </td><td class=\"tdhistory888383\"></td><td class=\"tdhistory888383\"></td><td class=\"tdhistory888383\">2000\u0000\u0000\u0000\u0000\u0000\u0000\u0000\u0000\u0000\u0000\u0000\u0000\u0000\u0000\u0000\u0000\u0000\u0000\u0000\u0000\u0000\u0000                                                    </td><td class=\"tdhistory888383\"></td><td class=\"tdhistory888383\"></td><td class=\"tdhistory888383\"></td><td class=\"tdhistory888383\"></td><td class=\"tdhistory888383\">2\u0000\u0000\u0000        </td><td class=\"tdhistory888383\"></td><td class=\"tdhistory888383\"></td><td class=\"tdhistory888383\"></td><td class=\"tdhistory888383\">caller_name</td><td class=\"tdhistory888383\">caller_name</td><td class=\"tdhistory888383\"></td><td class=\"tdhistory888383\"></td><td class=\"tdhistory888383\"></td><td class=\"tdhistory888383\"></td><td class=\"tdhistory888383\"></td><td class=\"tdhistory888383\"></td><td class=\"tdhistory888383\"></td><td class=\"tdhistory888383\"></td><td class=\"tdhistory888383\"></td><td class=\"tdhistory888383\"></td><td class=\"tdhistory888383\">string</td><td class=\"tdhistory888383\">iceberg</td></tr></tbody></table></div>"
      ]
     },
     "execution_count": 30,
     "metadata": {
      "application/vnd.teradata.resultset": "{\"resultSetID\":\"/home/jovyan/JupyterLabRoot/Teradata/Resultsets/2025.04.25_23.28.22.354_UTC\",\"historyID\":508,\"chunkID\":\"00001\",\"sessionid\":\"\",\"portnum\":\"\",\"dockermode\":\"docker\",\"totalRowCount\":8,\"chunkCount\":0,\"rowLimit\":0,\"columnMetadata\":[{\"columnName\":\"Column Name\",\"columnTypeName\":\"VARCHAR\",\"length\":256,\"scale\":256},{\"columnNumber\":1,\"columnName\":\"Type\",\"columnTypeName\":\"CHAR\",\"length\":2,\"scale\":2},{\"columnNumber\":2,\"columnName\":\"Comment\",\"columnTypeName\":\"VARCHAR\",\"length\":510,\"scale\":510},{\"columnNumber\":3,\"columnName\":\"Nullable\",\"columnTypeName\":\"CHAR\",\"length\":1,\"scale\":1},{\"columnNumber\":4,\"columnName\":\"Format\",\"columnTypeName\":\"VARCHAR\",\"length\":256,\"scale\":256},{\"columnNumber\":5,\"columnName\":\"Title\",\"columnTypeName\":\"VARCHAR\",\"length\":512,\"scale\":512},{\"columnNumber\":6,\"columnName\":\"Max Length\",\"columnTypeName\":\"CHAR\",\"length\":26,\"scale\":26},{\"columnNumber\":7,\"columnName\":\"Decimal Total Digits\",\"columnTypeName\":\"CHAR\",\"length\":8,\"scale\":8},{\"columnNumber\":8,\"columnName\":\"Decimal Fractional Digits\",\"columnTypeName\":\"CHAR\",\"length\":8,\"scale\":8},{\"columnNumber\":9,\"columnName\":\"Uppercase\",\"columnTypeName\":\"CHAR\",\"length\":1,\"scale\":1},{\"columnNumber\":10,\"columnName\":\"Default Value\",\"columnTypeName\":\"VARCHAR\",\"length\":510,\"scale\":510},{\"columnNumber\":11,\"columnName\":\"Char Type\",\"columnTypeName\":\"CHAR\",\"length\":4,\"scale\":4},{\"columnNumber\":12,\"columnName\":\"IdCol Type\",\"columnTypeName\":\"CHAR\",\"length\":2,\"scale\":2},{\"columnNumber\":13,\"columnName\":\"UDT Name\",\"columnTypeName\":\"VARCHAR\",\"length\":256,\"scale\":256},{\"columnNumber\":14,\"columnName\":\"Temporal\",\"columnTypeName\":\"CHAR\",\"length\":1,\"scale\":1},{\"columnNumber\":15,\"columnName\":\"Column Dictionary Name\",\"columnTypeName\":\"VARCHAR\",\"length\":256,\"scale\":256},{\"columnNumber\":16,\"columnName\":\"Column SQL Name\",\"columnTypeName\":\"VARCHAR\",\"length\":1288,\"scale\":1288},{\"columnNumber\":17,\"columnName\":\"Column Name UEscape\",\"columnTypeName\":\"VARCHAR\",\"length\":2,\"scale\":2},{\"columnNumber\":18,\"columnName\":\"Dictionary Title\",\"columnTypeName\":\"VARCHAR\",\"length\":512,\"scale\":512},{\"columnNumber\":19,\"columnName\":\"SQL Title\",\"columnTypeName\":\"VARCHAR\",\"length\":2568,\"scale\":2568},{\"columnNumber\":20,\"columnName\":\"Title UEscape\",\"columnTypeName\":\"VARCHAR\",\"length\":2,\"scale\":2},{\"columnNumber\":21,\"columnName\":\"UDT Dictionary Name\",\"columnTypeName\":\"VARCHAR\",\"length\":256,\"scale\":256},{\"columnNumber\":22,\"columnName\":\"UDT SQL Name\",\"columnTypeName\":\"VARCHAR\",\"length\":1288,\"scale\":1288},{\"columnNumber\":23,\"columnName\":\"UDT Name UEscape\",\"columnTypeName\":\"VARCHAR\",\"length\":2,\"scale\":2},{\"columnNumber\":24,\"columnName\":\"Inline Length\",\"columnTypeName\":\"CHAR\",\"length\":26,\"scale\":26},{\"columnNumber\":25,\"columnName\":\"Time Series Column Type\",\"columnTypeName\":\"CHAR\",\"length\":2,\"scale\":2},{\"columnNumber\":26,\"columnName\":\"Auto Column\",\"columnTypeName\":\"CHAR\",\"length\":1,\"scale\":1},{\"columnNumber\":27,\"columnName\":\"OTF Type\",\"columnTypeName\":\"VARCHAR\",\"length\":256,\"scale\":256},{\"columnNumber\":28,\"columnName\":\"OTF Table Format\",\"columnTypeName\":\"VARCHAR\",\"length\":256,\"scale\":256}]}"
     },
     "output_type": "execute_result"
    }
   ],
   "source": [
    "HELP TABLE iceberg_unity_gcp_demo.demodb.telecom_usage_copy"
   ]
  },
  {
   "cell_type": "code",
   "execution_count": 18,
   "id": "3d942b69-8327-45b5-a11c-52af1b68e940",
   "metadata": {
    "tags": [],
    "vscode": {
     "languageId": "teradata sql"
    }
   },
   "outputs": [
    {
     "data": {
      "text/plain": [
       "Success: 1 rows affected"
      ]
     },
     "execution_count": 18,
     "metadata": {
      "application/vnd.teradata.resultset": ""
     },
     "output_type": "execute_result"
    }
   ],
   "source": [
    "INSERT INTO iceberg_unity_gcp_demo.demodb.telecom_usage_copy VALUES (7, DATE '2025-03-02', 10, 190.5, 'local', 'Lodz', '4G', 'Alejandro Fernandez');"
   ]
  },
  {
   "cell_type": "code",
   "execution_count": 19,
   "id": "6b522228-f5cc-45f4-9b42-ace67a99d389",
   "metadata": {
    "tags": [],
    "vscode": {
     "languageId": "teradata sql"
    }
   },
   "outputs": [
    {
     "data": {
      "application/vnd.teradata.resultset": "\"user_id\",\"call_date\",\"call_duration_minutes\",\"data_used_mb\",\"call_type\",\"city\",\"network_type\",\"caller_name\"\n\"9\",\"2025-04-01\",\"2\",\"25\",\"roaming\",\"Poznan\",\"3G\",\"\"\n\"7\",\"2025-04-01\",\"12\",\"180\",\"local\",\"Wroclaw\",\"5G\",\"\"\n\"8\",\"2025-04-01\",\"6\",\"60\",\"international\",\"Gdansk\",\"4G\",\"\"\n\"8\",\"2025-04-02\",\"4\",\"40\",\"local\",\"Gdansk\",\"4G\",\"\"\n\"7\",\"2025-04-02\",\"10\",\"190.5\",\"local\",\"Wroclaw\",\"5G\",\"\"\n\"9\",\"2025-04-01\",\"2\",\"25\",\"roaming\",\"Poznan\",\"3G\",\"\"\n\"7\",\"2025-03-02\",\"10\",\"190.5\",\"local\",\"Lodz\",\"4G\",\"Alejandro Fernandez\"",
      "text/html": [
       "<div class = \"td-resultset-table-div\" style = \"max-height: 100%; overflow-y: auto\">\n",
       "      <table class=\"tdhistory552517\"><style>\n",
       "      table.tdhistory552517 { display: block !important; min-height: 231px !important; overflow: auto !important; height: 231px !important; width: 100% !important; border: 1px solid rgb(207, 207, 207) !important; border-collapse: collapse !important; ; color: var(--jp-ui-font-color1) !important; }\n",
       "      th.tdhistory552517 { border: 1px solid rgb(198,198,198) !important; border-collapse: collapse !important; ; padding: 2px 5px !important; ; font-size: 13px !important; ; text-align: center !important; white-space: normal !important; color: var(--jp-ui-font-color1) !important; }\n",
       "      th.tdhistory552517:last-child { text-align: left !important; }\n",
       "      tbody.tdhistory552517 tr:nth-child(even) { background: rgba(243, 243, 243, 0.75) !important; }\n",
       "      tbody.tdhistory552517 tr:nth-child(odd) { background: var(--jp-ui-inverse-font-color1) !important; }\n",
       "      td.tdhistory552517 { border: 1px solid rgb(207, 207, 207) !important; border-collapse: collapse !important; ; padding: 2px 5px !important; ; font-size: 13px !important; ; text-align: left !important;          white-space: nowrap !important; overflow:hidden !important; text-overflow:ellipsis !important;; }\n",
       "    </style><thead><tr style= \"background: rgba(243, 243, 243, 0.75)\"><th class=\"tdhistory552517\"></th><th class=\"tdhistory552517\">user_id</th><th class=\"tdhistory552517\">call_date</th><th class=\"tdhistory552517\">call_duration_minutes</th><th class=\"tdhistory552517\">data_used_mb</th><th class=\"tdhistory552517\">call_type</th><th class=\"tdhistory552517\">city</th><th class=\"tdhistory552517\">network_type</th><th class=\"tdhistory552517\">caller_name</th></tr></thead><tbody class=\"tdhistory552517 resultset-body\"><tr><th class=\"tdhistory552517\" style= \"background: rgba(243, 243, 243, 0.75)\">1</th><td class=\"tdhistory552517\">9</td><td class=\"tdhistory552517\">2025-04-01</td><td class=\"tdhistory552517\">2</td><td class=\"tdhistory552517\">25</td><td class=\"tdhistory552517\">roaming</td><td class=\"tdhistory552517\">Poznan</td><td class=\"tdhistory552517\">3G</td><td class=\"tdhistory552517\"></td></tr><tr><th class=\"tdhistory552517\" style= \"background: rgba(243, 243, 243, 0.75)\">2</th><td class=\"tdhistory552517\">7</td><td class=\"tdhistory552517\">2025-04-01</td><td class=\"tdhistory552517\">12</td><td class=\"tdhistory552517\">180</td><td class=\"tdhistory552517\">local</td><td class=\"tdhistory552517\">Wroclaw</td><td class=\"tdhistory552517\">5G</td><td class=\"tdhistory552517\"></td></tr><tr><th class=\"tdhistory552517\" style= \"background: rgba(243, 243, 243, 0.75)\">3</th><td class=\"tdhistory552517\">8</td><td class=\"tdhistory552517\">2025-04-01</td><td class=\"tdhistory552517\">6</td><td class=\"tdhistory552517\">60</td><td class=\"tdhistory552517\">international</td><td class=\"tdhistory552517\">Gdansk</td><td class=\"tdhistory552517\">4G</td><td class=\"tdhistory552517\"></td></tr><tr><th class=\"tdhistory552517\" style= \"background: rgba(243, 243, 243, 0.75)\">4</th><td class=\"tdhistory552517\">8</td><td class=\"tdhistory552517\">2025-04-02</td><td class=\"tdhistory552517\">4</td><td class=\"tdhistory552517\">40</td><td class=\"tdhistory552517\">local</td><td class=\"tdhistory552517\">Gdansk</td><td class=\"tdhistory552517\">4G</td><td class=\"tdhistory552517\"></td></tr><tr><th class=\"tdhistory552517\" style= \"background: rgba(243, 243, 243, 0.75)\">5</th><td class=\"tdhistory552517\">7</td><td class=\"tdhistory552517\">2025-04-02</td><td class=\"tdhistory552517\">10</td><td class=\"tdhistory552517\">190.5</td><td class=\"tdhistory552517\">local</td><td class=\"tdhistory552517\">Wroclaw</td><td class=\"tdhistory552517\">5G</td><td class=\"tdhistory552517\"></td></tr><tr><th class=\"tdhistory552517\" style= \"background: rgba(243, 243, 243, 0.75)\">6</th><td class=\"tdhistory552517\">9</td><td class=\"tdhistory552517\">2025-04-01</td><td class=\"tdhistory552517\">2</td><td class=\"tdhistory552517\">25</td><td class=\"tdhistory552517\">roaming</td><td class=\"tdhistory552517\">Poznan</td><td class=\"tdhistory552517\">3G</td><td class=\"tdhistory552517\"></td></tr><tr><th class=\"tdhistory552517\" style= \"background: rgba(243, 243, 243, 0.75)\">7</th><td class=\"tdhistory552517\">7</td><td class=\"tdhistory552517\">2025-03-02</td><td class=\"tdhistory552517\">10</td><td class=\"tdhistory552517\">190.5</td><td class=\"tdhistory552517\">local</td><td class=\"tdhistory552517\">Lodz</td><td class=\"tdhistory552517\">4G</td><td class=\"tdhistory552517\">Alejandro Fernandez</td></tr></tbody></table></div>"
      ]
     },
     "execution_count": 19,
     "metadata": {
      "application/vnd.teradata.resultset": "{\"resultSetID\":\"/home/jovyan/JupyterLabRoot/Teradata/Resultsets/2025.04.25_02.03.58.747_UTC\",\"historyID\":499,\"chunkID\":\"00001\",\"sessionid\":\"\",\"portnum\":\"\",\"dockermode\":\"docker\",\"totalRowCount\":7,\"chunkCount\":0,\"rowLimit\":0,\"columnMetadata\":[{\"columnName\":\"user_id\",\"columnTypeName\":\"INTEGER\"},{\"columnNumber\":1,\"columnName\":\"call_date\",\"columnTypeName\":\"DATE\"},{\"columnNumber\":2,\"columnName\":\"call_duration_minutes\",\"columnTypeName\":\"INTEGER\"},{\"columnNumber\":3,\"columnName\":\"data_used_mb\",\"columnTypeName\":\"FLOAT\"},{\"columnNumber\":4,\"columnName\":\"call_type\",\"columnTypeName\":\"VARCHAR\",\"length\":2000,\"scale\":2000},{\"columnNumber\":5,\"columnName\":\"city\",\"columnTypeName\":\"VARCHAR\",\"length\":2000,\"scale\":2000},{\"columnNumber\":6,\"columnName\":\"network_type\",\"columnTypeName\":\"VARCHAR\",\"length\":2000,\"scale\":2000},{\"columnNumber\":7,\"columnName\":\"caller_name\",\"columnTypeName\":\"VARCHAR\",\"length\":2000,\"scale\":2000}]}"
     },
     "output_type": "execute_result"
    }
   ],
   "source": [
    "SELECT * FROM iceberg_unity_gcp_demo.demodb.telecom_usage_copy;"
   ]
  },
  {
   "cell_type": "markdown",
   "id": "fe460cd0-9048-4110-80ca-fa4bc6adbf9c",
   "metadata": {},
   "source": [
    "<div style=\"\n",
    "  margin: 40px 0;\n",
    "  padding: 20px;\n",
    "  background-color: #E1E1E1;\n",
    "  border-left: 6px solid #7c2301;\n",
    "  font-size: 20px;\n",
    "  font-weight: bold;\n",
    "  color: #2c3e50;\n",
    "  text-align: center;\n",
    "  border-radius: 10px;\n",
    "  box-shadow: 0 2px 5px rgba(0,0,0,0.1);\n",
    "\">\n",
    "  Time Travel and Snapshots\n",
    "</div>"
   ]
  },
  {
   "cell_type": "code",
   "execution_count": 20,
   "id": "8086bc8c-d96c-4883-b291-b23df04f3d83",
   "metadata": {
    "tags": [],
    "vscode": {
     "languageId": "teradata sql"
    }
   },
   "outputs": [
    {
     "data": {
      "application/vnd.teradata.resultset": "\"snapshotId\",\"snapshotTimestamp\",\"timestampMSecs\",\"manifestList\",\"summary\"\n\"4522097144108256694\",\"2025-04-25 01:59:59\",\"1745546399410\",\"gs://tdotf-dev/58eff1a8-e4a5-44a9-8847-1692a8cb154c/tables/e7cff2b8-a242-4dae-b5c4-503272a1e612/metadata/snap-4522097144108256694-1-291a7528-e897-42a1-a736-6b6abb4bcadb.avro\",\"{\"\"added-data-files\"\":\"\"2\"\",\"\"added-records\"\":\"\"6\"\",\"\"added-files-size\"\":\"\"5324\"\",\"\"changed-partition-count\"\":\"\"1\"\",\"\"total-records\"\":\"\"6\"\",\"\"total-files-size\"\":\"\"5324\"\",\"\"total-data-files\"\":\"\"2\"\",\"\"total-delete-files\"\":\"\"0\"\",\"\"total-position-deletes\"\":\"\"0\"\",\"\"total-equality-deletes\"\":\"\"0\"\"}\"\n\"6549067653790091963\",\"2025-04-25 02:00:41\",\"1745546441176\",\"gs://tdotf-dev/58eff1a8-e4a5-44a9-8847-1692a8cb154c/tables/e7cff2b8-a242-4dae-b5c4-503272a1e612/metadata/snap-6549067653790091963-1-3d0b63dd-cb04-4e2c-82fa-452f5f7dadd2.avro\",\"{\"\"added-data-files\"\":\"\"1\"\",\"\"added-records\"\":\"\"1\"\",\"\"added-files-size\"\":\"\"3021\"\",\"\"changed-partition-count\"\":\"\"1\"\",\"\"total-records\"\":\"\"7\"\",\"\"total-files-size\"\":\"\"8345\"\",\"\"total-data-files\"\":\"\"3\"\",\"\"total-delete-files\"\":\"\"0\"\",\"\"total-position-deletes\"\":\"\"0\"\",\"\"total-equality-deletes\"\":\"\"0\"\"}\"",
      "text/html": [
       "<div class = \"td-resultset-table-div\" style = \"max-height: 100%; overflow-y: auto\">\n",
       "      <table class=\"tdhistory650481\"><style>\n",
       "      table.tdhistory650481 { display: block !important; min-height: 126px !important; overflow: auto !important; height: 126px !important; width: 100% !important; border: 1px solid rgb(207, 207, 207) !important; border-collapse: collapse !important; ; color: var(--jp-ui-font-color1) !important; }\n",
       "      th.tdhistory650481 { border: 1px solid rgb(198,198,198) !important; border-collapse: collapse !important; ; padding: 2px 5px !important; ; font-size: 13px !important; ; text-align: center !important; white-space: normal !important; color: var(--jp-ui-font-color1) !important; }\n",
       "      th.tdhistory650481:last-child { text-align: left !important; }\n",
       "      tbody.tdhistory650481 tr:nth-child(even) { background: rgba(243, 243, 243, 0.75) !important; }\n",
       "      tbody.tdhistory650481 tr:nth-child(odd) { background: var(--jp-ui-inverse-font-color1) !important; }\n",
       "      td.tdhistory650481 { border: 1px solid rgb(207, 207, 207) !important; border-collapse: collapse !important; ; padding: 2px 5px !important; ; font-size: 13px !important; ; text-align: left !important;          white-space: nowrap !important; overflow:hidden !important; text-overflow:ellipsis !important;; }\n",
       "    </style><thead><tr style= \"background: rgba(243, 243, 243, 0.75)\"><th class=\"tdhistory650481\"></th><th class=\"tdhistory650481\">snapshotId</th><th class=\"tdhistory650481\">snapshotTimestamp</th><th class=\"tdhistory650481\">timestampMSecs</th><th class=\"tdhistory650481\">manifestList</th><th class=\"tdhistory650481\">summary</th></tr></thead><tbody class=\"tdhistory650481 resultset-body\"><tr><th class=\"tdhistory650481\" style= \"background: rgba(243, 243, 243, 0.75)\">1</th><td class=\"tdhistory650481\">4522097144108256694</td><td class=\"tdhistory650481\">2025-04-25 01:59:59</td><td class=\"tdhistory650481\">1745546399410</td><td class=\"tdhistory650481\">gs://tdotf-dev/58eff1a8-e4a5-44a9-8847-1692a8cb154c/tables/e7cff2b8-a242-4dae-b5c4-503272a1e612/metadata/snap-4522097144108256694-1-291a7528-e897-42a1-a736-6b6abb4bcadb.avro</td><td class=\"tdhistory650481\">{\"added-data-files\":\"2\",\"added-records\":\"6\",\"added-files-size\":\"5324\",\"changed-partition-count\":\"1\",\"total-records\":\"6\",\"total-files-size\":\"5324\",\"total-data-files\":\"2\",\"total-delete-files\":\"0\",\"total-position-deletes\":\"0\",\"total-equality-deletes\":\"0\"}</td></tr><tr><th class=\"tdhistory650481\" style= \"background: rgba(243, 243, 243, 0.75)\">2</th><td class=\"tdhistory650481\">6549067653790091963</td><td class=\"tdhistory650481\">2025-04-25 02:00:41</td><td class=\"tdhistory650481\">1745546441176</td><td class=\"tdhistory650481\">gs://tdotf-dev/58eff1a8-e4a5-44a9-8847-1692a8cb154c/tables/e7cff2b8-a242-4dae-b5c4-503272a1e612/metadata/snap-6549067653790091963-1-3d0b63dd-cb04-4e2c-82fa-452f5f7dadd2.avro</td><td class=\"tdhistory650481\">{\"added-data-files\":\"1\",\"added-records\":\"1\",\"added-files-size\":\"3021\",\"changed-partition-count\":\"1\",\"total-records\":\"7\",\"total-files-size\":\"8345\",\"total-data-files\":\"3\",\"total-delete-files\":\"0\",\"total-position-deletes\":\"0\",\"total-equality-deletes\":\"0\"}</td></tr></tbody></table></div>"
      ]
     },
     "execution_count": 20,
     "metadata": {
      "application/vnd.teradata.resultset": "{\"resultSetID\":\"/home/jovyan/JupyterLabRoot/Teradata/Resultsets/2025.04.25_02.04.07.781_UTC\",\"historyID\":500,\"chunkID\":\"00001\",\"sessionid\":\"\",\"portnum\":\"\",\"dockermode\":\"docker\",\"totalRowCount\":2,\"chunkCount\":0,\"rowLimit\":0,\"columnMetadata\":[{\"columnName\":\"snapshotId\",\"columnTypeName\":\"BIGINT\"},{\"columnNumber\":1,\"columnName\":\"snapshotTimestamp\",\"columnTypeName\":\"TIMESTAMP\"},{\"columnNumber\":2,\"columnName\":\"timestampMSecs\",\"columnTypeName\":\"BIGINT\"},{\"columnNumber\":3,\"columnName\":\"manifestList\",\"columnTypeName\":\"VARCHAR\",\"length\":512,\"scale\":512},{\"columnNumber\":4,\"columnName\":\"summary\",\"columnTypeName\":\"VARCHAR\",\"length\":15000,\"scale\":15000}]}"
     },
     "output_type": "execute_result"
    }
   ],
   "source": [
    "SELECT * FROM TD_SNAPSHOTS (ON (iceberg_unity_gcp_demo.demodb.telecom_usage_copy)) D; "
   ]
  },
  {
   "cell_type": "code",
   "execution_count": 23,
   "id": "aac2014c-d26d-4254-9407-878ff825b533",
   "metadata": {
    "tags": [],
    "vscode": {
     "languageId": "teradata sql"
    }
   },
   "outputs": [
    {
     "data": {
      "application/vnd.teradata.resultset": "\"user_id\",\"call_date\",\"call_duration_minutes\",\"data_used_mb\",\"call_type\",\"city\",\"network_type\",\"caller_name\"\n\"9\",\"2025-04-01\",\"2\",\"25\",\"roaming\",\"Poznan\",\"3G\",\"\"\n\"7\",\"2025-04-01\",\"12\",\"180\",\"local\",\"Wroclaw\",\"5G\",\"\"\n\"8\",\"2025-04-01\",\"6\",\"60\",\"international\",\"Gdansk\",\"4G\",\"\"\n\"8\",\"2025-04-02\",\"4\",\"40\",\"local\",\"Gdansk\",\"4G\",\"\"\n\"7\",\"2025-04-02\",\"10\",\"190.5\",\"local\",\"Wroclaw\",\"5G\",\"\"\n\"9\",\"2025-04-01\",\"2\",\"25\",\"roaming\",\"Poznan\",\"3G\",\"\"",
      "text/html": [
       "<div class = \"td-resultset-table-div\" style = \"max-height: 100%; overflow-y: auto\">\n",
       "      <table class=\"tdhistory306794\"><style>\n",
       "      table.tdhistory306794 { display: block !important; min-height: 210px !important; overflow: auto !important; height: 210px !important; width: 100% !important; border: 1px solid rgb(207, 207, 207) !important; border-collapse: collapse !important; ; color: var(--jp-ui-font-color1) !important; }\n",
       "      th.tdhistory306794 { border: 1px solid rgb(198,198,198) !important; border-collapse: collapse !important; ; padding: 2px 5px !important; ; font-size: 13px !important; ; text-align: center !important; white-space: normal !important; color: var(--jp-ui-font-color1) !important; }\n",
       "      th.tdhistory306794:last-child { text-align: left !important; }\n",
       "      tbody.tdhistory306794 tr:nth-child(even) { background: rgba(243, 243, 243, 0.75) !important; }\n",
       "      tbody.tdhistory306794 tr:nth-child(odd) { background: var(--jp-ui-inverse-font-color1) !important; }\n",
       "      td.tdhistory306794 { border: 1px solid rgb(207, 207, 207) !important; border-collapse: collapse !important; ; padding: 2px 5px !important; ; font-size: 13px !important; ; text-align: left !important;          white-space: nowrap !important; overflow:hidden !important; text-overflow:ellipsis !important;; }\n",
       "    </style><thead><tr style= \"background: rgba(243, 243, 243, 0.75)\"><th class=\"tdhistory306794\"></th><th class=\"tdhistory306794\">user_id</th><th class=\"tdhistory306794\">call_date</th><th class=\"tdhistory306794\">call_duration_minutes</th><th class=\"tdhistory306794\">data_used_mb</th><th class=\"tdhistory306794\">call_type</th><th class=\"tdhistory306794\">city</th><th class=\"tdhistory306794\">network_type</th><th class=\"tdhistory306794\">caller_name</th></tr></thead><tbody class=\"tdhistory306794 resultset-body\"><tr><th class=\"tdhistory306794\" style= \"background: rgba(243, 243, 243, 0.75)\">1</th><td class=\"tdhistory306794\">9</td><td class=\"tdhistory306794\">2025-04-01</td><td class=\"tdhistory306794\">2</td><td class=\"tdhistory306794\">25</td><td class=\"tdhistory306794\">roaming</td><td class=\"tdhistory306794\">Poznan</td><td class=\"tdhistory306794\">3G</td><td class=\"tdhistory306794\"></td></tr><tr><th class=\"tdhistory306794\" style= \"background: rgba(243, 243, 243, 0.75)\">2</th><td class=\"tdhistory306794\">7</td><td class=\"tdhistory306794\">2025-04-01</td><td class=\"tdhistory306794\">12</td><td class=\"tdhistory306794\">180</td><td class=\"tdhistory306794\">local</td><td class=\"tdhistory306794\">Wroclaw</td><td class=\"tdhistory306794\">5G</td><td class=\"tdhistory306794\"></td></tr><tr><th class=\"tdhistory306794\" style= \"background: rgba(243, 243, 243, 0.75)\">3</th><td class=\"tdhistory306794\">8</td><td class=\"tdhistory306794\">2025-04-01</td><td class=\"tdhistory306794\">6</td><td class=\"tdhistory306794\">60</td><td class=\"tdhistory306794\">international</td><td class=\"tdhistory306794\">Gdansk</td><td class=\"tdhistory306794\">4G</td><td class=\"tdhistory306794\"></td></tr><tr><th class=\"tdhistory306794\" style= \"background: rgba(243, 243, 243, 0.75)\">4</th><td class=\"tdhistory306794\">8</td><td class=\"tdhistory306794\">2025-04-02</td><td class=\"tdhistory306794\">4</td><td class=\"tdhistory306794\">40</td><td class=\"tdhistory306794\">local</td><td class=\"tdhistory306794\">Gdansk</td><td class=\"tdhistory306794\">4G</td><td class=\"tdhistory306794\"></td></tr><tr><th class=\"tdhistory306794\" style= \"background: rgba(243, 243, 243, 0.75)\">5</th><td class=\"tdhistory306794\">7</td><td class=\"tdhistory306794\">2025-04-02</td><td class=\"tdhistory306794\">10</td><td class=\"tdhistory306794\">190.5</td><td class=\"tdhistory306794\">local</td><td class=\"tdhistory306794\">Wroclaw</td><td class=\"tdhistory306794\">5G</td><td class=\"tdhistory306794\"></td></tr><tr><th class=\"tdhistory306794\" style= \"background: rgba(243, 243, 243, 0.75)\">6</th><td class=\"tdhistory306794\">9</td><td class=\"tdhistory306794\">2025-04-01</td><td class=\"tdhistory306794\">2</td><td class=\"tdhistory306794\">25</td><td class=\"tdhistory306794\">roaming</td><td class=\"tdhistory306794\">Poznan</td><td class=\"tdhistory306794\">3G</td><td class=\"tdhistory306794\"></td></tr></tbody></table></div>"
      ]
     },
     "execution_count": 23,
     "metadata": {
      "application/vnd.teradata.resultset": "{\"resultSetID\":\"/home/jovyan/JupyterLabRoot/Teradata/Resultsets/2025.04.25_02.05.43.891_UTC\",\"historyID\":503,\"chunkID\":\"00001\",\"sessionid\":\"\",\"portnum\":\"\",\"dockermode\":\"docker\",\"totalRowCount\":6,\"chunkCount\":0,\"rowLimit\":0,\"columnMetadata\":[{\"columnName\":\"user_id\",\"columnTypeName\":\"INTEGER\"},{\"columnNumber\":1,\"columnName\":\"call_date\",\"columnTypeName\":\"DATE\"},{\"columnNumber\":2,\"columnName\":\"call_duration_minutes\",\"columnTypeName\":\"INTEGER\"},{\"columnNumber\":3,\"columnName\":\"data_used_mb\",\"columnTypeName\":\"FLOAT\"},{\"columnNumber\":4,\"columnName\":\"call_type\",\"columnTypeName\":\"VARCHAR\",\"length\":2000,\"scale\":2000},{\"columnNumber\":5,\"columnName\":\"city\",\"columnTypeName\":\"VARCHAR\",\"length\":2000,\"scale\":2000},{\"columnNumber\":6,\"columnName\":\"network_type\",\"columnTypeName\":\"VARCHAR\",\"length\":2000,\"scale\":2000},{\"columnNumber\":7,\"columnName\":\"caller_name\",\"columnTypeName\":\"VARCHAR\",\"length\":2000,\"scale\":2000}]}"
     },
     "output_type": "execute_result"
    }
   ],
   "source": [
    "SELECT * FROM iceberg_unity_gcp_demo.demodb.telecom_usage_copy FOR SNAPSHOT AS OF '4522097144108256694'; "
   ]
  },
  {
   "cell_type": "code",
   "execution_count": 26,
   "id": "f8f951a1-a7e0-4c94-b9ba-9d87d2dcf9d9",
   "metadata": {
    "tags": [],
    "vscode": {
     "languageId": "teradata sql"
    }
   },
   "outputs": [
    {
     "data": {
      "application/vnd.teradata.resultset": "\"user_id\",\"call_date\",\"call_duration_minutes\",\"data_used_mb\",\"call_type\",\"city\",\"network_type\",\"caller_name\"\n\"9\",\"2025-04-01\",\"2\",\"25\",\"roaming\",\"Poznan\",\"3G\",\"\"\n\"7\",\"2025-04-01\",\"12\",\"180\",\"local\",\"Wroclaw\",\"5G\",\"\"\n\"8\",\"2025-04-01\",\"6\",\"60\",\"international\",\"Gdansk\",\"4G\",\"\"\n\"8\",\"2025-04-02\",\"4\",\"40\",\"local\",\"Gdansk\",\"4G\",\"\"\n\"7\",\"2025-04-02\",\"10\",\"190.5\",\"local\",\"Wroclaw\",\"5G\",\"\"\n\"9\",\"2025-04-01\",\"2\",\"25\",\"roaming\",\"Poznan\",\"3G\",\"\"\n\"7\",\"2025-03-02\",\"10\",\"190.5\",\"local\",\"Lodz\",\"4G\",\"Alejandro Fernandez\"",
      "text/html": [
       "<div class = \"td-resultset-table-div\" style = \"max-height: 100%; overflow-y: auto\">\n",
       "      <table class=\"tdhistory809807\"><style>\n",
       "      table.tdhistory809807 { display: block !important; min-height: 231px !important; overflow: auto !important; height: 231px !important; width: 100% !important; border: 1px solid rgb(207, 207, 207) !important; border-collapse: collapse !important; ; color: var(--jp-ui-font-color1) !important; }\n",
       "      th.tdhistory809807 { border: 1px solid rgb(198,198,198) !important; border-collapse: collapse !important; ; padding: 2px 5px !important; ; font-size: 13px !important; ; text-align: center !important; white-space: normal !important; color: var(--jp-ui-font-color1) !important; }\n",
       "      th.tdhistory809807:last-child { text-align: left !important; }\n",
       "      tbody.tdhistory809807 tr:nth-child(even) { background: rgba(243, 243, 243, 0.75) !important; }\n",
       "      tbody.tdhistory809807 tr:nth-child(odd) { background: var(--jp-ui-inverse-font-color1) !important; }\n",
       "      td.tdhistory809807 { border: 1px solid rgb(207, 207, 207) !important; border-collapse: collapse !important; ; padding: 2px 5px !important; ; font-size: 13px !important; ; text-align: left !important;          white-space: nowrap !important; overflow:hidden !important; text-overflow:ellipsis !important;; }\n",
       "    </style><thead><tr style= \"background: rgba(243, 243, 243, 0.75)\"><th class=\"tdhistory809807\"></th><th class=\"tdhistory809807\">user_id</th><th class=\"tdhistory809807\">call_date</th><th class=\"tdhistory809807\">call_duration_minutes</th><th class=\"tdhistory809807\">data_used_mb</th><th class=\"tdhistory809807\">call_type</th><th class=\"tdhistory809807\">city</th><th class=\"tdhistory809807\">network_type</th><th class=\"tdhistory809807\">caller_name</th></tr></thead><tbody class=\"tdhistory809807 resultset-body\"><tr><th class=\"tdhistory809807\" style= \"background: rgba(243, 243, 243, 0.75)\">1</th><td class=\"tdhistory809807\">9</td><td class=\"tdhistory809807\">2025-04-01</td><td class=\"tdhistory809807\">2</td><td class=\"tdhistory809807\">25</td><td class=\"tdhistory809807\">roaming</td><td class=\"tdhistory809807\">Poznan</td><td class=\"tdhistory809807\">3G</td><td class=\"tdhistory809807\"></td></tr><tr><th class=\"tdhistory809807\" style= \"background: rgba(243, 243, 243, 0.75)\">2</th><td class=\"tdhistory809807\">7</td><td class=\"tdhistory809807\">2025-04-01</td><td class=\"tdhistory809807\">12</td><td class=\"tdhistory809807\">180</td><td class=\"tdhistory809807\">local</td><td class=\"tdhistory809807\">Wroclaw</td><td class=\"tdhistory809807\">5G</td><td class=\"tdhistory809807\"></td></tr><tr><th class=\"tdhistory809807\" style= \"background: rgba(243, 243, 243, 0.75)\">3</th><td class=\"tdhistory809807\">8</td><td class=\"tdhistory809807\">2025-04-01</td><td class=\"tdhistory809807\">6</td><td class=\"tdhistory809807\">60</td><td class=\"tdhistory809807\">international</td><td class=\"tdhistory809807\">Gdansk</td><td class=\"tdhistory809807\">4G</td><td class=\"tdhistory809807\"></td></tr><tr><th class=\"tdhistory809807\" style= \"background: rgba(243, 243, 243, 0.75)\">4</th><td class=\"tdhistory809807\">8</td><td class=\"tdhistory809807\">2025-04-02</td><td class=\"tdhistory809807\">4</td><td class=\"tdhistory809807\">40</td><td class=\"tdhistory809807\">local</td><td class=\"tdhistory809807\">Gdansk</td><td class=\"tdhistory809807\">4G</td><td class=\"tdhistory809807\"></td></tr><tr><th class=\"tdhistory809807\" style= \"background: rgba(243, 243, 243, 0.75)\">5</th><td class=\"tdhistory809807\">7</td><td class=\"tdhistory809807\">2025-04-02</td><td class=\"tdhistory809807\">10</td><td class=\"tdhistory809807\">190.5</td><td class=\"tdhistory809807\">local</td><td class=\"tdhistory809807\">Wroclaw</td><td class=\"tdhistory809807\">5G</td><td class=\"tdhistory809807\"></td></tr><tr><th class=\"tdhistory809807\" style= \"background: rgba(243, 243, 243, 0.75)\">6</th><td class=\"tdhistory809807\">9</td><td class=\"tdhistory809807\">2025-04-01</td><td class=\"tdhistory809807\">2</td><td class=\"tdhistory809807\">25</td><td class=\"tdhistory809807\">roaming</td><td class=\"tdhistory809807\">Poznan</td><td class=\"tdhistory809807\">3G</td><td class=\"tdhistory809807\"></td></tr><tr><th class=\"tdhistory809807\" style= \"background: rgba(243, 243, 243, 0.75)\">7</th><td class=\"tdhistory809807\">7</td><td class=\"tdhistory809807\">2025-03-02</td><td class=\"tdhistory809807\">10</td><td class=\"tdhistory809807\">190.5</td><td class=\"tdhistory809807\">local</td><td class=\"tdhistory809807\">Lodz</td><td class=\"tdhistory809807\">4G</td><td class=\"tdhistory809807\">Alejandro Fernandez</td></tr></tbody></table></div>"
      ]
     },
     "execution_count": 26,
     "metadata": {
      "application/vnd.teradata.resultset": "{\"resultSetID\":\"/home/jovyan/JupyterLabRoot/Teradata/Resultsets/2025.04.25_02.08.10.717_UTC\",\"historyID\":506,\"chunkID\":\"00001\",\"sessionid\":\"\",\"portnum\":\"\",\"dockermode\":\"docker\",\"totalRowCount\":7,\"chunkCount\":0,\"rowLimit\":0,\"columnMetadata\":[{\"columnName\":\"user_id\",\"columnTypeName\":\"INTEGER\"},{\"columnNumber\":1,\"columnName\":\"call_date\",\"columnTypeName\":\"DATE\"},{\"columnNumber\":2,\"columnName\":\"call_duration_minutes\",\"columnTypeName\":\"INTEGER\"},{\"columnNumber\":3,\"columnName\":\"data_used_mb\",\"columnTypeName\":\"FLOAT\"},{\"columnNumber\":4,\"columnName\":\"call_type\",\"columnTypeName\":\"VARCHAR\",\"length\":2000,\"scale\":2000},{\"columnNumber\":5,\"columnName\":\"city\",\"columnTypeName\":\"VARCHAR\",\"length\":2000,\"scale\":2000},{\"columnNumber\":6,\"columnName\":\"network_type\",\"columnTypeName\":\"VARCHAR\",\"length\":2000,\"scale\":2000},{\"columnNumber\":7,\"columnName\":\"caller_name\",\"columnTypeName\":\"VARCHAR\",\"length\":2000,\"scale\":2000}]}"
     },
     "output_type": "execute_result"
    }
   ],
   "source": [
    "SELECT * FROM iceberg_unity_gcp_demo.demodb.telecom_usage_copy FOR SNAPSHOT AS OF TIMESTAMP'2025-04-25 02:01:00'; "
   ]
  },
  {
   "cell_type": "markdown",
   "id": "2587a25d-cdb8-4759-bcb4-e20bf5de0b0f",
   "metadata": {},
   "source": [
    "<div style=\"\n",
    "  margin: 40px 0;\n",
    "  padding: 20px;\n",
    "  background-color: #E1E1E1;\n",
    "  border-left: 6px solid #7c2301;\n",
    "  font-size: 20px;\n",
    "  font-weight: bold;\n",
    "  color: #2c3e50;\n",
    "  text-align: center;\n",
    "  border-radius: 10px;\n",
    "  box-shadow: 0 2px 5px rgba(0,0,0,0.1);\n",
    "\">\n",
    "  Cleanup after demo\n",
    "</div>"
   ]
  },
  {
   "cell_type": "code",
   "execution_count": null,
   "id": "ac2001c6-7019-4464-8ba5-0acfedc4a177",
   "metadata": {
    "tags": [],
    "vscode": {
     "languageId": "teradata sql"
    }
   },
   "outputs": [],
   "source": [
    "DROP TABLE iceberg_hive_gcp_demo.demodb.telecom_usage PURGE ALL;"
   ]
  },
  {
   "cell_type": "code",
   "execution_count": null,
   "id": "32f739ec-2b3b-41a8-a8f5-3b472cf43688",
   "metadata": {
    "tags": [],
    "vscode": {
     "languageId": "teradata sql"
    }
   },
   "outputs": [],
   "source": [
    "DROP DATABASE iceberg_hive_gcp_demo.demodb"
   ]
  },
  {
   "cell_type": "code",
   "execution_count": null,
   "id": "253691a4-cfd1-455e-b490-0b41b5a9de85",
   "metadata": {
    "tags": [],
    "vscode": {
     "languageId": "teradata sql"
    }
   },
   "outputs": [],
   "source": [
    "DROP TABLE iceberg_unity_gcp_demo.demodb.telecom_usage PURGE ALL;"
   ]
  },
  {
   "cell_type": "code",
   "execution_count": null,
   "id": "42865c2f-b5ef-4dc8-931a-560b59394b26",
   "metadata": {
    "tags": [],
    "vscode": {
     "languageId": "teradata sql"
    }
   },
   "outputs": [],
   "source": [
    "DROP TABLE iceberg_unity_gcp_demo.demodb.telecom_usage_copy PURGE ALL;"
   ]
  },
  {
   "cell_type": "code",
   "execution_count": null,
   "id": "80ad350f-aeeb-4e8c-960b-929865fa0fd8",
   "metadata": {
    "tags": [],
    "vscode": {
     "languageId": "teradata sql"
    }
   },
   "outputs": [],
   "source": [
    "DROP DATABASE iceberg_unity_gcp_demo.demodb"
   ]
  },
  {
   "cell_type": "code",
   "execution_count": null,
   "id": "14e7c5e7-f626-4766-a422-bfd916ef1d7c",
   "metadata": {
    "tags": [],
    "vscode": {
     "languageId": "teradata sql"
    }
   },
   "outputs": [],
   "source": [
    "DROP TABLE delta_unity_gcp_demo.demodb.telecom_usage PURGE ALL;"
   ]
  },
  {
   "cell_type": "code",
   "execution_count": null,
   "id": "33b345d6-8fb2-40b3-9e08-9e75edcb665d",
   "metadata": {
    "tags": [],
    "vscode": {
     "languageId": "teradata sql"
    }
   },
   "outputs": [],
   "source": [
    "DROP DATABASE delta_unity_gcp_demo.demodb"
   ]
  }
 ],
 "metadata": {
  "kernelspec": {
   "display_name": "Teradata SQL",
   "language": "Teradata SQL",
   "name": "teradatasql"
  },
  "language_info": {
   "codemirror_mode": "Teradata SQL",
   "file_extension": ".tdrs",
   "mimetype": "application/vnd.teradata.resultset",
   "name": "Teradata SQL",
   "nbconvert_exporter": "",
   "pygments_lexer": "",
   "version": "16.20"
  }
 },
 "nbformat": 4,
 "nbformat_minor": 5
}
