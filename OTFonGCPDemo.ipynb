{
 "cells": [
  {
   "cell_type": "markdown",
   "id": "60386bc4-99a4-43bc-8822-5e7903318f0b",
   "metadata": {},
   "source": [
    "<header>\n",
    "   <p  style='font-size:36px;font-family:Arial; color:#F0F0F0; background-color: #00233c; padding-left: 20pt; padding-top: 20pt;padding-bottom: 10pt; padding-right: 20pt;'>\n",
    "       Open Table Formats on Google Cloud\n",
    "  <br>\n",
    "       <img id=\"teradata-logo\" src=\"images/TeradataLogo.png\" alt=\"Teradata\" style=\"width: 125px; height: auto; margin-top: 20pt;\">\n",
    "    </p>\n",
    "</header>"
   ]
  },
  {
   "cell_type": "markdown",
   "id": "ac040117-29a2-4192-a1dd-972f61bf34fd",
   "metadata": {
    "tags": []
   },
   "source": [
    "<header>\n",
    "   <p  style='font-size:36px;font-family:Arial; color:#F0F0F0; background-color: #ffffff; padding-left: 20pt; padding-top: 20pt;padding-bottom: 10pt; padding-right: 20pt;'>\n",
    "       <img id=\"open-table-format\" src=\"images/OTFDiagram2.png\" alt=\"OTF\" style=\"height: auto; margin-top: 20pt;\">\n",
    "    </p>\n",
    "</header>\n",
    "<hr>"
   ]
  },
  {
   "cell_type": "markdown",
   "id": "6adb486f-a6c0-47a4-adb9-9c1752c26d9e",
   "metadata": {},
   "source": [
    "<div style=\"\n",
    "  margin: 40px 0;\n",
    "  padding: 20px;\n",
    "  background-color: #E1E1E1;\n",
    "  border-left: 6px solid #00237c;\n",
    "  font-size: 20px;\n",
    "  font-weight: bold;\n",
    "  color: #2c3e50;\n",
    "  text-align: center;\n",
    "  border-radius: 10px;\n",
    "  box-shadow: 0 2px 5px rgba(0,0,0,0.1);\n",
    "\">\n",
    "  Connecting to Teradata VantageCloud\n",
    "</div>"
   ]
  },
  {
   "cell_type": "markdown",
   "id": "a2040f98-c01b-4cdb-95fa-2def08bab8f6",
   "metadata": {},
   "source": [
    "##### Let’s start by connecting to our VantageCloud environment. This enables us to execute queries directly against Iceberg tables stored across clouds."
   ]
  },
  {
   "cell_type": "code",
   "execution_count": null,
   "id": "b48f8868-57ec-4768-af52-9e5a74595360",
   "metadata": {
    "tags": [],
    "vscode": {
     "languageId": "teradata sql"
    }
   },
   "outputs": [],
   "source": [
    "%connect otf_on_gcp"
   ]
  },
  {
   "cell_type": "markdown",
   "id": "29e82337-5d27-4fad-84da-700d51caa844",
   "metadata": {
    "tags": []
   },
   "source": [
    "<div style=\"\n",
    "  margin: 40px 0;\n",
    "  padding: 20px;\n",
    "  background-color: #E1E1E1;\n",
    "  border-left: 6px solid #237c01;\n",
    "  font-size: 20px;\n",
    "  font-weight: bold;\n",
    "  color: #2c3e50;\n",
    "  text-align: center;\n",
    "  border-radius: 10px;\n",
    "  box-shadow: 0 2px 5px rgba(0,0,0,0.1);\n",
    "\">\n",
    "  Creation Authorization and Datalake · Iceberg Hive Catalog\n",
    "</div>"
   ]
  },
  {
   "cell_type": "markdown",
   "id": "44380d9d-ee7f-4471-a5d1-42c60aeed092",
   "metadata": {},
   "source": [
    "##### We're dropping any pre-existing lake and credentials to avoid conflicts and ensure a fresh environment."
   ]
  },
  {
   "cell_type": "code",
   "execution_count": null,
   "id": "de97704b-540f-4178-a7da-c1c97290beeb",
   "metadata": {
    "tags": [],
    "vscode": {
     "languageId": "teradata sql"
    }
   },
   "outputs": [],
   "source": [
    "DROP DATALAKE iceberg_hive_gcp_demo;"
   ]
  },
  {
   "cell_type": "code",
   "execution_count": null,
   "id": "09a30117-eb21-4d59-bd8d-dedccefa65e7",
   "metadata": {
    "tags": [],
    "vscode": {
     "languageId": "teradata sql"
    }
   },
   "outputs": [],
   "source": [
    "DROP AUTHORIZATION iceberg_hive_gcp_private_key_demo;"
   ]
  },
  {
   "cell_type": "markdown",
   "id": "6841486c-909b-4fac-943f-b366a64a3231",
   "metadata": {},
   "source": [
    "##### Now we define a trusted authorization using a GCP service account. This allows secure access to our catalog and storage."
   ]
  },
  {
   "cell_type": "code",
   "execution_count": null,
   "id": "266236fe-6589-444c-8afe-4daf59d87364",
   "metadata": {
    "tags": [],
    "vscode": {
     "languageId": "teradata sql"
    }
   },
   "outputs": [],
   "source": [
    "CREATE AUTHORIZATION iceberg_hive_gcp_private_key_demo\n",
    "AS INVOKER TRUSTED\n",
    "USER '<USER>'\n",
    "PASSWORD '<PRIVATE KEY>';"
   ]
  },
  {
   "cell_type": "code",
   "execution_count": null,
   "id": "617ecba6-9613-4f36-8cae-dcd4ef6374bd",
   "metadata": {
    "tags": [],
    "vscode": {
     "languageId": "teradata sql"
    }
   },
   "outputs": [],
   "source": [
    "CREATE DATALAKE iceberg_hive_gcp_demo\n",
    "EXTERNAL SECURITY INVOKER TRUSTED CATALOG iceberg_hive_gcp_private_key_demo ,\n",
    "EXTERNAL SECURITY INVOKER TRUSTED STORAGE iceberg_hive_gcp_private_key_demo\n",
    "USING\n",
    "catalog_type  ('hive')\n",
    "catalog_location  ('thrift://<HOSTNAME>:<port>')\n",
    "storage_location  ('gs://<FOLDER>/')\n",
    "project_id('<PROJECT>')\n",
    "client_email('<USER>@<HOST>.iam.gserviceaccount.com')\n",
    "TABLE FORMAT iceberg ;"
   ]
  },
  {
   "cell_type": "code",
   "execution_count": null,
   "id": "d0994626-6918-4ec6-ba05-dd473001fca4",
   "metadata": {
    "tags": [],
    "vscode": {
     "languageId": "teradata sql"
    }
   },
   "outputs": [],
   "source": [
    "HELP DATALAKE iceberg_hive_gcp_demo;"
   ]
  },
  {
   "cell_type": "markdown",
   "id": "5d1a142b-fc34-4d05-ae27-f30d513b43a6",
   "metadata": {
    "tags": []
   },
   "source": [
    "<div style=\"\n",
    "  margin: 40px 0;\n",
    "  padding: 20px;\n",
    "  background-color: #E1E1E1;\n",
    "  border-left: 6px solid #237c01;\n",
    "  font-size: 20px;\n",
    "  font-weight: bold;\n",
    "  color: #2c3e50;\n",
    "  text-align: center;\n",
    "  border-radius: 10px;\n",
    "  box-shadow: 0 2px 5px rgba(0,0,0,0.1);\n",
    "\">\n",
    "  Creation Authorization and Datalake · Iceberg Unity Catalog\n",
    "</div>"
   ]
  },
  {
   "cell_type": "code",
   "execution_count": null,
   "id": "6d133ce1-89cb-416d-9b7f-a194a93c8a03",
   "metadata": {
    "tags": [],
    "vscode": {
     "languageId": "teradata sql"
    }
   },
   "outputs": [],
   "source": [
    "DROP DATALAKE iceberg_unity_gcp_demo;"
   ]
  },
  {
   "cell_type": "code",
   "execution_count": null,
   "id": "16aa44ed-7860-4162-9fc3-3edddf89a8f6",
   "metadata": {
    "tags": [],
    "vscode": {
     "languageId": "teradata sql"
    }
   },
   "outputs": [],
   "source": [
    "DROP AUTHORIZATION iceberg_unity_gcp_auth_demo;"
   ]
  },
  {
   "cell_type": "code",
   "execution_count": null,
   "id": "f0115d8e-dbf7-4690-983b-214e97ea75f8",
   "metadata": {
    "tags": [],
    "vscode": {
     "languageId": "teradata sql"
    }
   },
   "outputs": [],
   "source": [
    "DROP AUTHORIZATION iceberg_unity_gcp_auth_catalog_demo;"
   ]
  },
  {
   "cell_type": "markdown",
   "id": "84cfde25-be01-4e82-9f00-57a1012ded1a",
   "metadata": {
    "tags": []
   },
   "source": [
    "##### This split allows separate control over catalog and storage — useful for fine-grained security."
   ]
  },
  {
   "cell_type": "code",
   "execution_count": null,
   "id": "6e5549ea-0105-40e1-bfa6-a0205bcefa1b",
   "metadata": {
    "tags": [],
    "vscode": {
     "languageId": "teradata sql"
    }
   },
   "outputs": [],
   "source": [
    "CREATE AUTHORIZATION iceberg_unity_gcp_auth_demo\n",
    "AS INVOKER TRUSTED\n",
    "USER '<USER>'\n",
    "PASSWORD '<PRIVATE KEY'>;"
   ]
  },
  {
   "cell_type": "code",
   "execution_count": null,
   "id": "ffd5f2a0-5484-424d-908b-ab25fa02fcfa",
   "metadata": {
    "tags": [],
    "vscode": {
     "languageId": "teradata sql"
    }
   },
   "outputs": [],
   "source": [
    "CREATE AUTHORIZATION iceberg_unity_gcp_auth_catalog_demo\n",
    "AS INVOKER TRUSTED\n",
    "USER '<USER>'\n",
    "PASSWORD '<PRIVATE KEY'>;"
   ]
  },
  {
   "cell_type": "code",
   "execution_count": null,
   "id": "bac3acc0-3466-410c-946e-dda209b365f8",
   "metadata": {
    "tags": [],
    "vscode": {
     "languageId": "teradata sql"
    }
   },
   "outputs": [],
   "source": [
    "CREATE DATALAKE iceberg_unity_gcp_demo\n",
    "EXTERNAL SECURITY INVOKER TRUSTED STORAGE iceberg_unity_gcp_auth_demo,\n",
    "EXTERNAL SECURITY INVOKER TRUSTED CATALOG iceberg_unity_gcp_auth_catalog_demo\n",
    "USING\n",
    "catalog_type ('unity')\n",
    "catalog_location ('https://<HOST>/api/2.1/unity-catalog/iceberg')\n",
    "unity_catalog_name ('<CATALOG>')\n",
    "storage_location ('gs://<FOLDER>')\n",
    "project_id ('<PROJECT>')\n",
    "client_id ('<CLIENT>')\n",
    "client_email ('<USER>@<HOST>.iam.gserviceaccount.com')\n",
    "default_cluster_id ('<CLUSTER>')\n",
    "TABLE FORMAT iceberg ;"
   ]
  },
  {
   "cell_type": "code",
   "execution_count": null,
   "id": "d0c65d8e-94cc-47df-9585-b4e480c2ab7d",
   "metadata": {
    "tags": [],
    "vscode": {
     "languageId": "teradata sql"
    }
   },
   "outputs": [],
   "source": [
    "HELP DATALAKE iceberg_unity_gcp_demo;"
   ]
  },
  {
   "cell_type": "markdown",
   "id": "09b22e43-3e51-4f82-a857-8c1ddf60f456",
   "metadata": {},
   "source": [
    "<div style=\"\n",
    "  margin: 40px 0;\n",
    "  padding: 20px;\n",
    "  background-color: #E1E1E1;\n",
    "  border-left: 6px solid #237c01;\n",
    "  font-size: 20px;\n",
    "  font-weight: bold;\n",
    "  color: #2c3e50;\n",
    "  text-align: center;\n",
    "  border-radius: 10px;\n",
    "  box-shadow: 0 2px 5px rgba(0,0,0,0.1);\n",
    "\">\n",
    "  Creation Authorization and Datalake · Delta Lake Unity Catalog\n",
    "</div>"
   ]
  },
  {
   "cell_type": "code",
   "execution_count": null,
   "id": "194cd408-c50b-4d88-896c-a7a85c7bbd5b",
   "metadata": {
    "tags": [],
    "vscode": {
     "languageId": "teradata sql"
    }
   },
   "outputs": [],
   "source": [
    "DROP DATALAKE delta_unity_gcp_demo;"
   ]
  },
  {
   "cell_type": "code",
   "execution_count": null,
   "id": "5f3c9732-4581-4917-bef1-29a8be6a83a1",
   "metadata": {
    "tags": [],
    "vscode": {
     "languageId": "teradata sql"
    }
   },
   "outputs": [],
   "source": [
    "DROP AUTHORIZATION delta_unity_gcp_auth_demo;"
   ]
  },
  {
   "cell_type": "code",
   "execution_count": null,
   "id": "f7184176-5780-46d9-9064-87efdb4efe52",
   "metadata": {
    "tags": [],
    "vscode": {
     "languageId": "teradata sql"
    }
   },
   "outputs": [],
   "source": [
    "DROP AUTHORIZATION delta_unity_gcp_auth_catalog_demo;"
   ]
  },
  {
   "cell_type": "code",
   "execution_count": null,
   "id": "4439f5c0-47cd-4ae1-9774-9a010b70160d",
   "metadata": {
    "tags": [],
    "vscode": {
     "languageId": "teradata sql"
    }
   },
   "outputs": [],
   "source": [
    "CREATE AUTHORIZATION delta_unity_gcp_auth_demo\n",
    "AS INVOKER TRUSTED\n",
    "USER '<USER>'\n",
    "PASSWORD '<PRIVATE KEY>';"
   ]
  },
  {
   "cell_type": "code",
   "execution_count": null,
   "id": "63e3116a-e47f-4ae6-8b3f-fb5787f7e728",
   "metadata": {
    "tags": [],
    "vscode": {
     "languageId": "teradata sql"
    }
   },
   "outputs": [],
   "source": [
    "CREATE AUTHORIZATION delta_unity_gcp_auth_catalog_demo\n",
    "AS INVOKER TRUSTED\n",
    "USER '<USER>'\n",
    "PASSWORD '<PRIVATE KEY>';"
   ]
  },
  {
   "cell_type": "code",
   "execution_count": null,
   "id": "a5c41cc3-c3ff-44ad-ac31-0f3aa336dec1",
   "metadata": {
    "tags": [],
    "vscode": {
     "languageId": "teradata sql"
    }
   },
   "outputs": [],
   "source": [
    "CREATE DATALAKE delta_unity_gcp_demo\n",
    "EXTERNAL SECURITY INVOKER TRUSTED CATALOG delta_unity_gcp_auth_catalog_demo ,\n",
    "EXTERNAL SECURITY INVOKER TRUSTED STORAGE delta_unity_gcp_auth_demo\n",
    "USING\n",
    "catalog_type ('unity')\n",
    "catalog_location ('https://<HOST>/api')\n",
    "unity_catalog_name ('<CATALOG>')\n",
    "storage_location ('gs://<FOLDER>')\n",
    "project_id ('<PROJECT>')\n",
    "client_id ('<CLIENT>')\n",
    "client_email ('<USER>@<HOST>.iam.gserviceaccount.com')\n",
    "default_cluster_id ('<CLUSTER>')\n",
    "TABLE FORMAT deltalake ;"
   ]
  },
  {
   "cell_type": "code",
   "execution_count": null,
   "id": "e451a2d4-c86f-43fd-b055-90123df2d40e",
   "metadata": {
    "tags": [],
    "vscode": {
     "languageId": "teradata sql"
    }
   },
   "outputs": [],
   "source": [
    "HELP DATALAKE delta_unity_gcp_demo"
   ]
  },
  {
   "cell_type": "markdown",
   "id": "69763995-65a4-439b-8e85-218b681f96eb",
   "metadata": {},
   "source": [
    "<div style=\"\n",
    "  margin: 40px 0;\n",
    "  padding: 20px;\n",
    "  background-color: #E1E1E1;\n",
    "  border-left: 6px solid #7c2301;\n",
    "  font-size: 20px;\n",
    "  font-weight: bold;\n",
    "  color: #2c3e50;\n",
    "  text-align: center;\n",
    "  border-radius: 10px;\n",
    "  box-shadow: 0 2px 5px rgba(0,0,0,0.1);\n",
    "\">\n",
    "  Creating Tables and Inserting Data\n",
    "</div>"
   ]
  },
  {
   "cell_type": "markdown",
   "id": "51e70e39-bcf8-4cbf-972e-5eb5429107a0",
   "metadata": {},
   "source": [
    "### **First, we must create the corresponding databases and tables using the two-dot notation**\n",
    "\n",
    "### datalake.database.table\n",
    "#####"
   ]
  },
  {
   "cell_type": "code",
   "execution_count": null,
   "id": "d29379f6-2c98-438a-ba89-fe0c399cfcc7",
   "metadata": {
    "tags": [],
    "vscode": {
     "languageId": "teradata sql"
    }
   },
   "outputs": [],
   "source": [
    "CREATE DATABASE iceberg_hive_gcp_demo.demodb;"
   ]
  },
  {
   "cell_type": "code",
   "execution_count": null,
   "id": "9972bec1-6aae-4e66-8188-b8346de764d1",
   "metadata": {
    "tags": [],
    "vscode": {
     "languageId": "teradata sql"
    }
   },
   "outputs": [],
   "source": [
    "CREATE DATABASE iceberg_unity_gcp_demo.demodb;"
   ]
  },
  {
   "cell_type": "code",
   "execution_count": null,
   "id": "f4fe27c6-3ee3-4ff4-af8e-d7bd0d732adf",
   "metadata": {
    "tags": [],
    "vscode": {
     "languageId": "teradata sql"
    }
   },
   "outputs": [],
   "source": [
    "CREATE DATABASE delta_unity_gcp_demo.demodb;"
   ]
  },
  {
   "cell_type": "code",
   "execution_count": null,
   "id": "61858732-6a38-4396-9a22-b731856abc1a",
   "metadata": {
    "tags": [],
    "vscode": {
     "languageId": "teradata sql"
    }
   },
   "outputs": [],
   "source": [
    "CREATE TABLE iceberg_hive_gcp_demo.demodb.telecom_usage (\n",
    "    user_id INT,\n",
    "    call_date DATE,\n",
    "    call_duration_minutes INT,\n",
    "    data_used_mb FLOAT,\n",
    "    call_type VARCHAR(10),  -- 'local', 'international', 'roaming'\n",
    "    city VARCHAR(50),\n",
    "    network_type VARCHAR(10) -- '4G', '5G', '3G'\n",
    ");"
   ]
  },
  {
   "cell_type": "code",
   "execution_count": null,
   "id": "57f0be28-da70-4664-9c21-2748000e3d2d",
   "metadata": {
    "tags": [],
    "vscode": {
     "languageId": "teradata sql"
    }
   },
   "outputs": [],
   "source": [
    "CREATE TABLE iceberg_unity_gcp_demo.demodb.telecom_usage (\n",
    "    user_id INT,\n",
    "    call_date DATE,\n",
    "    call_duration_minutes INT,\n",
    "    data_used_mb FLOAT,\n",
    "    call_type VARCHAR(10),  -- 'local', 'international', 'roaming'\n",
    "    city VARCHAR(50),\n",
    "    network_type VARCHAR(10) -- '4G', '5G', '3G'\n",
    ");"
   ]
  },
  {
   "cell_type": "code",
   "execution_count": null,
   "id": "f3b2cabe-2439-4781-81f4-0f847d4bdf96",
   "metadata": {
    "tags": [],
    "vscode": {
     "languageId": "teradata sql"
    }
   },
   "outputs": [],
   "source": [
    "CREATE TABLE delta_unity_gcp_demo.demodb.telecom_usage (\n",
    "    user_id INT,\n",
    "    call_date DATE,\n",
    "    call_duration_minutes INT,\n",
    "    data_used_mb FLOAT,\n",
    "    call_type VARCHAR(10),  -- 'local', 'international', 'roaming'\n",
    "    city VARCHAR(50),\n",
    "    network_type VARCHAR(10) -- '4G', '5G', '3G'\n",
    ");"
   ]
  },
  {
   "cell_type": "markdown",
   "id": "0a079d15-54f0-4e4a-87c3-baf1e60b7ad2",
   "metadata": {
    "tags": []
   },
   "source": [
    "### **Insert different sample datasets on all three datalakes**\n",
    "####"
   ]
  },
  {
   "cell_type": "code",
   "execution_count": null,
   "id": "32174193-b51a-4504-abb9-2896cdfdbf6a",
   "metadata": {
    "tags": [],
    "vscode": {
     "languageId": "teradata sql"
    }
   },
   "outputs": [],
   "source": [
    "INSERT INTO iceberg_hive_gcp_demo.demodb.telecom_usage VALUES (1, DATE '2025-04-01', 10, 150.5, 'local', 'Mexico City', '5G');"
   ]
  },
  {
   "cell_type": "code",
   "execution_count": null,
   "id": "9e5b5bf6-69f2-4f28-9942-7787625e88c2",
   "metadata": {
    "tags": [],
    "vscode": {
     "languageId": "teradata sql"
    }
   },
   "outputs": [],
   "source": [
    "INSERT INTO iceberg_hive_gcp_demo.demodb.telecom_usage VALUES (2, DATE '2025-04-01', 5, 50.2, 'international', 'Monterrey', '4G');"
   ]
  },
  {
   "cell_type": "code",
   "execution_count": null,
   "id": "a185ae18-26bb-4cdb-8b4b-ffe6a4852c8d",
   "metadata": {
    "tags": [],
    "vscode": {
     "languageId": "teradata sql"
    }
   },
   "outputs": [],
   "source": [
    "INSERT INTO iceberg_hive_gcp_demo.demodb.telecom_usage VALUES (3, DATE '2025-04-01', 2, 20.0, 'roaming', 'Guadalajara', '3G');"
   ]
  },
  {
   "cell_type": "code",
   "execution_count": null,
   "id": "6310aed9-abbf-4556-ad90-78c7e74e4b4b",
   "metadata": {
    "tags": [],
    "vscode": {
     "languageId": "teradata sql"
    }
   },
   "outputs": [],
   "source": [
    "INSERT INTO iceberg_hive_gcp_demo.demodb.telecom_usage VALUES (1, DATE '2025-04-02', 15, 100.3, 'local', 'Mexico City', '5G');"
   ]
  },
  {
   "cell_type": "code",
   "execution_count": null,
   "id": "2f6417a8-958a-431b-8bbd-f5f6030b1d75",
   "metadata": {
    "tags": [],
    "vscode": {
     "languageId": "teradata sql"
    }
   },
   "outputs": [],
   "source": [
    "INSERT INTO iceberg_hive_gcp_demo.demodb.telecom_usage VALUES (2, DATE '2025-04-02', 8, 30.0, 'local', 'Monterrey', '4G');;"
   ]
  },
  {
   "cell_type": "code",
   "execution_count": null,
   "id": "6a6b5fee-3387-4766-811c-29cea8e70481",
   "metadata": {
    "tags": [],
    "vscode": {
     "languageId": "teradata sql"
    }
   },
   "outputs": [],
   "source": [
    "INSERT INTO iceberg_unity_gcp_demo.demodb.telecom_usage VALUES (7, DATE '2025-04-01', 12, 180.0, 'local', 'Wroclaw', '5G');"
   ]
  },
  {
   "cell_type": "code",
   "execution_count": null,
   "id": "7914e862-d922-4e3a-9e74-3aca7c2796d9",
   "metadata": {
    "tags": [],
    "vscode": {
     "languageId": "teradata sql"
    }
   },
   "outputs": [],
   "source": [
    "INSERT INTO iceberg_unity_gcp_demo.demodb.telecom_usage VALUES (8, DATE '2025-04-01', 6, 60.0, 'international', 'Gdansk', '4G');"
   ]
  },
  {
   "cell_type": "code",
   "execution_count": null,
   "id": "712c0b90-763e-4823-91db-21a434158d3c",
   "metadata": {
    "tags": [],
    "vscode": {
     "languageId": "teradata sql"
    }
   },
   "outputs": [],
   "source": [
    "INSERT INTO iceberg_unity_gcp_demo.demodb.telecom_usage VALUES (9, DATE '2025-04-01', 2, 25.0, 'roaming', 'Poznan', '3G');"
   ]
  },
  {
   "cell_type": "code",
   "execution_count": null,
   "id": "3b32f244-e6dc-4534-a222-9b2788ac6f9d",
   "metadata": {
    "tags": [],
    "vscode": {
     "languageId": "teradata sql"
    }
   },
   "outputs": [],
   "source": [
    "INSERT INTO iceberg_unity_gcp_demo.demodb.telecom_usage VALUES (7, DATE '2025-04-02', 10, 190.5, 'local', 'Wroclaw', '5G');"
   ]
  },
  {
   "cell_type": "code",
   "execution_count": null,
   "id": "9e0efb50-7aed-4c42-956d-cf73e4c927f0",
   "metadata": {
    "tags": [],
    "vscode": {
     "languageId": "teradata sql"
    }
   },
   "outputs": [],
   "source": [
    "INSERT INTO iceberg_unity_gcp_demo.demodb.telecom_usage VALUES (8, DATE '2025-04-02', 4, 40.0, 'local', 'Gdansk', '4G');"
   ]
  },
  {
   "cell_type": "code",
   "execution_count": null,
   "id": "aa0eab77-0198-46de-822b-a6bc88892fae",
   "metadata": {
    "tags": [],
    "vscode": {
     "languageId": "teradata sql"
    }
   },
   "outputs": [],
   "source": [
    "INSERT INTO delta_unity_gcp_demo.demodb.telecom_usage VALUES (4, DATE '2025-04-01', 7, 95.0, 'local', 'Warsaw', '5G');"
   ]
  },
  {
   "cell_type": "code",
   "execution_count": null,
   "id": "05a6e1c9-7d18-4d19-a9e9-bd417aeb1911",
   "metadata": {
    "tags": [],
    "vscode": {
     "languageId": "teradata sql"
    }
   },
   "outputs": [],
   "source": [
    "INSERT INTO delta_unity_gcp_demo.demodb.telecom_usage VALUES (5, DATE '2025-04-01', 3, 35.2, 'international', 'Krakow', '4G');"
   ]
  },
  {
   "cell_type": "code",
   "execution_count": null,
   "id": "266b6bd7-6216-47e2-ace6-6a046e08f1be",
   "metadata": {
    "tags": [],
    "vscode": {
     "languageId": "teradata sql"
    }
   },
   "outputs": [],
   "source": [
    "INSERT INTO delta_unity_gcp_demo.demodb.telecom_usage VALUES (6, DATE '2025-04-01', 1, 15.0, 'roaming', 'Lodz', '3G');"
   ]
  },
  {
   "cell_type": "code",
   "execution_count": null,
   "id": "57c765b1-fa4a-4d3a-91fd-d1a9bdd89505",
   "metadata": {
    "tags": [],
    "vscode": {
     "languageId": "teradata sql"
    }
   },
   "outputs": [],
   "source": [
    "INSERT INTO delta_unity_gcp_demo.demodb.telecom_usage VALUES (4, DATE '2025-04-02', 11, 110.0, 'local', 'Warsaw', '5G');"
   ]
  },
  {
   "cell_type": "code",
   "execution_count": null,
   "id": "8ff11e2f-28f4-4a51-b677-4fce0671c57d",
   "metadata": {
    "tags": [],
    "vscode": {
     "languageId": "teradata sql"
    }
   },
   "outputs": [],
   "source": [
    "INSERT INTO delta_unity_gcp_demo.demodb.telecom_usage VALUES (5, DATE '2025-04-02', 4, 45.5, 'local', 'Krakow', '4G');"
   ]
  },
  {
   "cell_type": "markdown",
   "id": "721c2b82-4523-43eb-8348-8acda3a98e14",
   "metadata": {},
   "source": [
    "<div style=\"\n",
    "  margin: 40px 0;\n",
    "  padding: 20px;\n",
    "  background-color: #E1E1E1;\n",
    "  border-left: 6px solid #7c2301;\n",
    "  font-size: 20px;\n",
    "  font-weight: bold;\n",
    "  color: #2c3e50;\n",
    "  text-align: center;\n",
    "  border-radius: 10px;\n",
    "  box-shadow: 0 2px 5px rgba(0,0,0,0.1);\n",
    "\">\n",
    "  Querying data from different sources\n",
    "</div>"
   ]
  },
  {
   "cell_type": "code",
   "execution_count": null,
   "id": "6dbd755e-f805-4a06-b198-13c74e742cb4",
   "metadata": {
    "tags": [],
    "vscode": {
     "languageId": "teradata sql"
    }
   },
   "outputs": [],
   "source": [
    "SELECT * FROM iceberg_hive_gcp_demo.demodb.telecom_usage;"
   ]
  },
  {
   "cell_type": "code",
   "execution_count": null,
   "id": "6ec2b10a-5ad5-4265-a425-95a4121d1913",
   "metadata": {
    "tags": [],
    "vscode": {
     "languageId": "teradata sql"
    }
   },
   "outputs": [],
   "source": [
    "SELECT \n",
    "    user_id,\n",
    "    SUM(call_duration_minutes) AS total_minutes,\n",
    "    SUM(data_used_mb) AS total_data_mb\n",
    "FROM iceberg_unity_gcp_demo.demodb.telecom_usage\n",
    "GROUP BY user_id\n",
    "ORDER BY total_data_mb DESC;"
   ]
  },
  {
   "cell_type": "code",
   "execution_count": null,
   "id": "b7f15077-c4c1-4c61-bc3a-ce14b6a9a9f4",
   "metadata": {
    "tags": [],
    "vscode": {
     "languageId": "teradata sql"
    }
   },
   "outputs": [],
   "source": [
    "SELECT \n",
    "    user_id,\n",
    "    SUM(call_duration_minutes) AS total_minutes,\n",
    "    SUM(data_used_mb) AS total_data_mb\n",
    "FROM iceberg_unity_gcp_demo.demodb.telecom_usage\n",
    "GROUP BY user_id\n",
    "ORDER BY total_data_mb DESC;"
   ]
  },
  {
   "cell_type": "code",
   "execution_count": null,
   "id": "61c5fbaf-0c33-4ee9-b026-4f4aaa1fd2de",
   "metadata": {
    "tags": [],
    "vscode": {
     "languageId": "teradata sql"
    }
   },
   "outputs": [],
   "source": [
    "SELECT \n",
    "    call_date,\n",
    "    SUM(data_used_mb) AS total_daily_data_mb\n",
    "FROM delta_unity_gcp_demo.demodb.telecom_usage\n",
    "GROUP BY call_date\n",
    "ORDER BY call_date;"
   ]
  },
  {
   "cell_type": "markdown",
   "id": "71758330-b9ee-46c7-8b0e-fdf98d119991",
   "metadata": {},
   "source": [
    "## Cross-Catalog (Iceberg Unity with Iceberg Hive)"
   ]
  },
  {
   "cell_type": "code",
   "execution_count": null,
   "id": "855326d8-4505-4e09-91ab-94600234f187",
   "metadata": {
    "tags": [],
    "vscode": {
     "languageId": "teradata sql"
    }
   },
   "outputs": [],
   "source": [
    "WITH rtbl AS (\n",
    "    SELECT * FROM iceberg_hive_gcp_demo.demodb.telecom_usage\n",
    "), \n",
    "ltbl AS (\n",
    "    SELECT * FROM iceberg_unity_gcp_demo.demodb.telecom_usage\n",
    ")\n",
    "\n",
    "SELECT\n",
    "    COALESCE(rtbl.user_id, ltbl.user_id) AS user_id,\n",
    "    COALESCE(rtbl.call_date, ltbl.call_date) AS call_date,\n",
    "    COALESCE(rtbl.call_type, ltbl.call_type) AS call_type,\n",
    "    COALESCE(rtbl.city, ltbl.city) AS city,\n",
    "    COALESCE(rtbl.network_type, ltbl.network_type) AS network_type,\n",
    "    COALESCE(rtbl.call_duration_minutes, ltbl.call_duration_minutes) AS call_duration_minutes,\n",
    "    COALESCE(rtbl.data_used_mb, ltbl.data_used_mb) AS data_used_mb\n",
    "FROM rtbl\n",
    "FULL OUTER JOIN ltbl \n",
    "    ON rtbl.user_id = ltbl.user_id \n",
    "   AND rtbl.call_date = ltbl.call_date;"
   ]
  },
  {
   "cell_type": "markdown",
   "id": "980311f2-32ae-438e-8647-ec6b9e02e9dd",
   "metadata": {},
   "source": [
    "## Cross-Lake (Iceberg Hive with Delta Lake Unity)"
   ]
  },
  {
   "cell_type": "code",
   "execution_count": null,
   "id": "e4b8beb0-c560-4c70-96ae-25e975f3d0a3",
   "metadata": {
    "tags": [],
    "vscode": {
     "languageId": "teradata sql"
    }
   },
   "outputs": [],
   "source": [
    "WITH rtbl AS (\n",
    "    SELECT * FROM iceberg_hive_gcp_demo.demodb.telecom_usage\n",
    "), \n",
    "ltbl AS (\n",
    "    SELECT * FROM delta_unity_gcp_demo.demodb.telecom_usage\n",
    ")\n",
    "\n",
    "SELECT\n",
    "    COALESCE(rtbl.user_id, ltbl.user_id) AS user_id,\n",
    "    COALESCE(rtbl.call_date, ltbl.call_date) AS call_date,\n",
    "    COALESCE(rtbl.call_type, ltbl.call_type) AS call_type,\n",
    "    COALESCE(rtbl.city, ltbl.city) AS city,\n",
    "    COALESCE(rtbl.network_type, ltbl.network_type) AS network_type,\n",
    "    COALESCE(rtbl.call_duration_minutes, ltbl.call_duration_minutes) AS call_duration_minutes,\n",
    "    COALESCE(rtbl.data_used_mb, ltbl.data_used_mb) AS data_used_mb\n",
    "FROM rtbl\n",
    "FULL OUTER JOIN ltbl \n",
    "    ON rtbl.user_id = ltbl.user_id \n",
    "   AND rtbl.call_date = ltbl.call_date;"
   ]
  },
  {
   "cell_type": "markdown",
   "id": "71eb41fc-dbb3-446a-9937-6996f1f6ada8",
   "metadata": {},
   "source": [
    "## Cross-Catalog + Cross-Lake (All three!!)"
   ]
  },
  {
   "cell_type": "code",
   "execution_count": null,
   "id": "4e9edda5-cb66-4f8c-bd15-17acbc268dc9",
   "metadata": {
    "tags": [],
    "vscode": {
     "languageId": "teradata sql"
    }
   },
   "outputs": [],
   "source": [
    "WITH tbl1 AS (\n",
    "    SELECT * FROM delta_unity_gcp_demo.demodb.telecom_usage\n",
    "),\n",
    "tbl2 AS (\n",
    "    SELECT * FROM iceberg_unity_gcp_demo.demodb.telecom_usage\n",
    "),\n",
    "tbl3 AS (\n",
    "    SELECT * FROM iceberg_hive_gcp_demo.demodb.telecom_usage\n",
    "),\n",
    "combined_1_2 AS (\n",
    "    SELECT\n",
    "        COALESCE(tbl1.user_id, tbl2.user_id) AS user_id,\n",
    "        COALESCE(tbl1.call_date, tbl2.call_date) AS call_date,\n",
    "        COALESCE(tbl1.call_type, tbl2.call_type) AS call_type,\n",
    "        COALESCE(tbl1.city, tbl2.city) AS city,\n",
    "        COALESCE(tbl1.network_type, tbl2.network_type) AS network_type,\n",
    "        COALESCE(tbl1.call_duration_minutes, tbl2.call_duration_minutes) AS call_duration_minutes,\n",
    "        COALESCE(tbl1.data_used_mb, tbl2.data_used_mb) AS data_used_mb\n",
    "    FROM tbl1\n",
    "    FULL OUTER JOIN tbl2\n",
    "        ON tbl1.user_id = tbl2.user_id\n",
    "        AND tbl1.call_date = tbl2.call_date\n",
    "),\n",
    "final_combined AS (\n",
    "    SELECT\n",
    "        COALESCE(combined_1_2.user_id, tbl3.user_id) AS user_id,\n",
    "        COALESCE(combined_1_2.call_date, tbl3.call_date) AS call_date,\n",
    "        COALESCE(combined_1_2.call_type, tbl3.call_type) AS call_type,\n",
    "        COALESCE(combined_1_2.city, tbl3.city) AS city,\n",
    "        COALESCE(combined_1_2.network_type, tbl3.network_type) AS network_type,\n",
    "        COALESCE(combined_1_2.call_duration_minutes, tbl3.call_duration_minutes) AS call_duration_minutes,\n",
    "        COALESCE(combined_1_2.data_used_mb, tbl3.data_used_mb) AS data_used_mb\n",
    "    FROM combined_1_2\n",
    "    FULL OUTER JOIN tbl3\n",
    "        ON combined_1_2.user_id = tbl3.user_id\n",
    "        AND combined_1_2.call_date = tbl3.call_date\n",
    ")\n",
    "\n",
    "SELECT * FROM final_combined;"
   ]
  },
  {
   "cell_type": "markdown",
   "id": "192d5fb3-2717-4896-9807-26f2a85586dc",
   "metadata": {},
   "source": [
    "<div style=\"\n",
    "  margin: 40px 0;\n",
    "  padding: 20px;\n",
    "  background-color: #E1E1E1;\n",
    "  border-left: 6px solid #7c2301;\n",
    "  font-size: 20px;\n",
    "  font-weight: bold;\n",
    "  color: #2c3e50;\n",
    "  text-align: center;\n",
    "  border-radius: 10px;\n",
    "  box-shadow: 0 2px 5px rgba(0,0,0,0.1);\n",
    "\">\n",
    "  Metadata Exploration\n",
    "</div>"
   ]
  },
  {
   "cell_type": "code",
   "execution_count": null,
   "id": "aca3792b-c2ec-416e-a201-fc9e11380ad8",
   "metadata": {
    "tags": [],
    "vscode": {
     "languageId": "teradata sql"
    }
   },
   "outputs": [],
   "source": [
    "HELP DATALAKE iceberg_hive_gcp_demo"
   ]
  },
  {
   "cell_type": "code",
   "execution_count": null,
   "id": "9f49f73d-27a9-47b8-a44d-8d0b990858dc",
   "metadata": {
    "tags": [],
    "vscode": {
     "languageId": "teradata sql"
    }
   },
   "outputs": [],
   "source": [
    "HELP DATABASE iceberg_hive_gcp_demo.demodb"
   ]
  },
  {
   "cell_type": "code",
   "execution_count": null,
   "id": "f9bad91d-5eb2-423a-8c62-8d31e291e0f7",
   "metadata": {
    "tags": [],
    "vscode": {
     "languageId": "teradata sql"
    }
   },
   "outputs": [],
   "source": [
    "HELP TABLE delta_unity_gcp_demo.demodb.telecom_usage"
   ]
  },
  {
   "cell_type": "markdown",
   "id": "6a249bec-e3bd-4e02-82a9-e60bdd128bf5",
   "metadata": {},
   "source": [
    "<div style=\"\n",
    "  margin: 40px 0;\n",
    "  padding: 20px;\n",
    "  background-color: #E1E1E1;\n",
    "  border-left: 6px solid #7c2301;\n",
    "  font-size: 20px;\n",
    "  font-weight: bold;\n",
    "  color: #2c3e50;\n",
    "  text-align: center;\n",
    "  border-radius: 10px;\n",
    "  box-shadow: 0 2px 5px rgba(0,0,0,0.1);\n",
    "\">\n",
    "  Schema Evolution\n",
    "</div>"
   ]
  },
  {
   "cell_type": "code",
   "execution_count": null,
   "id": "68133446-6a5d-4dec-b212-b116d41047df",
   "metadata": {
    "tags": [],
    "vscode": {
     "languageId": "teradata sql"
    }
   },
   "outputs": [],
   "source": [
    "CREATE TABLE iceberg_unity_gcp_demo.demodb.telecom_usage_copy\n",
    "\n",
    "AS ( SELECT * FROM iceberg_unity_gcp_demo.demodb.telecom_usage AS D ) \n",
    "\n",
    "WITH DATA; "
   ]
  },
  {
   "cell_type": "code",
   "execution_count": null,
   "id": "71b0e7cb-e4fc-402a-9c4c-cc0ed7da688e",
   "metadata": {
    "tags": [],
    "vscode": {
     "languageId": "teradata sql"
    }
   },
   "outputs": [],
   "source": [
    "ALTER TABLE iceberg_unity_gcp_demo.demodb.telecom_usage_copy ADD caller_name VARCHAR(50);"
   ]
  },
  {
   "cell_type": "code",
   "execution_count": null,
   "id": "f8ae94db-611d-41fc-a98b-d9cbf45dafe2",
   "metadata": {
    "tags": [],
    "vscode": {
     "languageId": "teradata sql"
    }
   },
   "outputs": [],
   "source": [
    "HELP TABLE iceberg_unity_gcp_demo.demodb.telecom_usage_copy"
   ]
  },
  {
   "cell_type": "code",
   "execution_count": null,
   "id": "3d942b69-8327-45b5-a11c-52af1b68e940",
   "metadata": {
    "tags": [],
    "vscode": {
     "languageId": "teradata sql"
    }
   },
   "outputs": [],
   "source": [
    "INSERT INTO iceberg_unity_gcp_demo.demodb.telecom_usage_copy VALUES (7, DATE '2025-03-02', 10, 190.5, 'local', 'Lodz', '4G', 'Alejandro Fernandez');"
   ]
  },
  {
   "cell_type": "code",
   "execution_count": null,
   "id": "6b522228-f5cc-45f4-9b42-ace67a99d389",
   "metadata": {
    "tags": [],
    "vscode": {
     "languageId": "teradata sql"
    }
   },
   "outputs": [],
   "source": [
    "SELECT * FROM iceberg_unity_gcp_demo.demodb.telecom_usage_copy;"
   ]
  },
  {
   "cell_type": "markdown",
   "id": "fe460cd0-9048-4110-80ca-fa4bc6adbf9c",
   "metadata": {},
   "source": [
    "<div style=\"\n",
    "  margin: 40px 0;\n",
    "  padding: 20px;\n",
    "  background-color: #E1E1E1;\n",
    "  border-left: 6px solid #7c2301;\n",
    "  font-size: 20px;\n",
    "  font-weight: bold;\n",
    "  color: #2c3e50;\n",
    "  text-align: center;\n",
    "  border-radius: 10px;\n",
    "  box-shadow: 0 2px 5px rgba(0,0,0,0.1);\n",
    "\">\n",
    "  Time Travel and Snapshots\n",
    "</div>"
   ]
  },
  {
   "cell_type": "code",
   "execution_count": null,
   "id": "8086bc8c-d96c-4883-b291-b23df04f3d83",
   "metadata": {
    "tags": [],
    "vscode": {
     "languageId": "teradata sql"
    }
   },
   "outputs": [],
   "source": [
    "SELECT * FROM TD_SNAPSHOTS (ON (iceberg_unity_gcp_demo.demodb.telecom_usage_copy)) D; "
   ]
  },
  {
   "cell_type": "code",
   "execution_count": null,
   "id": "aac2014c-d26d-4254-9407-878ff825b533",
   "metadata": {
    "tags": [],
    "vscode": {
     "languageId": "teradata sql"
    }
   },
   "outputs": [],
   "source": [
    "SELECT * FROM iceberg_unity_gcp_demo.demodb.telecom_usage_copy FOR SNAPSHOT AS OF '4522097144108256694'; "
   ]
  },
  {
   "cell_type": "code",
   "execution_count": null,
   "id": "f8f951a1-a7e0-4c94-b9ba-9d87d2dcf9d9",
   "metadata": {
    "tags": [],
    "vscode": {
     "languageId": "teradata sql"
    }
   },
   "outputs": [],
   "source": [
    "SELECT * FROM iceberg_unity_gcp_demo.demodb.telecom_usage_copy FOR SNAPSHOT AS OF TIMESTAMP'2025-04-25 02:01:00'; "
   ]
  },
  {
   "cell_type": "markdown",
   "id": "2587a25d-cdb8-4759-bcb4-e20bf5de0b0f",
   "metadata": {},
   "source": [
    "<div style=\"\n",
    "  margin: 40px 0;\n",
    "  padding: 20px;\n",
    "  background-color: #E1E1E1;\n",
    "  border-left: 6px solid #7c2301;\n",
    "  font-size: 20px;\n",
    "  font-weight: bold;\n",
    "  color: #2c3e50;\n",
    "  text-align: center;\n",
    "  border-radius: 10px;\n",
    "  box-shadow: 0 2px 5px rgba(0,0,0,0.1);\n",
    "\">\n",
    "  Cleanup after demo\n",
    "</div>"
   ]
  },
  {
   "cell_type": "code",
   "execution_count": null,
   "id": "ac2001c6-7019-4464-8ba5-0acfedc4a177",
   "metadata": {
    "tags": [],
    "vscode": {
     "languageId": "teradata sql"
    }
   },
   "outputs": [],
   "source": [
    "DROP TABLE iceberg_hive_gcp_demo.demodb.telecom_usage PURGE ALL;"
   ]
  },
  {
   "cell_type": "code",
   "execution_count": null,
   "id": "32f739ec-2b3b-41a8-a8f5-3b472cf43688",
   "metadata": {
    "tags": [],
    "vscode": {
     "languageId": "teradata sql"
    }
   },
   "outputs": [],
   "source": [
    "DROP DATABASE iceberg_hive_gcp_demo.demodb"
   ]
  },
  {
   "cell_type": "code",
   "execution_count": null,
   "id": "253691a4-cfd1-455e-b490-0b41b5a9de85",
   "metadata": {
    "tags": [],
    "vscode": {
     "languageId": "teradata sql"
    }
   },
   "outputs": [],
   "source": [
    "DROP TABLE iceberg_unity_gcp_demo.demodb.telecom_usage PURGE ALL;"
   ]
  },
  {
   "cell_type": "code",
   "execution_count": null,
   "id": "42865c2f-b5ef-4dc8-931a-560b59394b26",
   "metadata": {
    "tags": [],
    "vscode": {
     "languageId": "teradata sql"
    }
   },
   "outputs": [],
   "source": [
    "DROP TABLE iceberg_unity_gcp_demo.demodb.telecom_usage_copy PURGE ALL;"
   ]
  },
  {
   "cell_type": "code",
   "execution_count": null,
   "id": "80ad350f-aeeb-4e8c-960b-929865fa0fd8",
   "metadata": {
    "tags": [],
    "vscode": {
     "languageId": "teradata sql"
    }
   },
   "outputs": [],
   "source": [
    "DROP DATABASE iceberg_unity_gcp_demo.demodb"
   ]
  },
  {
   "cell_type": "code",
   "execution_count": null,
   "id": "14e7c5e7-f626-4766-a422-bfd916ef1d7c",
   "metadata": {
    "tags": [],
    "vscode": {
     "languageId": "teradata sql"
    }
   },
   "outputs": [],
   "source": [
    "DROP TABLE delta_unity_gcp_demo.demodb.telecom_usage PURGE ALL;"
   ]
  },
  {
   "cell_type": "code",
   "execution_count": null,
   "id": "33b345d6-8fb2-40b3-9e08-9e75edcb665d",
   "metadata": {
    "tags": [],
    "vscode": {
     "languageId": "teradata sql"
    }
   },
   "outputs": [],
   "source": [
    "DROP DATABASE delta_unity_gcp_demo.demodb"
   ]
  }
 ],
 "metadata": {
  "kernelspec": {
   "display_name": "Teradata SQL",
   "language": "Teradata SQL",
   "name": "teradatasql"
  },
  "language_info": {
   "codemirror_mode": "Teradata SQL",
   "file_extension": ".tdrs",
   "mimetype": "application/vnd.teradata.resultset",
   "name": "Teradata SQL",
   "nbconvert_exporter": "",
   "pygments_lexer": "",
   "version": "16.20"
  }
 },
 "nbformat": 4,
 "nbformat_minor": 5
}
